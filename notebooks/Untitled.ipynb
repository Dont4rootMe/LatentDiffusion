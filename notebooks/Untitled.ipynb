{
 "cells": [
  {
   "cell_type": "code",
   "execution_count": 1,
   "id": "bef6b233-73a1-4a14-912c-4080a0c29e76",
   "metadata": {},
   "outputs": [],
   "source": [
    "%load_ext autoreload\n",
    "%autoreload 2"
   ]
  },
  {
   "cell_type": "code",
   "execution_count": 2,
   "id": "e60010f5-dd5f-4c99-ac47-1180b5977f68",
   "metadata": {},
   "outputs": [],
   "source": [
    "import sys\n",
    "\n",
    "sys.path.append(\"/home/jovyan/vmeshchaninov/HierarchicalDiffusion\")"
   ]
  },
  {
   "cell_type": "code",
   "execution_count": 3,
   "id": "b01659cc-21a8-4332-94b9-4e4ab7ffca21",
   "metadata": {},
   "outputs": [
    {
     "name": "stderr",
     "output_type": "stream",
     "text": [
      "/home/jovyan/.mlspace/envs/dif_env_v2/lib/python3.11/site-packages/tqdm/auto.py:21: TqdmWarning: IProgress not found. Please update jupyter and ipywidgets. See https://ipywidgets.readthedocs.io/en/stable/user_install.html\n",
      "  from .autonotebook import tqdm as notebook_tqdm\n"
     ]
    }
   ],
   "source": [
    "from datasets import load_from_disk"
   ]
  },
  {
   "cell_type": "code",
   "execution_count": 4,
   "id": "35d5a337-8476-4787-9b6e-04db38352579",
   "metadata": {},
   "outputs": [],
   "source": [
    "data = load_from_disk(\"/home/jovyan/vmeshchaninov/HierarchicalDiffusion/data/rocstories\")"
   ]
  },
  {
   "cell_type": "code",
   "execution_count": 8,
   "id": "3c0249e3",
   "metadata": {},
   "outputs": [
    {
     "name": "stderr",
     "output_type": "stream",
     "text": [
      "Saving the dataset (1/1 shards): 100%|██████████| 88161/88161 [00:00<00:00, 1904628.16 examples/s]\n",
      "Saving the dataset (1/1 shards): 100%|██████████| 10000/10000 [00:00<00:00, 856207.57 examples/s]\n"
     ]
    }
   ],
   "source": [
    "data.rename_column(\"target\", \"text_trg\").save_to_disk(\"/home/jovyan/vmeshchaninov/HierarchicalDiffusion/data/rocstories_text_trg\")"
   ]
  },
  {
   "cell_type": "code",
   "execution_count": null,
   "id": "1b3249ab",
   "metadata": {},
   "outputs": [],
   "source": []
  },
  {
   "cell_type": "code",
   "execution_count": 4,
   "id": "416f7265-dbc8-4a30-94db-f2a604944ccf",
   "metadata": {},
   "outputs": [
    {
     "ename": "ModuleNotFoundError",
     "evalue": "No module named 'torch'",
     "output_type": "error",
     "traceback": [
      "\u001b[0;31m---------------------------------------------------------------------------\u001b[0m",
      "\u001b[0;31mModuleNotFoundError\u001b[0m                       Traceback (most recent call last)",
      "\u001b[0;32m/tmp/ipykernel_20071/4139777440.py\u001b[0m in \u001b[0;36m<module>\u001b[0;34m\u001b[0m\n\u001b[1;32m      1\u001b[0m \u001b[0;32mfrom\u001b[0m \u001b[0mtransformers\u001b[0m \u001b[0;32mimport\u001b[0m \u001b[0mAutoModelForSeq2SeqLM\u001b[0m\u001b[0;34m,\u001b[0m \u001b[0mAutoTokenizer\u001b[0m\u001b[0;34m\u001b[0m\u001b[0;34m\u001b[0m\u001b[0m\n\u001b[0;32m----> 2\u001b[0;31m \u001b[0;32mfrom\u001b[0m \u001b[0mtorch\u001b[0m\u001b[0;34m.\u001b[0m\u001b[0mutils\u001b[0m\u001b[0;34m.\u001b[0m\u001b[0mdata\u001b[0m \u001b[0;32mimport\u001b[0m \u001b[0mDataLoader\u001b[0m\u001b[0;34m\u001b[0m\u001b[0;34m\u001b[0m\u001b[0m\n\u001b[0m\u001b[1;32m      3\u001b[0m \u001b[0;32mfrom\u001b[0m \u001b[0mtorch\u001b[0m\u001b[0;34m.\u001b[0m\u001b[0mnn\u001b[0m\u001b[0;34m.\u001b[0m\u001b[0mfunctional\u001b[0m \u001b[0;32mimport\u001b[0m \u001b[0mcross_entropy\u001b[0m\u001b[0;34m\u001b[0m\u001b[0;34m\u001b[0m\u001b[0m\n\u001b[1;32m      4\u001b[0m \u001b[0;32mimport\u001b[0m \u001b[0mtorch\u001b[0m\u001b[0;34m\u001b[0m\u001b[0;34m\u001b[0m\u001b[0m\n\u001b[1;32m      5\u001b[0m \u001b[0;32mfrom\u001b[0m \u001b[0mtqdm\u001b[0m \u001b[0;32mimport\u001b[0m \u001b[0mtqdm\u001b[0m\u001b[0;34m\u001b[0m\u001b[0;34m\u001b[0m\u001b[0m\n",
      "\u001b[0;31mModuleNotFoundError\u001b[0m: No module named 'torch'"
     ]
    }
   ],
   "source": [
    "from transformers import AutoModelForSeq2SeqLM, AutoTokenizer\n",
    "from torch.utils.data import DataLoader\n",
    "from torch.nn.functional import cross_entropy\n",
    "import torch\n",
    "from tqdm import tqdm\n",
    "import matplotlib.pyplot as plt\n",
    "from IPython.display import clear_output"
   ]
  },
  {
   "cell_type": "code",
   "execution_count": null,
   "id": "fa3c442a-6f60-4d6b-a048-f142fd97d65f",
   "metadata": {},
   "outputs": [],
   "source": [
    "tokenizer = AutoTokenizer.from_pretrained(\"bert-base-cased\")"
   ]
  },
  {
   "cell_type": "code",
   "execution_count": 5,
   "id": "bb87b446-c4ce-40e2-bb92-d5db2c8830cb",
   "metadata": {},
   "outputs": [
    {
     "ename": "NameError",
     "evalue": "name 'tokenizer' is not defined",
     "output_type": "error",
     "traceback": [
      "\u001b[0;31m---------------------------------------------------------------------------\u001b[0m",
      "\u001b[0;31mNameError\u001b[0m                                 Traceback (most recent call last)",
      "\u001b[0;32m/tmp/ipykernel_20071/1306998893.py\u001b[0m in \u001b[0;36m<module>\u001b[0;34m\u001b[0m\n\u001b[0;32m----> 1\u001b[0;31m \u001b[0mtokenizer\u001b[0m\u001b[0;34m.\u001b[0m\u001b[0mvocab_size\u001b[0m\u001b[0;34m\u001b[0m\u001b[0;34m\u001b[0m\u001b[0m\n\u001b[0m",
      "\u001b[0;31mNameError\u001b[0m: name 'tokenizer' is not defined"
     ]
    }
   ],
   "source": [
    "tokenizer.vocab_size"
   ]
  },
  {
   "cell_type": "code",
   "execution_count": 5,
   "id": "91331374-13d6-4337-9e52-cf4e32e5bb54",
   "metadata": {},
   "outputs": [],
   "source": [
    "train_dataset = load_from_disk(\"../../DiffusionLanguageModel/data/wikipedia-emnlp/train\")"
   ]
  },
  {
   "cell_type": "code",
   "execution_count": 6,
   "id": "8033423c-0917-459f-a700-d9c73b93bf08",
   "metadata": {},
   "outputs": [
    {
     "data": {
      "text/plain": [
       "Dataset({\n",
       "    features: ['target'],\n",
       "    num_rows: 15350241\n",
       "})"
      ]
     },
     "execution_count": 6,
     "metadata": {},
     "output_type": "execute_result"
    }
   ],
   "source": [
    "train_dataset"
   ]
  },
  {
   "cell_type": "code",
   "execution_count": null,
   "id": "31371bcf",
   "metadata": {},
   "outputs": [],
   "source": []
  },
  {
   "cell_type": "code",
   "execution_count": 92,
   "id": "4a0d70d4-6a55-40e7-8c59-d8f7296d2b5a",
   "metadata": {},
   "outputs": [],
   "source": [
    "def plot_graphs(result):\n",
    "    clear_output(wait=True)\n",
    "    \n",
    "    n_plots = len(result)\n",
    "    fig, axes = plt.subplots(1, n_plots, figsize=(10 * n_plots, 10), sharex=True, sharey=False)\n",
    "    \n",
    "    font_size = 20\n",
    "    linewidth = 5\n",
    "\n",
    "    for i, key in enumerate(result.keys()):\n",
    "        axes[i].plot(result[key], label=key, linewidth=linewidth)\n",
    "        axes[i].legend(loc='upper right', fontsize=font_size)\n",
    "        axes[i].tick_params(axis=\"x\", labelsize=font_size)\n",
    "        axes[i].tick_params(axis=\"y\", labelsize=font_size)\n",
    "        \n",
    "    plt.show()"
   ]
  },
  {
   "cell_type": "code",
   "execution_count": null,
   "id": "0d65da27-4710-4a7c-a091-3facba86a8d5",
   "metadata": {},
   "outputs": [],
   "source": []
  },
  {
   "cell_type": "code",
   "execution_count": 162,
   "id": "6009dc62-e4e1-4ff7-b6ee-b4a3a4128a70",
   "metadata": {},
   "outputs": [],
   "source": [
    "t = iter([1])"
   ]
  },
  {
   "cell_type": "code",
   "execution_count": 165,
   "id": "44ad14e8-b65a-4ef5-9620-d0503f83b8d4",
   "metadata": {},
   "outputs": [
    {
     "name": "stdout",
     "output_type": "stream",
     "text": [
      "None\n"
     ]
    }
   ],
   "source": [
    "print(next(t, None))"
   ]
  },
  {
   "cell_type": "code",
   "execution_count": 125,
   "id": "a42ff6db-e5d5-41aa-95e3-44ceb6adbde2",
   "metadata": {},
   "outputs": [],
   "source": [
    "from architecture.configs import get_encoder_config, get_decoder_config\n",
    "from architecture.encoder import Encoder\n",
    "from architecture.decoder import Decoder"
   ]
  },
  {
   "cell_type": "code",
   "execution_count": 139,
   "id": "00ae6937-dbbb-4964-aeeb-8de5b0fdef0b",
   "metadata": {},
   "outputs": [],
   "source": [
    "encoder_config = get_encoder_config()\n",
    "decoder_config = get_decoder_config()"
   ]
  },
  {
   "cell_type": "code",
   "execution_count": 140,
   "id": "3d2f1167-d149-4a1e-a09c-cf0c649e41f7",
   "metadata": {},
   "outputs": [],
   "source": [
    "batch_size = 128"
   ]
  },
  {
   "cell_type": "code",
   "execution_count": 141,
   "id": "cd3671d2-7aa9-4515-b229-9766487c7b42",
   "metadata": {},
   "outputs": [],
   "source": [
    "max_len = 128\n",
    "\n",
    "encoder_config.max_position_embeddings = max_len\n",
    "decoder_config.max_position_embeddings = max_len"
   ]
  },
  {
   "cell_type": "code",
   "execution_count": 142,
   "id": "7792902e-b745-4b31-8739-a40cd8e1f76b",
   "metadata": {},
   "outputs": [],
   "source": [
    "encoder = Encoder(encoder_config).cuda()"
   ]
  },
  {
   "cell_type": "code",
   "execution_count": 143,
   "id": "b3fc151c-ee0e-4a1c-8386-c5a4b8b8d51a",
   "metadata": {},
   "outputs": [],
   "source": [
    "decoder = Decoder(decoder_config).cuda()"
   ]
  },
  {
   "cell_type": "code",
   "execution_count": 144,
   "id": "a7ee4ab8-156e-4e83-9374-c3fe3d3851d2",
   "metadata": {},
   "outputs": [
    {
     "data": {
      "text/plain": [
       "107475840"
      ]
     },
     "execution_count": 144,
     "metadata": {},
     "output_type": "execute_result"
    }
   ],
   "source": [
    "sum(p.numel() for p in encoder.parameters() if p.requires_grad)"
   ]
  },
  {
   "cell_type": "code",
   "execution_count": 145,
   "id": "2b0afb37-f071-445d-9f27-b4542f3dadb8",
   "metadata": {},
   "outputs": [
    {
     "data": {
      "text/plain": [
       "108095428"
      ]
     },
     "execution_count": 145,
     "metadata": {},
     "output_type": "execute_result"
    }
   ],
   "source": [
    "sum(p.numel() for p in decoder.parameters() if p.requires_grad)"
   ]
  },
  {
   "cell_type": "code",
   "execution_count": 146,
   "id": "f8e9c3ec-77ec-40fb-8690-b62364e0d3bc",
   "metadata": {},
   "outputs": [
    {
     "data": {
      "text/plain": [
       "[128]"
      ]
     },
     "execution_count": 146,
     "metadata": {},
     "output_type": "execute_result"
    }
   ],
   "source": [
    "decoder.latent_resolutions"
   ]
  },
  {
   "cell_type": "code",
   "execution_count": 147,
   "id": "b722c6b4-cf3a-4146-9aa4-b5a0a651b82c",
   "metadata": {},
   "outputs": [],
   "source": [
    "train_loader = DataLoader(\n",
    "    train_dataset,\n",
    "    batch_size=batch_size,\n",
    "    shuffle=True,\n",
    "    num_workers=30,\n",
    "    pin_memory=False,\n",
    ")"
   ]
  },
  {
   "cell_type": "code",
   "execution_count": null,
   "id": "325008fb-055f-4657-a817-3312f9990fae",
   "metadata": {},
   "outputs": [],
   "source": []
  },
  {
   "cell_type": "code",
   "execution_count": 148,
   "id": "608c738e-9dfc-4e81-a528-cf4adb5ecbb4",
   "metadata": {},
   "outputs": [],
   "source": [
    "optimizer = torch.optim.AdamW(\n",
    "    list(encoder.parameters()) + list(decoder.parameters()),\n",
    "    lr=1e-4,\n",
    "    weight_decay=0.01,\n",
    "    betas=(0.9, 0.95),\n",
    ")"
   ]
  },
  {
   "cell_type": "code",
   "execution_count": 149,
   "id": "8c503443-5b8b-47bd-9ecd-586be58e0b3f",
   "metadata": {},
   "outputs": [],
   "source": [
    "result = {r: [] for r in decoder.latent_resolutions}\n",
    "result[\"total\"] = []"
   ]
  },
  {
   "cell_type": "code",
   "execution_count": 150,
   "id": "783d5aee-d3ef-4907-9d6f-cdf7707b97bc",
   "metadata": {},
   "outputs": [],
   "source": [
    "torch.cuda.empty_cache()"
   ]
  },
  {
   "cell_type": "code",
   "execution_count": 151,
   "id": "4e812108-9ab3-431d-a7c4-a6439a6356a5",
   "metadata": {},
   "outputs": [
    {
     "data": {
      "image/png": "[encoded data removed]",
      "text/plain": [
       "<Figure size 2000x1000 with 2 Axes>"
      ]
     },
     "metadata": {},
     "output_type": "display_data"
    },
    {
     "name": "stderr",
     "output_type": "stream",
     "text": [
      "  1%|          | 613/119924 [03:41<12:10:20,  2.72it/s]To disable this warning, you can either:\n",
      "\t- Avoid using `tokenizers` before the fork if possible\n",
      "\t- Explicitly set the environment variable TOKENIZERS_PARALLELISM=(true | false)\n",
      "  1%|          | 613/119924 [03:41<11:59:10,  2.77it/s]\n",
      "Process Process-774:\n",
      "Process Process-776:\n",
      "Process Process-779:\n",
      "Process Process-778:\n",
      "Exception ignored in: <function _MultiProcessingDataLoaderIter.__del__ at 0x7f790f07b820>\n",
      "Traceback (most recent call last):\n",
      "  File \"/home/user/conda/lib/python3.9/site-packages/torch/utils/data/dataloader.py\", line 1478, in __del__\n",
      "    self._shutdown_workers()\n",
      "  File \"/home/user/conda/lib/python3.9/site-packages/torch/utils/data/dataloader.py\", line 1442, in _shutdown_workers\n",
      "    w.join(timeout=_utils.MP_STATUS_CHECK_INTERVAL)\n",
      "  File \"/home/user/conda/lib/python3.9/multiprocessing/process.py\", line 149, in join\n",
      "    res = self._popen.wait(timeout)\n",
      "  File \"/home/user/conda/lib/python3.9/multiprocessing/popen_fork.py\", line 40, in wait\n",
      "    if not wait([self.sentinel], timeout):\n",
      "  File \"/home/user/conda/lib/python3.9/multiprocessing/connection.py\", line 931, in wait\n",
      "    ready = selector.select(timeout)\n",
      "  File \"/home/user/conda/lib/python3.9/selectors.py\", line 416, in select\n",
      "    fd_event_list = self._selector.poll(timeout)\n",
      "KeyboardInterrupt: \n"
     ]
    },
    {
     "ename": "KeyboardInterrupt",
     "evalue": "",
     "output_type": "error",
     "traceback": [
      "\u001b[0;31m---------------------------------------------------------------------------\u001b[0m",
      "\u001b[0;31mKeyboardInterrupt\u001b[0m                         Traceback (most recent call last)",
      "Cell \u001b[0;32mIn[151], line 37\u001b[0m\n\u001b[1;32m     34\u001b[0m     loss \u001b[38;5;241m+\u001b[39m\u001b[38;5;241m=\u001b[39m l \u001b[38;5;241m*\u001b[39m decoder\u001b[38;5;241m.\u001b[39mlatent_resolutions[\u001b[38;5;241m-\u001b[39m\u001b[38;5;241m1\u001b[39m] \u001b[38;5;241m/\u001b[39m r\n\u001b[1;32m     36\u001b[0m optimizer\u001b[38;5;241m.\u001b[39mzero_grad()\n\u001b[0;32m---> 37\u001b[0m \u001b[43mloss\u001b[49m\u001b[38;5;241;43m.\u001b[39;49m\u001b[43mbackward\u001b[49m\u001b[43m(\u001b[49m\u001b[43m)\u001b[49m\n\u001b[1;32m     38\u001b[0m optimizer\u001b[38;5;241m.\u001b[39mstep()\n\u001b[1;32m     40\u001b[0m \u001b[38;5;66;03m# logging\u001b[39;00m\n",
      "File \u001b[0;32m/home/user/conda/lib/python3.9/site-packages/torch/_tensor.py:492\u001b[0m, in \u001b[0;36mTensor.backward\u001b[0;34m(self, gradient, retain_graph, create_graph, inputs)\u001b[0m\n\u001b[1;32m    482\u001b[0m \u001b[38;5;28;01mif\u001b[39;00m has_torch_function_unary(\u001b[38;5;28mself\u001b[39m):\n\u001b[1;32m    483\u001b[0m     \u001b[38;5;28;01mreturn\u001b[39;00m handle_torch_function(\n\u001b[1;32m    484\u001b[0m         Tensor\u001b[38;5;241m.\u001b[39mbackward,\n\u001b[1;32m    485\u001b[0m         (\u001b[38;5;28mself\u001b[39m,),\n\u001b[0;32m   (...)\u001b[0m\n\u001b[1;32m    490\u001b[0m         inputs\u001b[38;5;241m=\u001b[39minputs,\n\u001b[1;32m    491\u001b[0m     )\n\u001b[0;32m--> 492\u001b[0m \u001b[43mtorch\u001b[49m\u001b[38;5;241;43m.\u001b[39;49m\u001b[43mautograd\u001b[49m\u001b[38;5;241;43m.\u001b[39;49m\u001b[43mbackward\u001b[49m\u001b[43m(\u001b[49m\n\u001b[1;32m    493\u001b[0m \u001b[43m    \u001b[49m\u001b[38;5;28;43mself\u001b[39;49m\u001b[43m,\u001b[49m\u001b[43m \u001b[49m\u001b[43mgradient\u001b[49m\u001b[43m,\u001b[49m\u001b[43m \u001b[49m\u001b[43mretain_graph\u001b[49m\u001b[43m,\u001b[49m\u001b[43m \u001b[49m\u001b[43mcreate_graph\u001b[49m\u001b[43m,\u001b[49m\u001b[43m \u001b[49m\u001b[43minputs\u001b[49m\u001b[38;5;241;43m=\u001b[39;49m\u001b[43minputs\u001b[49m\n\u001b[1;32m    494\u001b[0m \u001b[43m\u001b[49m\u001b[43m)\u001b[49m\n",
      "File \u001b[0;32m/home/user/conda/lib/python3.9/site-packages/torch/autograd/__init__.py:251\u001b[0m, in \u001b[0;36mbackward\u001b[0;34m(tensors, grad_tensors, retain_graph, create_graph, grad_variables, inputs)\u001b[0m\n\u001b[1;32m    246\u001b[0m     retain_graph \u001b[38;5;241m=\u001b[39m create_graph\n\u001b[1;32m    248\u001b[0m \u001b[38;5;66;03m# The reason we repeat the same comment below is that\u001b[39;00m\n\u001b[1;32m    249\u001b[0m \u001b[38;5;66;03m# some Python versions print out the first line of a multi-line function\u001b[39;00m\n\u001b[1;32m    250\u001b[0m \u001b[38;5;66;03m# calls in the traceback and some print out the last line\u001b[39;00m\n\u001b[0;32m--> 251\u001b[0m \u001b[43mVariable\u001b[49m\u001b[38;5;241;43m.\u001b[39;49m\u001b[43m_execution_engine\u001b[49m\u001b[38;5;241;43m.\u001b[39;49m\u001b[43mrun_backward\u001b[49m\u001b[43m(\u001b[49m\u001b[43m  \u001b[49m\u001b[38;5;66;43;03m# Calls into the C++ engine to run the backward pass\u001b[39;49;00m\n\u001b[1;32m    252\u001b[0m \u001b[43m    \u001b[49m\u001b[43mtensors\u001b[49m\u001b[43m,\u001b[49m\n\u001b[1;32m    253\u001b[0m \u001b[43m    \u001b[49m\u001b[43mgrad_tensors_\u001b[49m\u001b[43m,\u001b[49m\n\u001b[1;32m    254\u001b[0m \u001b[43m    \u001b[49m\u001b[43mretain_graph\u001b[49m\u001b[43m,\u001b[49m\n\u001b[1;32m    255\u001b[0m \u001b[43m    \u001b[49m\u001b[43mcreate_graph\u001b[49m\u001b[43m,\u001b[49m\n\u001b[1;32m    256\u001b[0m \u001b[43m    \u001b[49m\u001b[43minputs\u001b[49m\u001b[43m,\u001b[49m\n\u001b[1;32m    257\u001b[0m \u001b[43m    \u001b[49m\u001b[43mallow_unreachable\u001b[49m\u001b[38;5;241;43m=\u001b[39;49m\u001b[38;5;28;43;01mTrue\u001b[39;49;00m\u001b[43m,\u001b[49m\n\u001b[1;32m    258\u001b[0m \u001b[43m    \u001b[49m\u001b[43maccumulate_grad\u001b[49m\u001b[38;5;241;43m=\u001b[39;49m\u001b[38;5;28;43;01mTrue\u001b[39;49;00m\u001b[43m,\u001b[49m\n\u001b[1;32m    259\u001b[0m \u001b[43m\u001b[49m\u001b[43m)\u001b[49m\n",
      "\u001b[0;31mKeyboardInterrupt\u001b[0m: "
     ]
    }
   ],
   "source": [
    "for i, batch in tqdm(enumerate(train_loader), total=len(train_loader)):\n",
    "    X = tokenizer(\n",
    "        batch['target'],\n",
    "        add_special_tokens=True,\n",
    "        padding=\"max_length\",\n",
    "        truncation=True,\n",
    "        max_length=max_len,\n",
    "        return_tensors=\"pt\",\n",
    "        return_special_tokens_mask=True,\n",
    "        return_token_type_ids=False,\n",
    "    ).to(\"cuda:0\")\n",
    "\n",
    "    with torch.autocast(device_type='cuda', dtype=torch.bfloat16):\n",
    "        encoder_latents = encoder(token_ids=X[\"input_ids\"])\n",
    "\n",
    "        losses = []\n",
    "        \n",
    "        num_latent = 0\n",
    "        for n in decoder.latent_resolutions:\n",
    "            num_latent += n\n",
    "            \n",
    "            latents = encoder_latents[:, :n]\n",
    "            logits = decoder(latents)\n",
    "\n",
    "            ce_loss = cross_entropy(\n",
    "                input=logits.view(-1, logits.shape[-1]),\n",
    "                target=X[\"input_ids\"].view(-1),\n",
    "            )\n",
    "                    \n",
    "            losses.append(ce_loss)\n",
    "\n",
    "    loss = 0.\n",
    "    for r, l in zip(decoder.latent_resolutions, losses):\n",
    "        loss += l * decoder.latent_resolutions[-1] / r\n",
    "\n",
    "    optimizer.zero_grad()\n",
    "    loss.backward()\n",
    "    optimizer.step()\n",
    "\n",
    "    # logging\n",
    "    if i % 10 != 0:\n",
    "        continue\n",
    "        \n",
    "    for r, l in zip(decoder.latent_resolutions, losses):\n",
    "        result[r].append(l.item())\n",
    "    result[\"total\"].append(loss.item())\n",
    "\n",
    "    plot_graphs(result)\n",
    "    "
   ]
  },
  {
   "cell_type": "code",
   "execution_count": null,
   "id": "608fd31a-c20c-45a8-8df9-8d3b8e1602b3",
   "metadata": {},
   "outputs": [],
   "source": []
  },
  {
   "cell_type": "code",
   "execution_count": null,
   "id": "4f04adda-0d77-427c-92ae-dd4666c28ca4",
   "metadata": {},
   "outputs": [],
   "source": []
  },
  {
   "cell_type": "code",
   "execution_count": null,
   "id": "f1a6171a-3304-4184-aa50-9503140785d6",
   "metadata": {},
   "outputs": [],
   "source": []
  },
  {
   "cell_type": "code",
   "execution_count": null,
   "id": "f376ddd3-4c32-4a7b-b947-7ef7c58cde02",
   "metadata": {},
   "outputs": [],
   "source": []
  }
 ],
 "metadata": {
  "kernelspec": {
   "display_name": "dif_env_v2",
   "language": "python",
   "name": "python3"
  },
  "language_info": {
   "codemirror_mode": {
    "name": "ipython",
    "version": 3
   },
   "file_extension": ".py",
   "mimetype": "text/x-python",
   "name": "python",
   "nbconvert_exporter": "python",
   "pygments_lexer": "ipython3",
   "version": "3.11.11"
  }
 },
 "nbformat": 4,
 "nbformat_minor": 5
}
