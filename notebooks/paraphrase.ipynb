{
 "cells": [
  {
   "cell_type": "code",
   "execution_count": 1,
   "id": "a94cf626-24c2-48fd-a36e-51b42709e994",
   "metadata": {},
   "outputs": [],
   "source": [
    "from datasets import load_dataset"
   ]
  },
  {
   "cell_type": "code",
   "execution_count": 2,
   "id": "2d32f852-c35e-4186-a85d-c8ae5724757f",
   "metadata": {},
   "outputs": [],
   "source": [
    "import ast"
   ]
  },
  {
   "cell_type": "code",
   "execution_count": 3,
   "id": "9bf824f1-67f5-415f-aed9-32326b3b3bfc",
   "metadata": {},
   "outputs": [],
   "source": [
    "data = load_dataset(\"humarin/chatgpt-paraphrases\")"
   ]
  },
  {
   "cell_type": "code",
   "execution_count": 4,
   "id": "7862b333-4163-4f5b-9b71-fa9471b0e6ac",
   "metadata": {},
   "outputs": [
    {
     "data": {
      "text/plain": [
       "DatasetDict({\n",
       "    train: Dataset({\n",
       "        features: ['text', 'paraphrases', 'category', 'source'],\n",
       "        num_rows: 419197\n",
       "    })\n",
       "})"
      ]
     },
     "execution_count": 4,
     "metadata": {},
     "output_type": "execute_result"
    }
   ],
   "source": [
    "data"
   ]
  },
  {
   "cell_type": "code",
   "execution_count": 5,
   "id": "04df2bc9-ab45-4751-9c0f-8bb9058cc284",
   "metadata": {},
   "outputs": [],
   "source": [
    "min_num_words = 50"
   ]
  },
  {
   "cell_type": "code",
   "execution_count": 6,
   "id": "9a54c54d-bd06-4f7f-b1ee-d080ca0f2642",
   "metadata": {},
   "outputs": [],
   "source": [
    "filtered_data = data.filter(lambda x: x[\"category\"] == \"sentence\")"
   ]
  },
  {
   "cell_type": "code",
   "execution_count": 7,
   "id": "fbed01d5-f800-4d02-a285-9ae54a840601",
   "metadata": {},
   "outputs": [],
   "source": [
    "filtered_data = filtered_data.filter(lambda x: (len(x[\"text\"].split()) > min_num_words))"
   ]
  },
  {
   "cell_type": "code",
   "execution_count": 8,
   "id": "63cd90c7-fd8d-4aed-b005-5d6885775cd7",
   "metadata": {},
   "outputs": [],
   "source": [
    "def rollout(batch):\n",
    "    ret_batch = {\n",
    "        \"input\": [],\n",
    "        \"output\": [],\n",
    "    }\n",
    "    for text, pars in zip(batch[\"text\"], batch[\"paraphrases\"]):\n",
    "        for p in ast.literal_eval(pars):\n",
    "            ret_batch[\"input\"].append(text)\n",
    "            ret_batch[\"output\"].append(p)\n",
    "    return ret_batch"
   ]
  },
  {
   "cell_type": "code",
   "execution_count": 9,
   "id": "73091e1d-30b1-4b2f-b776-aec6b70ee670",
   "metadata": {},
   "outputs": [],
   "source": [
    "filtered_data = filtered_data[\"train\"].map(\n",
    "    rollout,\n",
    "    batched=True,\n",
    "    batch_size=2,\n",
    "    remove_columns=filtered_data[\"train\"].column_names\n",
    ")"
   ]
  },
  {
   "cell_type": "code",
   "execution_count": 10,
   "id": "a8ae5861-1ccb-4ef3-879c-0336c1a8feb1",
   "metadata": {},
   "outputs": [
    {
     "data": {
      "text/plain": [
       "Dataset({\n",
       "    features: ['input', 'output'],\n",
       "    num_rows: 15940\n",
       "})"
      ]
     },
     "execution_count": 10,
     "metadata": {},
     "output_type": "execute_result"
    }
   ],
   "source": [
    "filtered_data"
   ]
  },
  {
   "cell_type": "code",
   "execution_count": 11,
   "id": "fcbf9d22-82e8-4a25-8c9c-4d01c29943db",
   "metadata": {},
   "outputs": [],
   "source": [
    "import torch\n",
    "import torch.nn.functional as F\n",
    "from transformers import AutoTokenizer, AutoModel"
   ]
  },
  {
   "cell_type": "code",
   "execution_count": 12,
   "id": "c7d7f64a-b625-4a22-a546-3026c3af6ba2",
   "metadata": {},
   "outputs": [
    {
     "name": "stderr",
     "output_type": "stream",
     "text": [
      "/home/jovyan/.mlspace/envs/cheap_with_dif/lib/python3.10/site-packages/huggingface_hub/file_download.py:795: FutureWarning: `resume_download` is deprecated and will be removed in version 1.0.0. Downloads always resume when possible. If you want to force a new download, use `force_download=True`.\n",
      "  warnings.warn(\n",
      "/home/jovyan/.mlspace/envs/cheap_with_dif/lib/python3.10/site-packages/huggingface_hub/file_download.py:795: FutureWarning: `resume_download` is deprecated and will be removed in version 1.0.0. Downloads always resume when possible. If you want to force a new download, use `force_download=True`.\n",
      "  warnings.warn(\n"
     ]
    },
    {
     "data": {
      "application/vnd.jupyter.widget-view+json": {
       "model_id": "4fb6ea885cd843ecb5cad0c1e2f0e692",
       "version_major": 2,
       "version_minor": 0
      },
      "text/plain": [
       "Loading checkpoint shards:   0%|          | 0/4 [00:00<?, ?it/s]"
      ]
     },
     "metadata": {},
     "output_type": "display_data"
    }
   ],
   "source": [
    "model = AutoModel.from_pretrained('nvidia/NV-Embed-v2', trust_remote_code=True)"
   ]
  },
  {
   "cell_type": "code",
   "execution_count": 13,
   "id": "1067d6a8-2df9-4fae-b91e-24ef0c74a752",
   "metadata": {},
   "outputs": [],
   "source": [
    "model = model.cuda()"
   ]
  },
  {
   "cell_type": "code",
   "execution_count": 19,
   "id": "77c3ea24-dd83-4f99-865c-4e1fa4100a56",
   "metadata": {},
   "outputs": [],
   "source": [
    "batch_size = 10"
   ]
  },
  {
   "cell_type": "code",
   "execution_count": 20,
   "id": "deb6a6d4-bebe-42e4-a7fa-16b801d9078c",
   "metadata": {},
   "outputs": [],
   "source": [
    "input_ = filtered_data[\"input\"][:batch_size]\n",
    "output_ = filtered_data[\"output\"][:batch_size]"
   ]
  },
  {
   "cell_type": "code",
   "execution_count": 33,
   "id": "c159a0aa-c012-4ed0-956c-4b07bf84b985",
   "metadata": {},
   "outputs": [],
   "source": [
    "torch.cuda.empty_cache()"
   ]
  },
  {
   "cell_type": "code",
   "execution_count": 22,
   "id": "2ca9a775-571f-4a5c-9cbc-47db0f660e8a",
   "metadata": {},
   "outputs": [],
   "source": [
    "with torch.no_grad():\n",
    "    input_embeddings = model.encode(input_, normalize_embeddings=True)"
   ]
  },
  {
   "cell_type": "code",
   "execution_count": 23,
   "id": "fa7e9b15-e611-425b-8c5f-ba62dd82041e",
   "metadata": {},
   "outputs": [],
   "source": [
    "with torch.no_grad():\n",
    "    output_embeddings = model.encode(output_, normalize_embeddings=True)"
   ]
  },
  {
   "cell_type": "code",
   "execution_count": 25,
   "id": "e79daa30-4983-4f6f-a503-3f5f5bfc4c2b",
   "metadata": {},
   "outputs": [
    {
     "name": "stdout",
     "output_type": "stream",
     "text": [
      "[[87.178466796875, 92.79225158691406, 87.91120147705078, 88.95439147949219, 91.80231475830078, 18.73691177368164, 16.15211296081543, 18.442310333251953, 16.879009246826172, 14.502303123474121], [87.178466796875, 92.79225158691406, 87.91120147705078, 88.95439147949219, 91.80231475830078, 18.73691177368164, 16.15211296081543, 18.442310333251953, 16.879009246826172, 14.502303123474121], [87.178466796875, 92.79225158691406, 87.91120147705078, 88.95439147949219, 91.80231475830078, 18.73691177368164, 16.15211296081543, 18.442310333251953, 16.879009246826172, 14.502303123474121], [87.178466796875, 92.79225158691406, 87.91120147705078, 88.95439147949219, 91.80231475830078, 18.73691177368164, 16.15211296081543, 18.442310333251953, 16.879009246826172, 14.502303123474121], [87.178466796875, 92.79225158691406, 87.91120147705078, 88.95439147949219, 91.80231475830078, 18.73691177368164, 16.15211296081543, 18.442310333251953, 16.879009246826172, 14.502303123474121], [15.528077125549316, 16.863189697265625, 16.610788345336914, 16.27557945251465, 16.01016616821289, 95.334716796875, 94.18437194824219, 96.85060119628906, 93.5031509399414, 95.65055847167969], [15.528077125549316, 16.863189697265625, 16.610788345336914, 16.27557945251465, 16.01016616821289, 95.334716796875, 94.18437194824219, 96.85060119628906, 93.5031509399414, 95.65055847167969], [15.528077125549316, 16.863189697265625, 16.610788345336914, 16.27557945251465, 16.01016616821289, 95.334716796875, 94.18437194824219, 96.85060119628906, 93.5031509399414, 95.65055847167969], [15.528077125549316, 16.863189697265625, 16.610788345336914, 16.27557945251465, 16.01016616821289, 95.334716796875, 94.18437194824219, 96.85060119628906, 93.5031509399414, 95.65055847167969], [15.528077125549316, 16.863189697265625, 16.610788345336914, 16.27557945251465, 16.01016616821289, 95.334716796875, 94.18437194824219, 96.85060119628906, 93.5031509399414, 95.65055847167969]]\n"
     ]
    }
   ],
   "source": [
    "scores = (input_embeddings @ output_embeddings.T) * 100\n",
    "print(scores.tolist())"
   ]
  },
  {
   "cell_type": "code",
   "execution_count": null,
   "id": "32077247-287f-4f4e-a0b9-9a63487d46b7",
   "metadata": {},
   "outputs": [],
   "source": []
  },
  {
   "cell_type": "code",
   "execution_count": null,
   "id": "92e4cc1a-6b99-491c-9607-c66d3b95d3f3",
   "metadata": {},
   "outputs": [],
   "source": []
  },
  {
   "cell_type": "code",
   "execution_count": 40,
   "id": "77c0304b-a05d-412d-9055-a51c5a393b9e",
   "metadata": {},
   "outputs": [],
   "source": [
    "en_wiki = load_dataset('ltg/en-wiki-paraphrased', split='train')"
   ]
  },
  {
   "cell_type": "code",
   "execution_count": 42,
   "id": "af3a7681-239c-441a-8a01-5cbcf39866a2",
   "metadata": {},
   "outputs": [
    {
     "data": {
      "application/vnd.jupyter.widget-view+json": {
       "model_id": "c19c28fdf9074ac595ed5941622eacf2",
       "version_major": 2,
       "version_minor": 0
      },
      "text/plain": [
       "Filter:   0%|          | 0/6035374 [00:00<?, ? examples/s]"
      ]
     },
     "metadata": {},
     "output_type": "display_data"
    }
   ],
   "source": [
    "en_wiki = en_wiki.filter(lambda x: (len(x[\"original\"].split()) > 50) and (len(x[\"original\"].split()) < 100))"
   ]
  },
  {
   "cell_type": "code",
   "execution_count": 43,
   "id": "0837022e-3a89-40db-abf2-a3f3d03b8966",
   "metadata": {},
   "outputs": [
    {
     "data": {
      "text/plain": [
       "Dataset({\n",
       "    features: ['original', 'paraphrase'],\n",
       "    num_rows: 5288593\n",
       "})"
      ]
     },
     "execution_count": 43,
     "metadata": {},
     "output_type": "execute_result"
    }
   ],
   "source": [
    "en_wiki"
   ]
  },
  {
   "cell_type": "code",
   "execution_count": 46,
   "id": "c16cedf2-811b-4ddd-b57e-4c53204007c3",
   "metadata": {},
   "outputs": [],
   "source": [
    "input_ = en_wiki[:20][\"original\"]\n",
    "output_ = en_wiki[:20][\"paraphrase\"]"
   ]
  },
  {
   "cell_type": "code",
   "execution_count": 47,
   "id": "9475c789-1f15-4be9-9e73-733a52f815b6",
   "metadata": {},
   "outputs": [],
   "source": [
    "with torch.no_grad():\n",
    "    input_embeddings = model.encode(input_, normalize_embeddings=True)"
   ]
  },
  {
   "cell_type": "code",
   "execution_count": 48,
   "id": "81592060-0895-47dc-a02f-7fb0c22c0c7c",
   "metadata": {},
   "outputs": [],
   "source": [
    "with torch.no_grad():\n",
    "    output_embeddings = model.encode(output_, normalize_embeddings=True)"
   ]
  },
  {
   "cell_type": "code",
   "execution_count": 49,
   "id": "dfd2d7c5-9508-4681-96bb-ca249467833f",
   "metadata": {},
   "outputs": [],
   "source": [
    "scores = (input_embeddings @ output_embeddings.T) * 100"
   ]
  },
  {
   "cell_type": "code",
   "execution_count": 50,
   "id": "f552a348-a7e2-4e02-8c30-4600205ed4b3",
   "metadata": {},
   "outputs": [
    {
     "name": "stdout",
     "output_type": "stream",
     "text": [
      "90.280 0.857 2.397 3.850 -4.180 3.887 2.470 4.400 9.384 7.595 6.867 4.545 0.354 4.689 1.419 1.243 7.343 0.383 9.847 4.398\n",
      "1.035 83.624 -6.294 2.571 -1.595 9.801 2.717 -1.312 6.606 8.768 0.643 8.932 -5.500 7.106 -4.671 -6.222 0.121 8.138 0.852 8.104\n",
      "-0.613 -7.881 84.128 10.408 -6.554 -2.436 -3.971 3.911 6.563 3.741 -1.911 8.646 17.342 -1.606 3.459 1.658 1.061 5.886 -4.548 4.135\n",
      "6.254 4.772 11.435 85.174 1.105 2.560 -0.379 -1.730 8.056 9.550 11.943 19.697 6.388 4.325 4.914 4.263 2.184 2.738 -0.740 4.966\n",
      "-3.397 0.983 -4.750 9.575 68.811 10.255 5.047 2.389 -2.891 -1.841 2.999 -4.997 -1.414 -1.243 -0.808 5.069 4.610 2.874 2.371 -1.212\n",
      "3.869 6.618 -2.193 1.822 11.593 82.008 -3.084 -4.607 3.444 3.256 1.618 -2.701 2.281 2.700 -4.985 -0.194 0.576 0.361 2.728 4.714\n",
      "2.618 4.971 -4.084 2.043 5.295 -4.402 89.916 4.131 -2.771 4.659 1.378 -1.378 -2.440 1.086 -0.657 -1.891 1.883 -1.393 6.112 5.429\n",
      "7.653 5.384 4.790 -0.680 0.065 -3.021 6.096 74.477 4.434 0.449 -2.353 7.058 -0.750 3.670 8.322 2.087 -0.331 -0.044 1.793 -0.506\n",
      "9.168 5.628 7.613 3.408 -3.246 5.361 -2.404 3.619 82.764 6.922 6.196 5.765 8.704 7.534 5.103 -1.855 5.117 11.041 8.914 2.207\n",
      "6.598 7.032 7.075 10.919 -3.705 -0.765 5.191 3.974 4.630 83.148 6.558 15.642 6.409 9.184 -5.588 2.361 3.973 1.150 2.934 2.459\n",
      "6.375 2.040 -2.453 10.866 1.530 1.255 1.864 -0.619 7.214 3.703 80.308 0.464 -2.726 3.292 -1.485 0.654 3.250 5.017 0.296 6.764\n",
      "6.073 12.715 6.955 19.087 -6.259 -2.590 -1.892 5.349 8.084 17.056 -1.336 85.203 0.831 1.718 -7.805 -5.241 0.339 2.289 3.181 10.176\n",
      "2.743 -7.018 18.660 4.437 -2.545 0.565 -2.123 -0.069 12.888 8.414 0.577 1.647 83.616 2.090 7.344 2.523 5.800 2.129 6.488 0.362\n",
      "5.458 14.230 0.089 11.679 0.360 2.109 3.110 3.512 12.580 12.049 6.660 7.927 1.565 78.788 -0.152 2.431 -1.038 11.920 6.123 2.591\n",
      "3.715 -4.872 5.213 2.168 4.462 -4.254 2.736 5.196 0.291 -7.089 -0.575 -7.046 6.750 2.250 83.112 2.827 -0.034 -0.185 -1.971 -3.789\n",
      "1.954 -7.736 1.364 1.865 10.421 0.835 0.722 4.347 0.212 1.499 2.850 -3.725 1.810 4.011 2.948 80.597 0.604 0.113 -2.845 -1.099\n",
      "3.559 -1.444 -0.134 0.696 -1.113 0.529 -0.536 3.713 7.251 5.719 -0.030 0.190 7.167 -4.257 -0.857 -0.788 84.622 1.194 -0.427 2.217\n",
      "2.030 6.888 6.929 2.192 2.612 4.141 -4.499 0.613 15.600 4.236 8.864 5.240 3.300 9.385 -1.993 -0.783 7.370 82.281 2.513 5.646\n",
      "9.179 1.711 0.501 -1.124 -0.594 0.984 5.927 0.188 10.883 4.436 -0.179 -0.458 4.972 6.084 -1.739 -3.721 1.006 3.340 89.932 4.159\n",
      "3.867 7.266 1.899 4.494 -5.361 5.764 1.614 -1.805 1.031 1.525 7.183 5.950 -6.886 -1.082 -4.922 -3.843 3.639 2.946 2.295 83.661\n"
     ]
    }
   ],
   "source": [
    "for s in scores:\n",
    "    out = [f\"{c:0.3f}\" for c in s]\n",
    "    out = \" \".join(out)\n",
    "    print(out)"
   ]
  },
  {
   "cell_type": "code",
   "execution_count": 51,
   "id": "7ec565f2-bfbe-465f-8d20-624465d2c9d0",
   "metadata": {},
   "outputs": [
    {
     "data": {
      "text/plain": [
       "\"In 1928 he submitted a patent application for the linear accelerator, not knowing of Gustav Ising's prior 1924 journal article and Rolf Widerøe's operational device, and in 1929 applied for one for the cyclotron. He was also the first person to conceive the idea of the electron microscope, and submitted the earliest patent for one in 1928.\""
      ]
     },
     "execution_count": 51,
     "metadata": {},
     "output_type": "execute_result"
    }
   ],
   "source": [
    "input_[0]"
   ]
  },
  {
   "cell_type": "code",
   "execution_count": 53,
   "id": "7ae402ef-5962-4bb2-96b3-781280d256a2",
   "metadata": {},
   "outputs": [
    {
     "data": {
      "text/plain": [
       "'On 9 March the 1st Infantry Regiment began moving towards Ta Luong and advance elements sighted PAVN tanks near the area. Further north 1st Regiment observation teams saw a PAVN armored group and directed artillery fire onto it, disabling five tanks. To the southeast the Marines had been receiving heavy attacks by fire, but while searching 10\\xa0km south-southeast from their bases found a PAVN base that had been bombed by B-52s containing 5,000 heavy rockets and large quantities of destroyed weapons and ammunition.'"
      ]
     },
     "execution_count": 53,
     "metadata": {},
     "output_type": "execute_result"
    }
   ],
   "source": [
    "input_[1]"
   ]
  },
  {
   "cell_type": "code",
   "execution_count": 52,
   "id": "f07823bb-690d-4b09-bb57-3e394da5c21d",
   "metadata": {},
   "outputs": [
    {
     "data": {
      "text/plain": [
       "\"The pisco sour underwent several changes until Mario Bruiget, a Peruvian bartender working at Morris' Bar, created the modern Peruvian recipe for the cocktail in the latter part of the 1920s by adding Angostura bitters and egg whites to the mix.\\nCocktail connoisseurs consider the pisco sour a South American classic.\""
      ]
     },
     "execution_count": 52,
     "metadata": {},
     "output_type": "execute_result"
    }
   ],
   "source": [
    "input_[-2]"
   ]
  },
  {
   "cell_type": "code",
   "execution_count": 54,
   "id": "15aef834-ade7-4be3-a4c5-4234e3577ef4",
   "metadata": {},
   "outputs": [
    {
     "name": "stderr",
     "output_type": "stream",
     "text": [
      "/tmp/ipykernel_2522/4023622781.py:1: UserWarning: The use of `x.T` on tensors of dimension other than 2 to reverse their shape is deprecated and it will throw an error in a future release. Consider `x.mT` to transpose batches of matrices or `x.permute(*torch.arange(x.ndim - 1, -1, -1))` to reverse the dimensions of a tensor. (Triggered internally at /opt/conda/conda-bld/pytorch_1729647352509/work/aten/src/ATen/native/TensorShape.cpp:3683.)\n",
      "  input_embeddings[0] @ input_embeddings[0].T\n"
     ]
    },
    {
     "data": {
      "text/plain": [
       "tensor(1.0000, device='cuda:0')"
      ]
     },
     "execution_count": 54,
     "metadata": {},
     "output_type": "execute_result"
    }
   ],
   "source": [
    "input_embeddings[0] @ input_embeddings[0].T"
   ]
  },
  {
   "cell_type": "code",
   "execution_count": null,
   "id": "7c985fd6-00fe-450f-841d-95799546c7e7",
   "metadata": {},
   "outputs": [],
   "source": []
  },
  {
   "cell_type": "code",
   "execution_count": 17,
   "id": "59d77ad6-4a09-44aa-a892-db15adaa3231",
   "metadata": {},
   "outputs": [],
   "source": [
    "import torch"
   ]
  },
  {
   "cell_type": "code",
   "execution_count": 18,
   "id": "7964de03-4082-4a46-9c7d-12538492afc8",
   "metadata": {},
   "outputs": [
    {
     "name": "stderr",
     "output_type": "stream",
     "text": [
      "/tmp/ipykernel_4373/1900111756.py:1: FutureWarning: You are using `torch.load` with `weights_only=False` (the current default value), which uses the default pickle module implicitly. It is possible to construct malicious pickle data which will execute arbitrary code during unpickling (See https://github.com/pytorch/pytorch/blob/main/SECURITY.md#untrusted-models for more details). In a future release, the default value for `weights_only` will be flipped to `True`. This limits the functions that could be executed during unpickling. Arbitrary objects will no longer be allowed to be loaded via this mode unless they are explicitly allowlisted by the user via `torch.serialization.add_safe_globals`. We recommend you start setting `weights_only=True` for any use case where you don't have full control of the loaded file. Please open an issue on GitHub for any issues related to this experimental feature.\n",
      "  result = torch.load(\"../para_embeddings.pth\")\n"
     ]
    }
   ],
   "source": [
    "result = torch.load(\"../para_embeddings.pth\")"
   ]
  },
  {
   "cell_type": "code",
   "execution_count": 19,
   "id": "c16c9366-f373-446b-a103-ebca769ce901",
   "metadata": {},
   "outputs": [
    {
     "data": {
      "text/plain": [
       "0.002857096493244171"
      ]
     },
     "execution_count": 19,
     "metadata": {},
     "output_type": "execute_result"
    }
   ],
   "source": [
    "3067784 / 1024 / 1024 / 1024"
   ]
  },
  {
   "cell_type": "code",
   "execution_count": 20,
   "id": "20b42187-4fda-4854-b15a-0ef5284c6d54",
   "metadata": {},
   "outputs": [],
   "source": [
    "score = torch.sum(result[\"input_embeddings\"] * result[\"output_embeddings\"], dim=1)"
   ]
  },
  {
   "cell_type": "code",
   "execution_count": 21,
   "id": "71175d24-7e2f-4a39-82b2-35a53ebea46c",
   "metadata": {},
   "outputs": [
    {
     "data": {
      "text/plain": [
       "tensor([0.9030, 0.9110, 0.9212,  ..., 0.9372, 0.9097, 0.9197])"
      ]
     },
     "execution_count": 21,
     "metadata": {},
     "output_type": "execute_result"
    }
   ],
   "source": [
    "score"
   ]
  },
  {
   "cell_type": "code",
   "execution_count": 16,
   "id": "6bae2db1-18ee-489c-8f80-126ffd91b8bd",
   "metadata": {},
   "outputs": [
    {
     "data": {
      "text/plain": [
       "{'input_embeddings': tensor([[-0.0038,  0.0058, -0.0061,  ..., -0.0130,  0.0085,  0.0250],\n",
       "         [ 0.0132, -0.0170,  0.0070,  ..., -0.0067,  0.0085, -0.0271],\n",
       "         [ 0.0031, -0.0034,  0.0111,  ..., -0.0130,  0.0004, -0.0172],\n",
       "         [ 0.0004, -0.0060,  0.0178,  ..., -0.0015, -0.0168,  0.0223],\n",
       "         [-0.0133, -0.0298,  0.0053,  ...,  0.0039,  0.0116,  0.0124]]),\n",
       " 'output_embeddings': tensor([[-3.1196e-03,  6.6308e-03, -6.3631e-03,  ..., -9.6527e-03,\n",
       "           1.5991e-02,  2.5508e-02],\n",
       "         [ 1.8840e-02, -1.7060e-02,  1.9832e-05,  ..., -5.8305e-03,\n",
       "           7.8727e-03, -2.7115e-02],\n",
       "         [ 7.8626e-04, -5.3701e-03,  1.0043e-02,  ..., -1.3857e-02,\n",
       "           5.2782e-03, -1.5857e-02],\n",
       "         [-1.0034e-03, -7.3842e-03,  1.6972e-02,  ..., -3.2110e-03,\n",
       "          -7.5875e-03,  2.3420e-02],\n",
       "         [-1.3430e-02, -2.8129e-02,  2.8303e-03,  ...,  9.0568e-03,\n",
       "           6.5509e-03,  1.0210e-02]]),\n",
       " 'input': ['On January 25, 2018, Kamelot announced their twelfth studio album \"The Shadow Theory\". It was released on April 6, 2018. Lauren Hart and Jennifer Haben appear as guests on the album. The album entered the Billboard Hard Rock Charts at number 2 and peaked the Amazon Hard Rock & Metal Charts at #1. Three music videos were released for The Shadow Theory: \"Phantom Divine (Shadow Empire)\", \"Amnesiac\" and \"MindFall Remedy\".',\n",
       "  'He has been two times recipients of the Ramnath Goenka Excellence in Journalism Award (2017, 2013) for the broadcast category in the Hindi language. The list continues with \"Gauri Lankesh Award for Journalism,\" first Kuldip Nayar journalism award (2017), Ganesh Shankar Vidyarthi Award for Hindi Journalism and Creative Literature (for 2010, awarded in 2014).',\n",
       "  'The last security update released for Mac OS X 10.4 Tiger users was the 2009-005 update. The latest supported version of QuickTime is 7.6.4. The latest version of iTunes that can run on Mac OS X 10.4 Tiger is 9.2.1. Safari 4.1.3 is the final version for Mac OS X 10.4 Tiger.',\n",
       "  'In 2006, she acted in Danielle Ward\\'s \"Take-a-Break Tales\" at The Pleasance with Neil Edmond and Emma Fryer. In 2007, she performed her debut solo stand-up show, \"Love Lost in the British Retail Industry\", which she took to Sydney Arts Festival and on a UK tour in 2010–11, and in 2008 her second solo Edinburgh show \"The Suttie Show\".',\n",
       "  'Richmond is home to a campus of Kwantlen Polytechnic University, Sprott Shaw College and Trinity Western University. The British Columbia Institute of Technology also runs an aerospace technology campus in Sea Island near Vancouver International Airport.\\n Richmond has 10 secondary schools and 38 elementary schools, including three Montessori schools, two late French immersion schools, and six early French immersion schools. They are overseen by School District 38 Richmond. The district also hosts two International Baccalaureate programs, located at Richmond Secondary School and Hugh Boyd Secondary School.'],\n",
       " 'output': ['On the 25th of January 2018, renowned band Kamelot declared the release of their twelfth studio record titled \"The Shadow Theory\". This album hit stores on the sixth of April 2018. Notable guest appearances on this album include Lauren Hart and Jennifer Haben. \"The Shadow Theory\" achieved great success, reaching second place on the Billboard Hard Rock Charts and topping the Amazon Hard Rock & Metal Charts. To promote the album, three music videos were created; these were for the tracks \"Phantom Divine (Shadow Empire)\", \"Amnesiac\", and \"MindFall Remedy\".',\n",
       "  'Two times he was honored with the prestigious Ramnath Goenka Excellence in Journalism Award in the Hindi language, specifically for his work in broadcasting, which he received in 2017 and 2013. Additionally, he has earned other notable awards such as the Gauri Lankesh Award for Journalism, the first Kuldip Nayar journalism award, given in 2017, and the Ganesh Shankar Vidyarthi Award for Hindi Journalism and Creative Literature, presented in 2010 but officially recognized in 2014.',\n",
       "  'For Mac OS X 10.4 Tiger users, the most recent security update was the 2009-005 release. As for QuickTime, the current supported version is 7.6.4. The latest edition of iTunes that can operate on this operating system is 9.2.1. Lastly, Safari 4.1.3 marks the end of updates for Mac OS X 10.4 Tiger.',\n",
       "  'Back in 2006, she appeared alongside Neil Edmond and Emma Fryer in a production of Danielle Ward\\'s play titled \"Take-a-Break Tales,\" held at The Pleasance. Following this performance, in 2007, she made her solo stand-up comedy debut with an act called \"Love Lost in the British Retail Industry.\" This show proved successful, and was later taken to Sydney Arts Festival and went on a UK tour from 2010 to 2011. Moreover, in 2008, she presented her second solo show at the Edinburgh festival, entitled \"The Suttie Show.\"',\n",
       "  'Located within the city of Richmond, Kwantlen Polytechnic University, Sprott Shaw College and Trinity Western University each have campuses here. Additionally, the British Columbia Institute of Technology operates an aerospace technology campus on Sea Island, situated near Vancouver International Airport. In terms of education, there are ten secondary schools and thirty-eight elementary schools in Richmond, including three Montessori institutions, two late French immersion schools, and six early French immersion schools. These schools fall under the jurisdiction of School District 38 Richmond, which also oversees two International Baccalaureate programs, found at Richmond Secondary School and Hugh Boyd Secondary School.'],\n",
       " 'score': [0.953125, 0.953125, 0.9765625, 0.953125, 0.9609375]}"
      ]
     },
     "execution_count": 16,
     "metadata": {},
     "output_type": "execute_result"
    }
   ],
   "source": [
    "result"
   ]
  },
  {
   "cell_type": "code",
   "execution_count": 22,
   "id": "046e6517-0908-4dd6-9914-64a854f4ec75",
   "metadata": {},
   "outputs": [],
   "source": [
    "scores = (result[\"input_embeddings\"] @ result[\"output_embeddings\"].T) * 100"
   ]
  },
  {
   "cell_type": "code",
   "execution_count": 23,
   "id": "32f20c33-3f76-4e01-8854-18462906a2e5",
   "metadata": {},
   "outputs": [],
   "source": [
    "scores, indices = torch.sort(scores, dim=1, descending=True)"
   ]
  },
  {
   "cell_type": "code",
   "execution_count": 24,
   "id": "67b78410-9e81-49d0-bd46-a4d6a90d17cf",
   "metadata": {},
   "outputs": [
    {
     "data": {
      "text/plain": [
       "tensor([[ 90.2970,  35.8181,  29.3209,  ...,  -8.8128,  -8.8662,  -8.9934],\n",
       "        [ 91.1036,  29.7955,  29.7097,  ...,  -8.3959,  -8.5164,  -8.9050],\n",
       "        [ 92.1164,  30.8146,  28.8363,  ...,  -7.0514,  -7.0857,  -8.1452],\n",
       "        ...,\n",
       "        [ 93.7236,  34.7941,  32.4936,  ...,  -8.3081,  -8.3831,  -8.9847],\n",
       "        [ 90.9673,  38.7315,  34.7444,  ...,  -9.4917,  -9.5098, -10.4479],\n",
       "        [ 91.9662,  41.4882,  39.4409,  ...,  -8.9766,  -9.4246,  -9.6154]])"
      ]
     },
     "execution_count": 24,
     "metadata": {},
     "output_type": "execute_result"
    }
   ],
   "source": [
    "scores"
   ]
  },
  {
   "cell_type": "code",
   "execution_count": 25,
   "id": "8c6dc616-2e9c-4637-a193-21acc37e5023",
   "metadata": {},
   "outputs": [
    {
     "data": {
      "text/plain": [
       "tensor([[   0, 1209, 6545,  ..., 2783, 5953, 6044],\n",
       "        [   1, 3809, 9825,  ...,  846, 8568, 2784],\n",
       "        [   2, 2840, 1341,  ..., 1927, 9635, 6496],\n",
       "        ...,\n",
       "        [9997, 8372, 5793,  ..., 3075, 1653, 9454],\n",
       "        [9998,  601, 6442,  ..., 9138,  933, 6119],\n",
       "        [9999, 5343, 9933,  ..., 8706, 5800, 9533]])"
      ]
     },
     "execution_count": 25,
     "metadata": {},
     "output_type": "execute_result"
    }
   ],
   "source": [
    "indices"
   ]
  },
  {
   "cell_type": "code",
   "execution_count": 36,
   "id": "7fd0d29a-3f67-4bb5-a6f8-65801e8f15ab",
   "metadata": {},
   "outputs": [],
   "source": [
    "anchor = result[\"input\"]\n",
    "positive = result[\"output\"]\n",
    "positive_score = scores[:, 0].tolist()\n",
    "hard_negative_1 = [result[\"output\"][ind[1].item()] for ind in indices]\n",
    "hard_negative_score_1 = scores[:, 1].tolist()\n",
    "hard_negative_2 = [result[\"output\"][ind[2].item()] for ind in indices]\n",
    "hard_negative_score_2 = scores[:, 2].tolist()"
   ]
  },
  {
   "cell_type": "code",
   "execution_count": 32,
   "id": "0279a4ba-5586-487b-8e41-615d2e63043d",
   "metadata": {},
   "outputs": [],
   "source": [
    "from datasets import Dataset"
   ]
  },
  {
   "cell_type": "code",
   "execution_count": 37,
   "id": "166cdf85-5b66-4826-b24b-b97353335247",
   "metadata": {},
   "outputs": [],
   "source": [
    "dt = Dataset.from_dict(\n",
    "    {\n",
    "        \"anchor\": anchor,\n",
    "        \"positive\": positive,\n",
    "        \"positive_score\": positive_score,\n",
    "        \"hard_negative_1\": hard_negative_1,\n",
    "        \"hard_negative_score_1\": hard_negative_score_1,\n",
    "        \"hard_negative_2\": hard_negative_2,\n",
    "        \"hard_negative_score_2\": hard_negative_score_2,\n",
    "    }\n",
    ")"
   ]
  },
  {
   "cell_type": "code",
   "execution_count": 38,
   "id": "7c76975c-329f-45fb-aec1-9a9b641bef0d",
   "metadata": {},
   "outputs": [
    {
     "data": {
      "text/plain": [
       "{'anchor': \"In 1928 he submitted a patent application for the linear accelerator, not knowing of Gustav Ising's prior 1924 journal article and Rolf Widerøe's operational device, and in 1929 applied for one for the cyclotron. He was also the first person to conceive the idea of the electron microscope, and submitted the earliest patent for one in 1928.\",\n",
       " 'positive': 'In the year 1928, he filed an application for the invention of the linear accelerator, oblivious to the fact that Gustav Ising had published an article describing such a mechanism four years earlier, and Rolf Widerøe had developed an operational version of it. The next year, he submitted another patent application for the creation of the cyclotron, making him the first individual to envision this technology. Additionally, he was the pioneer behind the concept of the electron microscope, submitting the initial patent request for it in the same year.',\n",
       " 'positive_score': 90.2969741821289,\n",
       " 'hard_negative_1': 'The notion of dividing a solitary video frame into interwoven lines was initially conceived by German Telefunken engineer Fritz Schröter in 1930, who later obtained a patent for this concept in May 1931. Meanwhile, American engineer Randall C. Ballard from RCA also came up with the same idea and secured a patent for it in 1932. During this period, the field rate was maintained at an impressive 45 fields per second, resulting in a remarkably stable image with a frame rate of 15 frames per second and a 3:1 interlace.',\n",
       " 'hard_negative_score_1': 35.81807327270508,\n",
       " 'hard_negative_2': \"In 1990, Datta and Das introduced the concept of utilizing semiconductors for spintronics with their theoretical proposal of a spin field-effect-transistor. This idea was preceded by Rashba's suggestion of electric dipole spin resonance in 1960. According to theory, the spin of the electron is distinct from its orbital angular momentum due to its inherent internal angular momentum.\",\n",
       " 'hard_negative_score_2': 29.320859909057617}"
      ]
     },
     "execution_count": 38,
     "metadata": {},
     "output_type": "execute_result"
    }
   ],
   "source": [
    "dt[0]"
   ]
  },
  {
   "cell_type": "code",
   "execution_count": 40,
   "id": "681b3acc-2af2-4140-a3c4-00ff0a65ccaa",
   "metadata": {},
   "outputs": [
    {
     "data": {
      "application/vnd.jupyter.widget-view+json": {
       "model_id": "e7c809a6e6d643b4a22bfd6f8087a36f",
       "version_major": 2,
       "version_minor": 0
      },
      "text/plain": [
       "Saving the dataset (0/1 shards):   0%|          | 0/10000 [00:00<?, ? examples/s]"
      ]
     },
     "metadata": {},
     "output_type": "display_data"
    }
   ],
   "source": [
    "dt.save_to_disk(\"../en_wiki_paraphrase\")"
   ]
  },
  {
   "cell_type": "code",
   "execution_count": null,
   "id": "e112985a-def0-4ff1-aab2-0770f43099ab",
   "metadata": {},
   "outputs": [],
   "source": []
  },
  {
   "cell_type": "code",
   "execution_count": null,
   "id": "66b5aebb-9e70-46d6-ba6c-3cbb3e83a578",
   "metadata": {},
   "outputs": [],
   "source": []
  },
  {
   "cell_type": "code",
   "execution_count": 41,
   "id": "bc4c85bf-a48b-474b-9a06-d1a6f9ba4a7c",
   "metadata": {},
   "outputs": [],
   "source": [
    "import matplotlib.pyplot as plt"
   ]
  },
  {
   "cell_type": "code",
   "execution_count": 46,
   "id": "25077b35-748a-4e59-a759-156147657a3b",
   "metadata": {},
   "outputs": [
    {
     "data": {
      "image/png": "[encoded data removed]",
      "text/plain": [
       "<Figure size 640x480 with 1 Axes>"
      ]
     },
     "metadata": {},
     "output_type": "display_data"
    }
   ],
   "source": [
    "plt.hist(dt[\"positive_score\"], range=(0, 100), label=\"positive\", bins=100)\n",
    "plt.hist(dt[\"hard_negative_score_1\"], range=(0, 100), label=\"hard negative\", bins=100)\n",
    "\n",
    "plt.title(\"Reference\")\n",
    "plt.legend()\n",
    "plt.show()"
   ]
  },
  {
   "cell_type": "code",
   "execution_count": null,
   "id": "f1e77e41-340e-4f0d-9e8f-a37c55d75e98",
   "metadata": {},
   "outputs": [],
   "source": []
  },
  {
   "cell_type": "code",
   "execution_count": null,
   "id": "79f05d07-00ab-4fc9-961c-852b16fc921a",
   "metadata": {},
   "outputs": [],
   "source": []
  },
  {
   "cell_type": "code",
   "execution_count": null,
   "id": "0e4dc98a-ea34-42c1-98ed-e6ac5d866335",
   "metadata": {},
   "outputs": [],
   "source": []
  },
  {
   "cell_type": "code",
   "execution_count": null,
   "id": "ba0694d1-7616-4619-9088-ff5d1ca4bae5",
   "metadata": {},
   "outputs": [],
   "source": []
  }
 ],
 "metadata": {
  "kernelspec": {
   "display_name": "Python [conda env:.mlspace-cheap_with_dif]",
   "language": "python",
   "name": "conda-env-.mlspace-cheap_with_dif-py"
  },
  "language_info": {
   "codemirror_mode": {
    "name": "ipython",
    "version": 3
   },
   "file_extension": ".py",
   "mimetype": "text/x-python",
   "name": "python",
   "nbconvert_exporter": "python",
   "pygments_lexer": "ipython3",
   "version": "3.10.0"
  }
 },
 "nbformat": 4,
 "nbformat_minor": 5
}
