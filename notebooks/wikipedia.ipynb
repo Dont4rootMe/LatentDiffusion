{
 "cells": [
  {
   "cell_type": "code",
   "execution_count": 1,
   "metadata": {},
   "outputs": [],
   "source": [
    "from datasets import load_dataset"
   ]
  },
  {
   "cell_type": "code",
   "execution_count": 10,
   "metadata": {},
   "outputs": [
    {
     "data": {
      "application/vnd.jupyter.widget-view+json": {
       "model_id": "cd4026d38ce24d5598ac6b8eaef37930",
       "version_major": 2,
       "version_minor": 0
      },
      "text/plain": [
       "Loading dataset shards:   0%|          | 0/80 [00:00<?, ?it/s]"
      ]
     },
     "metadata": {},
     "output_type": "display_data"
    }
   ],
   "source": [
    "name = \"Skylion007/openwebtext\"\n",
    "dt = load_dataset(name)"
   ]
  },
  {
   "cell_type": "code",
   "execution_count": 11,
   "metadata": {},
   "outputs": [
    {
     "data": {
      "text/plain": [
       "DatasetDict({\n",
       "    train: Dataset({\n",
       "        features: ['text'],\n",
       "        num_rows: 8013769\n",
       "    })\n",
       "})"
      ]
     },
     "execution_count": 11,
     "metadata": {},
     "output_type": "execute_result"
    }
   ],
   "source": [
    "dt"
   ]
  },
  {
   "cell_type": "code",
   "execution_count": 12,
   "metadata": {},
   "outputs": [],
   "source": [
    "dt = dt[\"train\"]\n",
    "# dt = dt.remove_columns(\"meta\")"
   ]
  },
  {
   "cell_type": "code",
   "execution_count": 5,
   "metadata": {},
   "outputs": [],
   "source": [
    "from itertools import chain\n",
    "\n",
    "def split(batch):\n",
    "    result = []\n",
    "    for text in batch[\"text\"]:\n",
    "        texts = text.split(\"\\n\\n\")\n",
    "        result.append(texts)\n",
    "    result = list(chain(*result))\n",
    "    return {\"text\": result}"
   ]
  },
  {
   "cell_type": "code",
   "execution_count": 6,
   "metadata": {},
   "outputs": [
    {
     "data": {
      "application/vnd.jupyter.widget-view+json": {
       "model_id": "64bc0d4960e0498296cddbd39a81c8d1",
       "version_major": 2,
       "version_minor": 0
      },
      "text/plain": [
       "Dataset split (num_proc=30):   0%|          | 0/8013769 [00:00<?, ? examples/s]"
      ]
     },
     "metadata": {},
     "output_type": "display_data"
    }
   ],
   "source": [
    "dt = dt.map(\n",
    "    split,\n",
    "    batched=True,\n",
    "    num_proc=30,\n",
    "    desc=\"Dataset split\",\n",
    "    batch_size=1000,\n",
    ")"
   ]
  },
  {
   "cell_type": "code",
   "execution_count": 7,
   "metadata": {},
   "outputs": [
    {
     "data": {
      "text/plain": [
       "Dataset({\n",
       "    features: ['text'],\n",
       "    num_rows: 166005717\n",
       "})"
      ]
     },
     "execution_count": 7,
     "metadata": {},
     "output_type": "execute_result"
    }
   ],
   "source": [
    "dt"
   ]
  },
  {
   "cell_type": "code",
   "execution_count": 13,
   "metadata": {},
   "outputs": [
    {
     "data": {
      "application/vnd.jupyter.widget-view+json": {
       "model_id": "aa69e67bfd3e4457bdd28898d94a6e90",
       "version_major": 2,
       "version_minor": 0
      },
      "text/plain": [
       "Filter (num_proc=30):   0%|          | 0/8013769 [00:00<?, ? examples/s]"
      ]
     },
     "metadata": {},
     "output_type": "display_data"
    }
   ],
   "source": [
    "# Filter small texts\n",
    "min_symbols = 150\n",
    "dt = dt.filter(lambda b: len(b[\"text\"]) >= min_symbols, num_proc=30)"
   ]
  },
  {
   "cell_type": "code",
   "execution_count": 14,
   "metadata": {},
   "outputs": [
    {
     "data": {
      "text/plain": [
       "Dataset({\n",
       "    features: ['text'],\n",
       "    num_rows: 8013769\n",
       "})"
      ]
     },
     "execution_count": 14,
     "metadata": {},
     "output_type": "execute_result"
    }
   ],
   "source": [
    "dt"
   ]
  },
  {
   "cell_type": "code",
   "execution_count": 15,
   "metadata": {},
   "outputs": [],
   "source": [
    "import nltk\n",
    "\n",
    "# Split into sentences\n",
    "tokenizer = nltk.data.load('tokenizers/punkt/english.pickle')\n",
    "\n",
    "threshold_number_of_tokens = 400\n",
    "\n",
    "def split_and_join_into_sents(batch):\n",
    "    result = []\n",
    "\n",
    "    for text in batch[\"text\"]:\n",
    "        texts = tokenizer.tokenize(text)\n",
    "        \n",
    "        cur_text = ''\n",
    "        for text in texts:\n",
    "            if len(cur_text.split()) + len(text.split()) < threshold_number_of_tokens:\n",
    "                if cur_text:\n",
    "                    cur_text += ' ' + text\n",
    "                else:\n",
    "                    cur_text = text\n",
    "            else:\n",
    "                result.append(cur_text)\n",
    "                cur_text = text\n",
    "        if cur_text:\n",
    "            result.append(cur_text)\n",
    "\n",
    "    return {\"text\": result}"
   ]
  },
  {
   "cell_type": "code",
   "execution_count": null,
   "metadata": {},
   "outputs": [],
   "source": []
  },
  {
   "cell_type": "code",
   "execution_count": 16,
   "metadata": {},
   "outputs": [
    {
     "data": {
      "application/vnd.jupyter.widget-view+json": {
       "model_id": "3c30fdbbbcec432da8b8372fbe5d0b63",
       "version_major": 2,
       "version_minor": 0
      },
      "text/plain": [
       "Dataset split (num_proc=30):   0%|          | 0/8013769 [00:00<?, ? examples/s]"
      ]
     },
     "metadata": {},
     "output_type": "display_data"
    }
   ],
   "source": [
    "joined_dt = dt.map(\n",
    "    split_and_join_into_sents,\n",
    "    batched=True,\n",
    "    num_proc=30,\n",
    "    desc=\"Dataset split\",\n",
    "    batch_size=1000,\n",
    ")"
   ]
  },
  {
   "cell_type": "code",
   "execution_count": 17,
   "metadata": {},
   "outputs": [
    {
     "data": {
      "text/plain": [
       "Dataset({\n",
       "    features: ['text'],\n",
       "    num_rows: 20668195\n",
       "})"
      ]
     },
     "execution_count": 17,
     "metadata": {},
     "output_type": "execute_result"
    }
   ],
   "source": [
    "joined_dt"
   ]
  },
  {
   "cell_type": "code",
   "execution_count": 18,
   "metadata": {},
   "outputs": [],
   "source": [
    "from transformers import AutoTokenizer\n",
    "\n",
    "tokenizer = AutoTokenizer.from_pretrained(\"bert-base-cased\")"
   ]
  },
  {
   "cell_type": "code",
   "execution_count": 19,
   "metadata": {},
   "outputs": [],
   "source": [
    "sample_size = 100000\n",
    "# Shuffle the dataset to ensure randomness and reproducibility\n",
    "sampled_dt = joined_dt.shuffle(seed=42).select(range(sample_size))\n"
   ]
  },
  {
   "cell_type": "code",
   "execution_count": null,
   "metadata": {},
   "outputs": [],
   "source": []
  },
  {
   "cell_type": "code",
   "execution_count": 20,
   "metadata": {},
   "outputs": [
    {
     "name": "stderr",
     "output_type": "stream",
     "text": [
      "  0%|          | 0/100 [00:00<?, ?it/s]Token indices sequence length is longer than the specified maximum sequence length for this model (567 > 512). Running this sequence through the model will result in indexing errors\n",
      "100%|██████████| 100/100 [01:12<00:00,  1.37it/s]\n"
     ]
    }
   ],
   "source": [
    "from tqdm import tqdm\n",
    "\n",
    "texts = sampled_dt[\"text\"]\n",
    "\n",
    "lengths = []\n",
    "\n",
    "for i in tqdm(range(0, len(texts), 1000)):\n",
    "    batch = tokenizer(texts[i:i+1000])\n",
    "    batch_lengths = [len(t) for t in batch[\"input_ids\"]]\n",
    "    lengths.extend(batch_lengths)"
   ]
  },
  {
   "cell_type": "code",
   "execution_count": 21,
   "metadata": {},
   "outputs": [
    {
     "data": {
      "text/plain": [
       "9096372928.37335"
      ]
     },
     "execution_count": 21,
     "metadata": {},
     "output_type": "execute_result"
    }
   ],
   "source": [
    "sum(lengths) / 100000 * joined_dt.num_rows"
   ]
  },
  {
   "cell_type": "code",
   "execution_count": 24,
   "metadata": {},
   "outputs": [
    {
     "data": {
      "image/png": "[encoded data removed]",
      "text/plain": [
       "<Figure size 1500x600 with 1 Axes>"
      ]
     },
     "metadata": {},
     "output_type": "display_data"
    }
   ],
   "source": [
    "import seaborn as sns\n",
    "import matplotlib.pyplot as plt\n",
    "import numpy as np\n",
    "\n",
    "# Set the style for an awesome look\n",
    "sns.set_style(\"whitegrid\")\n",
    "plt.figure(figsize=(15, 6))\n",
    "\n",
    "max_length = 1024\n",
    "\n",
    "font_size = 20\n",
    "num_bins = 100\n",
    "bins = np.linspace(0, max_length, num_bins + 1)\n",
    "\n",
    "# Plot histograms\n",
    "sns.histplot(lengths, bins=bins, color=\"green\", label=\"Wikipedia-emnlp\", alpha=0.7, edgecolor=\"black\", stat=\"density\")\n",
    "\n",
    "# Add title and labels with a creative touch\n",
    "# Title with colored text\n",
    "# plt.title(\"Positivity vs Negativity: A Histogram of Contrasts\", fontsize=font_size + 10, fontweight=\"bold\", pad=15)\n",
    "\n",
    "plt.xlabel(\"Text length in tokens\", fontsize=font_size + 5)\n",
    "plt.ylabel(\"Density\", fontsize=font_size + 5)\n",
    "\n",
    "# Set x-axis limits between 0 and 1000\n",
    "plt.xlim(0, max_length)\n",
    "\n",
    "# Adjust tick sizes\n",
    "plt.xticks(fontsize=font_size - 5)\n",
    "plt.yticks(fontsize=font_size - 5)\n",
    "\n",
    "# Add legend\n",
    "# legend = plt.legend(frameon=True, loc=\"upper right\", prop={'weight': 'bold', 'size': font_size}, edgecolor=\"black\")  # Positioned at the upper right with bold text\n",
    "\n",
    "# Get legend position\n",
    "# legend_bbox = legend.get_window_extent().transformed(plt.gcf().dpi_scale_trans.inverted())\n",
    "\n",
    "# Save as PDF\n",
    "plt.savefig(f\"openwebtext-512-histogram.pdf\", format=\"pdf\", bbox_inches=\"tight\")\n",
    "\n",
    "# Show the plot\n",
    "plt.show()"
   ]
  },
  {
   "cell_type": "code",
   "execution_count": 25,
   "metadata": {},
   "outputs": [],
   "source": [
    "joined_dt = joined_dt.rename_column(\"text\", \"text_trg\")"
   ]
  },
  {
   "cell_type": "code",
   "execution_count": 26,
   "metadata": {},
   "outputs": [],
   "source": [
    "# Shuffle and split the dataset\n",
    "test_size = 50000\n",
    "train_test_split = joined_dt.train_test_split(test_size=test_size, shuffle=True, seed=42)"
   ]
  },
  {
   "cell_type": "code",
   "execution_count": null,
   "metadata": {},
   "outputs": [
    {
     "data": {
      "application/vnd.jupyter.widget-view+json": {
       "model_id": "9f8bbcf494ae4286b4a5b4878dfd84f8",
       "version_major": 2,
       "version_minor": 0
      },
      "text/plain": [
       "Saving the dataset (0/20 shards):   0%|          | 0/20618195 [00:00<?, ? examples/s]"
      ]
     },
     "metadata": {},
     "output_type": "display_data"
    }
   ],
   "source": [
    "train_test_split.save_to_disk(\"../data/openwebtext-512\", max_shard_size=\"2GB\")"
   ]
  },
  {
   "cell_type": "code",
   "execution_count": null,
   "metadata": {},
   "outputs": [],
   "source": []
  }
 ],
 "metadata": {
  "language_info": {
   "name": "python"
  }
 },
 "nbformat": 4,
 "nbformat_minor": 2
}
