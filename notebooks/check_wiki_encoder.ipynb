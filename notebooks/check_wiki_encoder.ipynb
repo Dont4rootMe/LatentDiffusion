{
 "cells": [
  {
   "cell_type": "code",
   "execution_count": 1,
   "metadata": {},
   "outputs": [],
   "source": [
    "%load_ext autoreload\n",
    "%autoreload 2"
   ]
  },
  {
   "cell_type": "code",
   "execution_count": 2,
   "metadata": {},
   "outputs": [],
   "source": [
    "import os\n",
    "import sys\n",
    "\n",
    "EXP_NAME = \"autoencoder-paraphrase\"\n",
    "PROJECT_ROOT = \"/home/jovyan/vmeshchaninov/HierarchicalDiffusion\"\n",
    "EXP_RESULT_PATH = f\"{PROJECT_ROOT}/experiments/results/{EXP_NAME}/\"\n",
    "os.makedirs(EXP_RESULT_PATH, exist_ok=True)\n",
    "sys.path.append(PROJECT_ROOT)\n",
    "os.environ[\"PROJECT_ROOT\"] = PROJECT_ROOT"
   ]
  },
  {
   "cell_type": "code",
   "execution_count": 3,
   "metadata": {},
   "outputs": [
    {
     "name": "stderr",
     "output_type": "stream",
     "text": [
      "/home/jovyan/.mlspace/envs/dif_env_v2/lib/python3.11/site-packages/tqdm/auto.py:21: TqdmWarning: IProgress not found. Please update jupyter and ipywidgets. See https://ipywidgets.readthedocs.io/en/stable/user_install.html\n",
      "  from .autonotebook import tqdm as notebook_tqdm\n"
     ]
    }
   ],
   "source": [
    "import torch\n",
    "import hydra\n",
    "from omegaconf import DictConfig, OmegaConf\n",
    "from hydra.core.global_hydra import GlobalHydra\n",
    "\n",
    "from encoder_trainer import EncoderTrainer\n",
    "\n",
    "import numpy as np\n",
    "import seaborn as sns\n",
    "import matplotlib.pyplot as plt\n",
    "from scipy.special import rel_entr  # KL divergence computation"
   ]
  },
  {
   "cell_type": "code",
   "execution_count": 4,
   "metadata": {},
   "outputs": [
    {
     "name": "stdout",
     "output_type": "stream",
     "text": [
      "autoencoder:\n",
      "  model:\n",
      "    checkpoints_prefix: autoencoder\n",
      "    text_encoder: bert-base-cased\n",
      "    text_encoder_freeze_params: true\n",
      "    num_workers: 30\n",
      "    load_checkpoint: null\n",
      "  latent:\n",
      "    dim: 768\n",
      "    resolutions:\n",
      "    - 1\n",
      "    - 1\n",
      "    - 2\n",
      "    - 4\n",
      "    - 8\n",
      "    - 16\n",
      "    is_detach_previous_latents: true\n",
      "  hidden:\n",
      "    size: 768\n",
      "  loss:\n",
      "    level_weights:\n",
      "    - 1.0\n",
      "    - 1.0\n",
      "    - 1.0\n",
      "    - 1.0\n",
      "    - 1.0\n",
      "    - 1.0\n",
      "  training:\n",
      "    training_iters: 20000\n",
      "    batch_size: 256\n",
      "    batch_size_per_gpu: 256\n",
      "  params:\n",
      "    text_encoder: 0\n",
      "    encoder: 0\n",
      "    decoder: 0\n",
      "    total: 0\n",
      "  all_params: dict()\n",
      "  logging:\n",
      "    log_freq: 10\n",
      "    eval_freq: 5000\n",
      "  optimizer:\n",
      "    name: stableadam\n",
      "    learning_rate: 0.0002\n",
      "    warmup_lr: 1.0e-08\n",
      "    min_lr: 0.0001\n",
      "    weight_decay: 1.0e-05\n",
      "    eps: 1.0e-06\n",
      "    betas:\n",
      "    - 0.9\n",
      "    - 0.98\n",
      "    linear_warmup: 10\n",
      "    grad_clip_norm: 10.0\n",
      "encoder:\n",
      "  attention:\n",
      "    head_size: 64\n",
      "    num_heads: 12\n",
      "    probs_dropout: 0.0\n",
      "    qk_norm: true\n",
      "    implementation: flash_attention_2\n",
      "  embedding:\n",
      "    dim: 768\n",
      "    max_position_embeddings: 128\n",
      "    initializer_range: 0.02\n",
      "  hidden:\n",
      "    size: 768\n",
      "    dropout: 0.1\n",
      "    num_layers: 12\n",
      "    ff_mult: 4\n",
      "  latent:\n",
      "    dim: 768\n",
      "    resolutions: null\n",
      "  normalization:\n",
      "    layer_eps: 1.0e-05\n",
      "  model:\n",
      "    text_encoder: bert-base-cased\n",
      "    text_encoder_freeze_params: true\n",
      "    mlm_probability: 0.3\n",
      "    bert_masking: true\n",
      "  tokens:\n",
      "    vocab_size: 28996\n",
      "decoder:\n",
      "  attention:\n",
      "    head_size: 64\n",
      "    num_heads: 12\n",
      "    probs_dropout: 0.0\n",
      "    qk_norm: true\n",
      "    implementation: flash_attention_2\n",
      "  embedding:\n",
      "    dim: 768\n",
      "    max_position_embeddings: 128\n",
      "    initializer_range: 0.02\n",
      "  hidden:\n",
      "    size: 768\n",
      "    dropout: 0.1\n",
      "    num_layers: 6\n",
      "    ff_mult: 4\n",
      "  latent:\n",
      "    dim: 768\n",
      "    resolutions: null\n",
      "  normalization:\n",
      "    layer_eps: 1.0e-05\n",
      "  model:\n",
      "    text_encoder: bert-base-cased\n",
      "    text_encoder_freeze_params: true\n",
      "    mlm_probabilities:\n",
      "    - 1.0\n",
      "    bert_masking: true\n",
      "  tokens:\n",
      "    vocab_size: 28996\n",
      "    mask_token_id: 103\n",
      "  finetuning:\n",
      "    max_std: 0.5\n",
      "dataset:\n",
      "  name: wikipedia-bloom\n",
      "  dataset_path: ${project.path}/data/${.name}\n",
      "  max_sequence_len: 128\n",
      "  swap_cfg_coef: 0.0\n",
      "  metrics:\n",
      "  - mauve\n",
      "  - ppl\n",
      "  - div\n",
      "tokenizer:\n",
      "  add_special_tokens: true\n",
      "  padding: true\n",
      "  truncation: true\n",
      "  return_tensors: pt\n",
      "  return_attention_mask: true\n",
      "  return_token_type_ids: false\n",
      "diffusion:\n",
      "  model:\n",
      "    checkpoints_prefix: diffusion\n",
      "    num_workers: 30\n",
      "    load_checkpoint: null\n",
      "  training:\n",
      "    training_iters: 100000\n",
      "    batch_size: 512\n",
      "    batch_size_per_gpu: 512\n",
      "  generation:\n",
      "    num_gen_texts: 1000\n",
      "    texts_dir_path: generated_texts\n",
      "  diffusion:\n",
      "    T: 1.0\n",
      "    eps: 1.0e-05\n",
      "    use_self_cond: true\n",
      "    t_min: 0.005\n",
      "    is_conditional: false\n",
      "  ema:\n",
      "    decay: 0.9999\n",
      "  dynamic:\n",
      "    'N': 100\n",
      "    scheduler: tanh\n",
      "    d: 10\n",
      "    solver: euler\n",
      "    ode_sampling: false\n",
      "  params:\n",
      "    score_estimator: 0\n",
      "  all_params: dict()\n",
      "  logging:\n",
      "    log_freq: 10\n",
      "    eval_freq: 20000\n",
      "  architecture:\n",
      "    unconditional_encoder:\n",
      "      hidden_size: 768\n",
      "      intermediate_size: 3072\n",
      "      num_hidden_layers: 12\n",
      "      num_attention_heads: 12\n",
      "      attention_head_size: 64\n",
      "      attention_probs_dropout_prob: 0.0\n",
      "      layer_norm_eps: 1.0e-05\n",
      "      rope_theta: 10000.0\n",
      "      max_position_embeddings: 512\n",
      "    time_embedding:\n",
      "      max_period: 10\n",
      "    conditional_encoder:\n",
      "      hidden_size: 768\n",
      "      num_hidden_layers: 12\n",
      "      num_attention_heads: 12\n",
      "      max_position_embeddings: 512\n",
      "  optimizer:\n",
      "    name: adamw\n",
      "    learning_rate: 0.0002\n",
      "    warmup_lr: 1.0e-08\n",
      "    min_lr: 0.0002\n",
      "    weight_decay: 1.0e-05\n",
      "    eps: 1.0e-06\n",
      "    betas:\n",
      "    - 0.9\n",
      "    - 0.98\n",
      "    linear_warmup: 1000\n",
      "    grad_clip_norm: 1.0\n",
      "project:\n",
      "  path: ${oc.env:PROJECT_ROOT}\n",
      "  seed: 0\n",
      "  output_dir: ${project.path}/outputs/\n",
      "  checkpoint_dir: ${project.path}/checkpoints/\n",
      "  name: hierarchical-diffusion-v1.4\n",
      "ddp:\n",
      "  enabled: true\n",
      "  local_rank: ${oc.env:LOCAL_RANK,0}\n",
      "  global_rank: ${oc.env:RANK,0}\n",
      "  world_size: ${oc.env:WORLD_SIZE,1}\n",
      "model:\n",
      "  text_encoder: bert-base-cased\n",
      "training: autoencoder\n",
      "\n"
     ]
    },
    {
     "name": "stderr",
     "output_type": "stream",
     "text": [
      "/home/jovyan/.mlspace/envs/dif_env_v2/lib/python3.11/site-packages/hydra/_internal/defaults_list.py:251: UserWarning: In 'config': Defaults list is missing `_self_`. See https://hydra.cc/docs/1.2/upgrades/1.0_to_1.1/default_composition_order for more information\n",
      "  warnings.warn(msg, UserWarning)\n"
     ]
    }
   ],
   "source": [
    "device = torch.device(\"cuda\" if torch.cuda.is_available() else \"cpu\")\n",
    "\n",
    "# Reset Hydra to avoid conflicts if already initialized\n",
    "GlobalHydra.instance().clear()\n",
    "\n",
    "# Initialize Hydra and load config manually\n",
    "hydra.initialize(config_path=\"../conf\", version_base=None)  # Set path to your configs\n",
    "\n",
    "# Load the configuration\n",
    "cfg = hydra.compose(config_name=\"config\")  # Replace with your main config file\n",
    "\n",
    "# Print the loaded config\n",
    "print(OmegaConf.to_yaml(cfg))"
   ]
  },
  {
   "cell_type": "code",
   "execution_count": 32,
   "metadata": {},
   "outputs": [],
   "source": [
    "# Setup the config\n",
    "cfg.ddp.enabled = False\n",
    "cfg.autoencoder.latent.resolutions=[16]\n",
    "cfg.autoencoder.model.load_checkpoint = \"./autoencoder-latent_resolutions=[16]-mlm_probabilities_dec=[1.0]-wikipedia-v3.1/50000.pth\"\n"
   ]
  },
  {
   "cell_type": "code",
   "execution_count": 33,
   "metadata": {},
   "outputs": [
    {
     "name": "stdout",
     "output_type": "stream",
     "text": [
      "Checkpotint ./autoencoder-latent_resolutions=[16]-mlm_probabilities_dec=[1.0]-wikipedia-v3.1/50000.pth loaded\n",
      "Checkpotint ./autoencoder-latent_resolutions=[16]-mlm_probabilities_dec=[1.0]-wikipedia-v3.1/50000.pth loaded\n"
     ]
    }
   ],
   "source": [
    "trainer = EncoderTrainer(cfg)"
   ]
  },
  {
   "cell_type": "code",
   "execution_count": 34,
   "metadata": {},
   "outputs": [],
   "source": [
    "from datasets import load_from_disk\n",
    "\n",
    "data = load_from_disk(\"/home/jovyan/vmeshchaninov/HierarchicalDiffusion/data/rocstories\")"
   ]
  },
  {
   "cell_type": "code",
   "execution_count": 35,
   "metadata": {},
   "outputs": [
    {
     "data": {
      "text/plain": [
       "DatasetDict({\n",
       "    train: Dataset({\n",
       "        features: ['text_trg'],\n",
       "        num_rows: 88161\n",
       "    })\n",
       "    test: Dataset({\n",
       "        features: ['text_trg'],\n",
       "        num_rows: 10000\n",
       "    })\n",
       "})"
      ]
     },
     "execution_count": 35,
     "metadata": {},
     "output_type": "execute_result"
    }
   ],
   "source": [
    "data"
   ]
  },
  {
   "cell_type": "code",
   "execution_count": 36,
   "metadata": {},
   "outputs": [],
   "source": [
    "from transformers import AutoTokenizer\n",
    "from encoder_trainer import cross_entropy_loss, accuracy\n",
    "\n",
    "tokenizer = AutoTokenizer.from_pretrained(\"bert-base-cased\")"
   ]
  },
  {
   "cell_type": "code",
   "execution_count": 37,
   "metadata": {},
   "outputs": [],
   "source": [
    "batch = tokenizer(\n",
    "    data[\"test\"]['text_trg'],\n",
    "    add_special_tokens=True,\n",
    "    padding=True,\n",
    "    truncation=True,\n",
    "    max_length=128,\n",
    "    return_tensors=\"pt\",\n",
    "    return_special_tokens_mask=True,\n",
    "    return_token_type_ids=False,\n",
    ").to(\"cuda:0\")"
   ]
  },
  {
   "cell_type": "code",
   "execution_count": 38,
   "metadata": {},
   "outputs": [
    {
     "name": "stderr",
     "output_type": "stream",
     "text": [
      "/home/jovyan/.mlspace/envs/dif_env_v2/lib/python3.11/contextlib.py:105: FutureWarning: `torch.backends.cuda.sdp_kernel()` is deprecated. In the future, this context manager will be removed. Please see `torch.nn.attention.sdpa_kernel()` for the new context manager, with updated signature.\n",
      "  self.gen = func(*args, **kwds)\n"
     ]
    }
   ],
   "source": [
    "with torch.no_grad(), torch.autocast(device_type='cuda', dtype=torch.bfloat16):\n",
    "    encoder_latents = trainer.encoder(\n",
    "        token_ids=batch[\"input_ids\"],\n",
    "        mask_tokens=batch[\"attention_mask\"]\n",
    "    )"
   ]
  },
  {
   "cell_type": "code",
   "execution_count": 39,
   "metadata": {},
   "outputs": [],
   "source": [
    "acc_list = []\n",
    "\n",
    "for i in range(0, 10000, 1000):\n",
    "    with torch.no_grad(), torch.autocast(device_type='cuda', dtype=torch.bfloat16):\n",
    "        latents = encoder_latents[i: i+1000]\n",
    "        logits = trainer.decoder(encoder_latents=latents)\n",
    "        acc = accuracy(\n",
    "            logits=logits,\n",
    "            target=batch[\"input_ids\"][i: i+1000],\n",
    "            mask=batch[\"attention_mask\"][i: i+1000]\n",
    "        )\n",
    "\n",
    "        acc_list.append(acc.item())\n"
   ]
  },
  {
   "cell_type": "code",
   "execution_count": 40,
   "metadata": {},
   "outputs": [
    {
     "data": {
      "text/plain": [
       "0.9993908047676087"
      ]
     },
     "execution_count": 40,
     "metadata": {},
     "output_type": "execute_result"
    }
   ],
   "source": [
    "np.mean(acc_list)"
   ]
  },
  {
   "cell_type": "code",
   "execution_count": 33,
   "metadata": {},
   "outputs": [
    {
     "name": "stdout",
     "output_type": "stream",
     "text": [
      "0.6976743936538696\n"
     ]
    },
    {
     "name": "stderr",
     "output_type": "stream",
     "text": [
      "/home/jovyan/.mlspace/envs/dif_env_v2/lib/python3.11/contextlib.py:105: FutureWarning: `torch.backends.cuda.sdp_kernel()` is deprecated. In the future, this context manager will be removed. Please see `torch.nn.attention.sdpa_kernel()` for the new context manager, with updated signature.\n",
      "  self.gen = func(*args, **kwds)\n"
     ]
    }
   ],
   "source": [
    "ind = 0\n",
    "\n",
    "with torch.no_grad(), torch.autocast(device_type='cuda', dtype=torch.bfloat16):\n",
    "    latents = encoder_latents[ind: ind+1]\n",
    "    logits = trainer.decoder(encoder_latents=latents)\n",
    "    acc = accuracy(\n",
    "        logits=logits,\n",
    "        target=batch[\"input_ids\"][ind: ind+1],\n",
    "        mask=batch[\"attention_mask\"][ind: ind+1]\n",
    "    )\n",
    "print(acc.item())"
   ]
  },
  {
   "cell_type": "code",
   "execution_count": 34,
   "metadata": {},
   "outputs": [
    {
     "data": {
      "text/plain": [
       "['[CLS] Jill wanted to lose weight. She started walking to work. She also brought her own healthy lunch. She lost 20 pounds in three months. Now she heads a weight loss club to motivate others! [SEP] [PAD] [PAD] [PAD] [PAD] [PAD] [PAD] [PAD] [PAD] [PAD] [PAD] [PAD] [PAD] [PAD] [PAD] [PAD] [PAD] [PAD] [PAD] [PAD] [PAD] [PAD] [PAD] [PAD] [PAD] [PAD] [PAD] [PAD] [PAD] [PAD] [PAD] [PAD] [PAD] [PAD] [PAD] [PAD] [PAD] [PAD] [PAD] [PAD] [PAD] [PAD] [PAD] [PAD] [PAD] [PAD] [PAD] [PAD] [PAD] [PAD] [PAD] [PAD] [PAD] [PAD] [PAD] [PAD] [PAD] [PAD] [PAD] [PAD] [PAD] [PAD] [PAD] [PAD] [PAD] [PAD] [PAD] [PAD] [PAD] [PAD] [PAD] [PAD] [PAD] [PAD] [PAD] [PAD] [PAD] [PAD] [PAD] [PAD] [PAD] [PAD] [PAD] [PAD] [PAD] [PAD]']"
      ]
     },
     "execution_count": 34,
     "metadata": {},
     "output_type": "execute_result"
    }
   ],
   "source": [
    "tokenizer.batch_decode(batch[\"input_ids\"][ind: ind+1])"
   ]
  },
  {
   "cell_type": "code",
   "execution_count": 35,
   "metadata": {},
   "outputs": [
    {
     "data": {
      "text/plain": [
       "['[CLS] Jill wanted to lose weight. She started walking to work. She also brought her own healthy lunch. She brought 20ly in three months. brought she brought a weight healthy lunch. 20sp lost her ’ in months three months in no own lunch. [SEP] years lost. gained every 20 months months [SEP] Long. [SEP] a [SEP] [SEP] club to motivate others, [SEP]ly now now now now [SEP] a the. loss club to mivate [SEP] [SEP] [SEP] [SEP] [SEP] [SEP] Now [SEP] [SEP] s family [SEP] [SEP] [SEP] [SEP] [SEP] [SEP] [SEP] [SEP] [SEP] [SEP] [SEP] [SEP] [SEP] [SEP] [SEP] [SEP] [SEP] [SEP] [SEP] [SEP] [SEP] [SEP] [SEP] [SEP] [SEP] [SEP]! [SEP]']"
      ]
     },
     "execution_count": 35,
     "metadata": {},
     "output_type": "execute_result"
    }
   ],
   "source": [
    "tokenizer.batch_decode(logits.argmax(dim=-1))"
   ]
  },
  {
   "cell_type": "code",
   "execution_count": 17,
   "metadata": {},
   "outputs": [],
   "source": [
    "\n",
    "wiki_data = load_from_disk(\"/home/jovyan/vmeshchaninov/DiffusionLanguageModel/data/wikipedia-emnlp\")"
   ]
  },
  {
   "cell_type": "code",
   "execution_count": 19,
   "metadata": {},
   "outputs": [],
   "source": [
    "batch = tokenizer(wiki_data[\"test\"]['target'])\n",
    "lengths = [len(t) for t in batch[\"input_ids\"]]"
   ]
  },
  {
   "cell_type": "code",
   "execution_count": 21,
   "metadata": {},
   "outputs": [
    {
     "data": {
      "image/png": "[encoded data removed]",
      "text/plain": [
       "<Figure size 1500x600 with 1 Axes>"
      ]
     },
     "metadata": {},
     "output_type": "display_data"
    }
   ],
   "source": [
    "# Set the style for an awesome look\n",
    "sns.set_style(\"whitegrid\")\n",
    "plt.figure(figsize=(15, 6))\n",
    "\n",
    "font_size = 20\n",
    "num_bins = 50\n",
    "bins = np.linspace(0, 128, num_bins + 1)\n",
    "\n",
    "# Plot histograms\n",
    "sns.histplot(lengths, bins=bins, kde=True, color=\"green\", label=\"Wikipedia-emnlp\", alpha=0.7, edgecolor=\"black\")\n",
    "\n",
    "# Add title and labels with a creative touch\n",
    "# Title with colored text\n",
    "# plt.title(\"Positivity vs Negativity: A Histogram of Contrasts\", fontsize=font_size + 10, fontweight=\"bold\", pad=15)\n",
    "\n",
    "plt.xlabel(\"Text length in tokens\", fontsize=font_size + 5)\n",
    "plt.ylabel(\"Number\", fontsize=font_size + 5)\n",
    "\n",
    "# Set x-axis limits between 0 and 1000\n",
    "plt.xlim(0, 128)\n",
    "\n",
    "# Adjust tick sizes\n",
    "plt.xticks(fontsize=font_size - 5)\n",
    "plt.yticks(fontsize=font_size - 5)\n",
    "\n",
    "# Add legend\n",
    "legend = plt.legend(frameon=True, loc=\"upper right\", prop={'weight': 'bold', 'size': font_size}, edgecolor=\"black\")  # Positioned at the upper right with bold text\n",
    "\n",
    "# Get legend position\n",
    "legend_bbox = legend.get_window_extent().transformed(plt.gcf().dpi_scale_trans.inverted())\n",
    "\n",
    "# Save as PDF\n",
    "# plt.savefig(f\"{PROJECT_ROOT}/experiments/results/{EXP_NAME}/histogram.pdf\", format=\"pdf\", bbox_inches=\"tight\")\n",
    "\n",
    "# Show the plot\n",
    "plt.show()"
   ]
  },
  {
   "cell_type": "code",
   "execution_count": null,
   "metadata": {},
   "outputs": [],
   "source": []
  }
 ],
 "metadata": {
  "language_info": {
   "name": "python"
  }
 },
 "nbformat": 4,
 "nbformat_minor": 2
}
