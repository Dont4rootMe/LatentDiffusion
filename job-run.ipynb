{
 "cells": [
  {
   "cell_type": "code",
   "execution_count": 1,
   "metadata": {},
   "outputs": [],
   "source": [
    "import client_lib\n",
    "import shlex"
   ]
  },
  {
   "cell_type": "code",
   "execution_count": 2,
   "metadata": {},
   "outputs": [],
   "source": [
    "work_dir = \"/home/jovyan/vmeshchaninov/LatentDiffusion\""
   ]
  },
  {
   "cell_type": "markdown",
   "metadata": {},
   "source": [
    "# Encoder training"
   ]
  },
  {
   "cell_type": "code",
   "execution_count": 11,
   "metadata": {},
   "outputs": [],
   "source": [
    "# reconstruction training on wikipedia-512\n",
    "\n",
    "num_latents = 1\n",
    "\n",
    "script = f\"{work_dir}/train_encoder.py \" \\\n",
    "         f\"dataset=wikipedia-512 \" \\\n",
    "         f\"encoder.latent.num_latents={num_latents} \" \\\n",
    "         f\"decoder.latent.num_latents={num_latents} \" \\\n",
    "         f\"encoder.augmentation.masking.weight=0. \" \\\n",
    "         f\"encoder.augmentation.gaussian_noise.weight=0. \"\n"
   ]
  },
  {
   "cell_type": "code",
   "execution_count": 3,
   "metadata": {},
   "outputs": [],
   "source": [
    "# reconstruction training on wikipedia\n",
    "\n",
    "num_latents = 16\n",
    "suffix = \"v2.0\"\n",
    "\n",
    "script = f\"{work_dir}/train_encoder.py \" \\\n",
    "         f\"dataset=wikipedia \" \\\n",
    "         f\"encoder.latent.num_latents={num_latents} \" \\\n",
    "         f\"decoder.latent.num_latents={num_latents} \" \\\n",
    "         f\"encoder.augmentation.masking.weight=0. \" \\\n",
    "         f\"encoder.augmentation.gaussian_noise.weight=0. \" \\\n",
    "         f\"suffix={suffix}\"\n"
   ]
  },
  {
   "cell_type": "code",
   "execution_count": 8,
   "metadata": {},
   "outputs": [],
   "source": [
    "# v1.1 training on wikipedia\n",
    "\n",
    "num_latents = 64\n",
    "\n",
    "script = f\"{work_dir}/train_encoder.py \" \\\n",
    "         f\"dataset=wikipedia \" \\\n",
    "         f\"encoder.latent.num_latents={num_latents} \" \\\n",
    "         f\"decoder.latent.num_latents={num_latents} \" \\\n",
    "         f\"encoder.augmentation.masking.weight=0.5 \" \\\n",
    "         f\"encoder.augmentation.gaussian_noise.weight=0.5 \"\n"
   ]
  },
  {
   "cell_type": "code",
   "execution_count": 33,
   "metadata": {},
   "outputs": [],
   "source": [
    "# masking ablation\n",
    "\n",
    "ratio = 1\n",
    "num_latents = 16\n",
    "suffix = f\"v2.1.{ratio}\"\n",
    "\n",
    "# checkpoint = \"autoencoder-num_latents=16-wikipedia-v2.1.5-128/80000.pth\"\n",
    "\n",
    "script = f\"{work_dir}/train_encoder.py \" \\\n",
    "         f\"dataset=wikipedia \" \\\n",
    "         f\"encoder.latent.num_latents={num_latents} \" \\\n",
    "         f\"decoder.latent.num_latents={num_latents} \" \\\n",
    "         f\"encoder.augmentation.masking.weight=1.0 \" \\\n",
    "         f\"encoder.augmentation.masking.encodings_mlm_probability={ratio / 10.} \" \\\n",
    "         f\"encoder.augmentation.gaussian_noise.weight=0. \" \\\n",
    "         f\"suffix={suffix}\""
   ]
  },
  {
   "cell_type": "code",
   "execution_count": 14,
   "metadata": {},
   "outputs": [],
   "source": [
    "# gaussian ablation\n",
    "\n",
    "num_latents = 128\n",
    "suffix = f\"final\"\n",
    "\n",
    "script = f\"{work_dir}/train_encoder.py \" \\\n",
    "         f\"dataset=wikipedia \" \\\n",
    "         f\"encoder.latent.num_latents={num_latents} \" \\\n",
    "         f\"decoder.latent.num_latents={num_latents} \" \\\n",
    "         f\"suffix={suffix}\""
   ]
  },
  {
   "cell_type": "code",
   "execution_count": 15,
   "metadata": {},
   "outputs": [
    {
     "name": "stderr",
     "output_type": "stream",
     "text": [
      "/home/user/conda/lib/python3.11/site-packages/client_lib.py:412: DeprecationWarning: The `preflight_check` parameter is deprecated and has no effect. Soon the parameter support will stop completely, please do not use it.\n",
      "  warnings.warn(msg, DeprecationWarning)\n"
     ]
    },
    {
     "data": {
      "text/plain": [
       "'Job \"lm-mpi-job-02696755-f47c-48e2-ae99-93244d14bc34\" created.'"
      ]
     },
     "execution_count": 15,
     "metadata": {},
     "output_type": "execute_result"
    }
   ],
   "source": [
    "N_GPUS = 8\n",
    "N_WORKERS = 2\n",
    "\n",
    "base_image = \"cr.ai.cloud.ru/6e6f5587-f3c6-4c5d-b535-0c4fce4c6027/jupyter-job-textdif:0.8\"\n",
    "EXP_NAME = 'autoencoder'\n",
    "\n",
    "\n",
    "job = client_lib.Job(\n",
    "    job_desc=f\"#other#RnD-meshchaninov-{EXP_NAME}\",\n",
    "    base_image=base_image,\n",
    "    script=script,\n",
    "    n_workers = N_WORKERS,\n",
    "    instance_type=f\"a100.{N_GPUS}gpu\",\n",
    "    type = 'pytorch2',\n",
    "    preflight_check=True,\n",
    "    env_variables={\n",
    "        'NCCL_IB_SL': \"\",\n",
    "        'NCCL_P2P_LEVEL': \"\",\n",
    "        'NCCL_NET_GDR_LEVEL': \"\",\n",
    "        'NCCL_MAX_NRINGS': \"\",\n",
    "        'PYTHONPATH': \"\",\n",
    "        'PROJECT_ROOT': work_dir,\n",
    "    },\n",
    "    region='A100-MT',\n",
    "    flags = {},\n",
    ")\n",
    "\n",
    "job.submit()"
   ]
  },
  {
   "cell_type": "code",
   "execution_count": 13,
   "metadata": {},
   "outputs": [
    {
     "data": {
      "text/plain": [
       "'Job status=Failed'"
      ]
     },
     "execution_count": 13,
     "metadata": {},
     "output_type": "execute_result"
    }
   ],
   "source": [
    "job.status()"
   ]
  },
  {
   "cell_type": "code",
   "execution_count": 12,
   "metadata": {},
   "outputs": [
    {
     "data": {
      "text/plain": [
       "'Job \"lm-mpi-job-c30acc3a-cc73-45e8-bf15-a4b33cab7338\" deleted'"
      ]
     },
     "execution_count": 12,
     "metadata": {},
     "output_type": "execute_result"
    }
   ],
   "source": [
    "job.kill()"
   ]
  },
  {
   "cell_type": "markdown",
   "metadata": {},
   "source": [
    "## OpenWebText"
   ]
  },
  {
   "cell_type": "code",
   "execution_count": 8,
   "metadata": {},
   "outputs": [],
   "source": [
    "# gaussian ablation\n",
    "\n",
    "num_latents = 128\n",
    "suffix = f\"v1.0\"\n",
    "\n",
    "script = f\"{work_dir}/train_encoder.py \" \\\n",
    "         f\"dataset=openwebtext-512 \" \\\n",
    "         f\"project.name='latent-diffusion-article-large-v1.0' \" \\\n",
    "         f\"encoder.latent.num_latents={num_latents} \" \\\n",
    "         f\"encoder.embedding.max_position_embeddings=512 \" \\\n",
    "         f\"decoder.latent.num_latents={num_latents} \" \\\n",
    "         f\"decoder.embedding.max_position_embeddings=512 \" \\\n",
    "         f\"autoencoder.training.training_iters=100000 \" \\\n",
    "         f\"suffix={suffix}\""
   ]
  },
  {
   "cell_type": "code",
   "execution_count": 9,
   "metadata": {},
   "outputs": [
    {
     "name": "stderr",
     "output_type": "stream",
     "text": [
      "/home/user/conda/lib/python3.11/site-packages/client_lib.py:412: DeprecationWarning: The `preflight_check` parameter is deprecated and has no effect. Soon the parameter support will stop completely, please do not use it.\n",
      "  warnings.warn(msg, DeprecationWarning)\n"
     ]
    },
    {
     "data": {
      "text/plain": [
       "'Job \"lm-mpi-job-1a03c349-6fa5-4171-a80b-7ea93c6e4440\" created.'"
      ]
     },
     "execution_count": 9,
     "metadata": {},
     "output_type": "execute_result"
    }
   ],
   "source": [
    "N_GPUS = 8\n",
    "N_WORKERS = 2\n",
    "\n",
    "base_image = \"cr.ai.cloud.ru/6e6f5587-f3c6-4c5d-b535-0c4fce4c6027/jupyter-job-textdif:0.8\"\n",
    "EXP_NAME = 'autoencoder'\n",
    "\n",
    "\n",
    "job = client_lib.Job(\n",
    "    job_desc=f\"#other#RnD-meshchaninov-{EXP_NAME}\",\n",
    "    base_image=base_image,\n",
    "    script=script,\n",
    "    n_workers = N_WORKERS,\n",
    "    instance_type=f\"a100.{N_GPUS}gpu\",\n",
    "    type = 'pytorch2',\n",
    "    preflight_check=True,\n",
    "    env_variables={\n",
    "        'NCCL_IB_SL': \"\",\n",
    "        'NCCL_P2P_LEVEL': \"\",\n",
    "        'NCCL_NET_GDR_LEVEL': \"\",\n",
    "        'NCCL_MAX_NRINGS': \"\",\n",
    "        'PYTHONPATH': \"\",\n",
    "        'PROJECT_ROOT': work_dir,\n",
    "    },\n",
    "    region='A100-MT',\n",
    "    flags = {},\n",
    ")\n",
    "\n",
    "job.submit()"
   ]
  },
  {
   "cell_type": "code",
   "execution_count": null,
   "metadata": {},
   "outputs": [],
   "source": []
  },
  {
   "cell_type": "code",
   "execution_count": null,
   "metadata": {},
   "outputs": [],
   "source": []
  },
  {
   "cell_type": "code",
   "execution_count": null,
   "metadata": {},
   "outputs": [],
   "source": []
  },
  {
   "cell_type": "markdown",
   "metadata": {},
   "source": [
    "## Finetuning"
   ]
  },
  {
   "cell_type": "code",
   "execution_count": 5,
   "metadata": {},
   "outputs": [],
   "source": [
    "def make_checkpoint(name):\n",
    "    list_ = []\n",
    "    for s in list(name):\n",
    "        if s in ['[', ']', '(', ')', '=', ',']:\n",
    "            list_.append(f\"\\\\{s}\")\n",
    "            \n",
    "        else:\n",
    "            list_.append(s)\n",
    "    t = \"\".join(list_)\n",
    "    print(list_)\n",
    "    print(t)\n",
    "    return t"
   ]
  },
  {
   "cell_type": "code",
   "execution_count": 6,
   "metadata": {},
   "outputs": [
    {
     "name": "stdout",
     "output_type": "stream",
     "text": [
      "['a', 'u', 't', 'o', 'e', 'n', 'c', 'o', 'd', 'e', 'r', '-', 'n', 'u', 'm', '_', 'l', 'a', 't', 'e', 'n', 't', 's', '\\\\=', '1', '6', '-', 'w', 'i', 'k', 'i', 'p', 'e', 'd', 'i', 'a', '-', 'v', '1', '.', '1', '-', '1', '2', '8', '/', '1', '0', '0', '0', '0', '0', '.', 'p', 't', 'h']\n",
      "autoencoder-num_latents\\=16-wikipedia-v1.1-128/100000.pth\n"
     ]
    }
   ],
   "source": [
    "num_latents = 16\n",
    "suffix = \"v1.1-simclr_finetune-temp_10\"\n",
    "\n",
    "checkpoint = \"autoencoder-num_latents=16-wikipedia-v1.1-128/100000.pth\"\n",
    "\n",
    "script = f\"{work_dir}/train_encoder.py \" \\\n",
    "         f\"dataset=wikipedia \" \\\n",
    "         f\"encoder.latent.num_latents={num_latents} \" \\\n",
    "         f\"decoder.latent.num_latents={num_latents} \" \\\n",
    "         f\"encoder.augmentation.masking.weight=0.5 \" \\\n",
    "         f\"encoder.augmentation.gaussian_noise.weight=0.5 \" \\\n",
    "         f\"autoencoder.training.training_iters=110000 \" \\\n",
    "         f\"autoencoder.logging.eval_freq=10000 \" \\\n",
    "         f\"autoencoder.model.load_checkpoint='{make_checkpoint(checkpoint)}' \" \\\n",
    "         f\"suffix={suffix} \"\n"
   ]
  },
  {
   "cell_type": "code",
   "execution_count": null,
   "metadata": {},
   "outputs": [],
   "source": []
  },
  {
   "cell_type": "code",
   "execution_count": 7,
   "metadata": {},
   "outputs": [
    {
     "name": "stderr",
     "output_type": "stream",
     "text": [
      "/home/user/conda/lib/python3.11/site-packages/client_lib.py:412: DeprecationWarning: The `preflight_check` parameter is deprecated and has no effect. Soon the parameter support will stop completely, please do not use it.\n",
      "  warnings.warn(msg, DeprecationWarning)\n"
     ]
    },
    {
     "data": {
      "text/plain": [
       "'Job \"lm-mpi-job-2694114b-61b8-41e9-ab4d-2d8000e23aef\" created.'"
      ]
     },
     "execution_count": 7,
     "metadata": {},
     "output_type": "execute_result"
    }
   ],
   "source": [
    "N_GPUS = 8\n",
    "N_WORKERS = 2\n",
    "\n",
    "base_image = \"cr.ai.cloud.ru/6e6f5587-f3c6-4c5d-b535-0c4fce4c6027/jupyter-job-textdif:0.8\"\n",
    "EXP_NAME = 'autoencoder'\n",
    "\n",
    "\n",
    "job = client_lib.Job(\n",
    "    job_desc=f\"#other#RnD-meshchaninov-{EXP_NAME}\",\n",
    "    base_image=base_image,\n",
    "    script=script,\n",
    "    n_workers = N_WORKERS,\n",
    "    instance_type=f\"a100.{N_GPUS}gpu\",\n",
    "    type = 'pytorch2',\n",
    "    preflight_check=True,\n",
    "    env_variables={\n",
    "        'NCCL_IB_SL': \"\",\n",
    "        'NCCL_P2P_LEVEL': \"\",\n",
    "        'NCCL_NET_GDR_LEVEL': \"\",\n",
    "        'NCCL_MAX_NRINGS': \"\",\n",
    "        'PYTHONPATH': \"\",\n",
    "        'PROJECT_ROOT': work_dir,\n",
    "    },\n",
    "    region='A100-MT',\n",
    "    flags = {},\n",
    ")\n",
    "\n",
    "job.submit()"
   ]
  },
  {
   "cell_type": "markdown",
   "metadata": {},
   "source": [
    "## Cycle"
   ]
  },
  {
   "cell_type": "code",
   "execution_count": 10,
   "metadata": {},
   "outputs": [
    {
     "name": "stderr",
     "output_type": "stream",
     "text": [
      "/home/user/conda/lib/python3.11/site-packages/client_lib.py:412: DeprecationWarning: The `preflight_check` parameter is deprecated and has no effect. Soon the parameter support will stop completely, please do not use it.\n",
      "  warnings.warn(msg, DeprecationWarning)\n",
      "/home/user/conda/lib/python3.11/site-packages/client_lib.py:412: DeprecationWarning: The `preflight_check` parameter is deprecated and has no effect. Soon the parameter support will stop completely, please do not use it.\n",
      "  warnings.warn(msg, DeprecationWarning)\n",
      "/home/user/conda/lib/python3.11/site-packages/client_lib.py:412: DeprecationWarning: The `preflight_check` parameter is deprecated and has no effect. Soon the parameter support will stop completely, please do not use it.\n",
      "  warnings.warn(msg, DeprecationWarning)\n",
      "/home/user/conda/lib/python3.11/site-packages/client_lib.py:412: DeprecationWarning: The `preflight_check` parameter is deprecated and has no effect. Soon the parameter support will stop completely, please do not use it.\n",
      "  warnings.warn(msg, DeprecationWarning)\n",
      "/home/user/conda/lib/python3.11/site-packages/client_lib.py:412: DeprecationWarning: The `preflight_check` parameter is deprecated and has no effect. Soon the parameter support will stop completely, please do not use it.\n",
      "  warnings.warn(msg, DeprecationWarning)\n",
      "/home/user/conda/lib/python3.11/site-packages/client_lib.py:412: DeprecationWarning: The `preflight_check` parameter is deprecated and has no effect. Soon the parameter support will stop completely, please do not use it.\n",
      "  warnings.warn(msg, DeprecationWarning)\n"
     ]
    }
   ],
   "source": [
    "# reconstruction training on wikipedia\n",
    "\n",
    "suffix = \"v1.0\"\n",
    "\n",
    "for num_latents in [2, 4, 8, 16, 32, 64]:\n",
    "\n",
    "    script = f\"{work_dir}/train_encoder.py \" \\\n",
    "            f\"dataset=wikipedia \" \\\n",
    "            f\"encoder.latent.num_latents={num_latents} \" \\\n",
    "            f\"decoder.latent.num_latents={num_latents} \" \\\n",
    "            f\"encoder.augmentation.masking.weight=0. \" \\\n",
    "            f\"encoder.augmentation.gaussian_noise.weight=0. \" \\\n",
    "            f\"suffix={suffix}\"\n",
    "\n",
    "    N_GPUS = 8\n",
    "    N_WORKERS = 1\n",
    "\n",
    "    base_image = \"cr.ai.cloud.ru/6e6f5587-f3c6-4c5d-b535-0c4fce4c6027/jupyter-job-textdif:0.8\"\n",
    "    EXP_NAME = 'autoencoder'\n",
    "\n",
    "\n",
    "    job = client_lib.Job(\n",
    "        job_desc=f\"#other#RnD-meshchaninov-{EXP_NAME}\",\n",
    "        base_image=base_image,\n",
    "        script=script,\n",
    "        n_workers = N_WORKERS,\n",
    "        instance_type=f\"a100.{N_GPUS}gpu\",\n",
    "        type = 'pytorch2',\n",
    "        preflight_check=True,\n",
    "        env_variables={\n",
    "            'NCCL_IB_SL': \"\",\n",
    "            'NCCL_P2P_LEVEL': \"\",\n",
    "            'NCCL_NET_GDR_LEVEL': \"\",\n",
    "            'NCCL_MAX_NRINGS': \"\",\n",
    "            'PYTHONPATH': \"\",\n",
    "            'PROJECT_ROOT': work_dir,\n",
    "        },\n",
    "        region='A100-MT',\n",
    "        flags = {},\n",
    "    )\n",
    "\n",
    "    job.submit()"
   ]
  },
  {
   "cell_type": "markdown",
   "metadata": {},
   "source": [
    "# Diffusion Training"
   ]
  },
  {
   "cell_type": "code",
   "execution_count": 3,
   "metadata": {},
   "outputs": [],
   "source": [
    "def make_checkpoint(name):\n",
    "    list_ = []\n",
    "    for s in list(name):\n",
    "        if s in ['[', ']', '(', ')', '=', ',']:\n",
    "            list_.append(f\"\\\\{s}\")\n",
    "            \n",
    "        else:\n",
    "            list_.append(s)\n",
    "    t = \"\".join(list_)\n",
    "    print(list_)\n",
    "    print(t)\n",
    "    return t"
   ]
  },
  {
   "cell_type": "code",
   "execution_count": 4,
   "metadata": {},
   "outputs": [
    {
     "name": "stdout",
     "output_type": "stream",
     "text": [
      "['a', 'u', 't', 'o', 'e', 'n', 'c', 'o', 'd', 'e', 'r', '-', 'n', 'u', 'm', '_', 'l', 'a', 't', 'e', 'n', 't', 's', '\\\\=', '8', '-', 'w', 'i', 'k', 'i', 'p', 'e', 'd', 'i', 'a', '-', 'f', 'i', 'n', 'a', 'l', '-', '1', '2', '8', '/', '1', '0', '0', '0', '0', '0', '.', 'p', 't', 'h']\n",
      "autoencoder-num_latents\\=8-wikipedia-final-128/100000.pth\n"
     ]
    }
   ],
   "source": [
    "num_latents = 8\n",
    "suffix = \"final\"\n",
    "\n",
    "checkpoint = f\"autoencoder-num_latents={num_latents}-wikipedia-{suffix}-128/100000.pth\"\n",
    "\n",
    "script = f\"{work_dir}/train_diffusion.py \" \\\n",
    "         f\"training=diffusion \" \\\n",
    "         f\"dataset=rocstories \" \\\n",
    "         f\"autoencoder.model.load_checkpoint='{make_checkpoint(checkpoint)}' \" \\\n",
    "         f\"encoder.latent.num_latents={num_latents} \" \\\n",
    "         f\"decoder.latent.num_latents={num_latents} \" \\\n",
    "         f\"diffusion.dynamic.d=7 \" \\\n",
    "         f\"suffix={suffix}-d7 \""
   ]
  },
  {
   "cell_type": "code",
   "execution_count": 5,
   "metadata": {},
   "outputs": [
    {
     "name": "stderr",
     "output_type": "stream",
     "text": [
      "/home/user/conda/lib/python3.11/site-packages/client_lib.py:412: DeprecationWarning: The `preflight_check` parameter is deprecated and has no effect. Soon the parameter support will stop completely, please do not use it.\n",
      "  warnings.warn(msg, DeprecationWarning)\n"
     ]
    },
    {
     "data": {
      "text/plain": [
       "'Job \"lm-mpi-job-14ad87e7-0a40-494a-8e70-ec36789d372b\" created.'"
      ]
     },
     "execution_count": 5,
     "metadata": {},
     "output_type": "execute_result"
    }
   ],
   "source": [
    "N_GPUS = 8\n",
    "N_WORKERS = 2\n",
    "\n",
    "base_image = \"cr.ai.cloud.ru/6e6f5587-f3c6-4c5d-b535-0c4fce4c6027/jupyter-job-textdif:0.8\"\n",
    "EXP_NAME = 'autoencoder'\n",
    "\n",
    "\n",
    "job = client_lib.Job(\n",
    "    job_desc=f\"#other#RnD-meshchaninov-{EXP_NAME}\",\n",
    "    base_image=base_image,\n",
    "    script=script,\n",
    "    n_workers = N_WORKERS,\n",
    "    instance_type=f\"a100.{N_GPUS}gpu\",\n",
    "    type = 'pytorch2',\n",
    "    preflight_check=True,\n",
    "    env_variables={\n",
    "        'NCCL_IB_SL': \"\",\n",
    "        'NCCL_P2P_LEVEL': \"\",\n",
    "        'NCCL_NET_GDR_LEVEL': \"\",\n",
    "        'NCCL_MAX_NRINGS': \"\",\n",
    "        'PYTHONPATH': \"\",\n",
    "        'PROJECT_ROOT': work_dir,\n",
    "    },\n",
    "    region='A100-MT',\n",
    "    flags = {},\n",
    ")\n",
    "\n",
    "job.submit()"
   ]
  },
  {
   "cell_type": "code",
   "execution_count": 7,
   "metadata": {},
   "outputs": [
    {
     "data": {
      "text/plain": [
       "'Job status=Running'"
      ]
     },
     "execution_count": 7,
     "metadata": {},
     "output_type": "execute_result"
    }
   ],
   "source": [
    "job.status()"
   ]
  },
  {
   "cell_type": "markdown",
   "metadata": {},
   "source": [
    "## Wikipedia"
   ]
  },
  {
   "cell_type": "code",
   "execution_count": 9,
   "metadata": {},
   "outputs": [
    {
     "name": "stdout",
     "output_type": "stream",
     "text": [
      "['/', 'h', 'o', 'm', 'e', '/', 'j', 'o', 'v', 'y', 'a', 'n', '/', 'v', 'm', 'e', 's', 'h', 'c', 'h', 'a', 'n', 'i', 'n', 'o', 'v', '/', 'L', 'a', 't', 'e', 'n', 't', 'D', 'i', 'f', 'f', 'u', 's', 'i', 'o', 'n', '/', 'c', 'h', 'e', 'c', 'k', 'p', 'o', 'i', 'n', 't', 's']\n",
      "/home/jovyan/vmeshchaninov/LatentDiffusion/checkpoints\n",
      "['a', 'u', 't', 'o', 'e', 'n', 'c', 'o', 'd', 'e', 'r', '-', 'n', 'u', 'm', '_', 'l', 'a', 't', 'e', 'n', 't', 's', '\\\\=', '1', '2', '8', '-', 'w', 'i', 'k', 'i', 'p', 'e', 'd', 'i', 'a', '-', 'v', '1', '.', '0', '-', '1', '2', '8', '/', '1', '0', '0', '0', '0', '0', '.', 'p', 't', 'h']\n",
      "autoencoder-num_latents\\=128-wikipedia-v1.0-128/100000.pth\n"
     ]
    }
   ],
   "source": [
    "num_latents = 128\n",
    "suffix = f\"v1.0\"\n",
    "\n",
    "# checkpoint_dir = f\"/home/jovyan/shares/SR004.nfs2/vmeshchaninov/vmeshchaninov/LatentDiffusion/checkpoints_05_07\"\n",
    "checkpoint_dir = \"/home/jovyan/vmeshchaninov/LatentDiffusion/checkpoints\"\n",
    "checkpoint = f\"autoencoder-num_latents={num_latents}-wikipedia-{suffix}-128/100000.pth\"\n",
    "\n",
    "script = f\"{work_dir}/train_diffusion.py \" \\\n",
    "         f\"training=diffusion \" \\\n",
    "         f\"dataset=wikipedia \" \\\n",
    "         f\"project.name='latent-diffusion-article-large-v2.0' \" \\\n",
    "         f\"project.checkpoint_dir='{make_checkpoint(checkpoint_dir)}' \" \\\n",
    "         f\"encoder.latent.num_latents={num_latents} \" \\\n",
    "         f\"encoder.embedding.max_position_embeddings=128 \" \\\n",
    "         f\"decoder.latent.num_latents={num_latents} \" \\\n",
    "         f\"decoder.embedding.max_position_embeddings=128 \" \\\n",
    "         f\"autoencoder.model.load_checkpoint='{make_checkpoint(checkpoint)}' \" \\\n",
    "         f\"diffusion.dynamic.d=5 \" \\\n",
    "         f\"diffusion.model.num_workers=10 \" \\\n",
    "         f\"diffusion.logging.eval_freq=100000 \" \\\n",
    "         f\"diffusion.logging.save_freq=100000 \" \\\n",
    "         f\"diffusion.training.training_iters=500000 \" \\\n",
    "         f\"suffix={suffix}\""
   ]
  },
  {
   "cell_type": "code",
   "execution_count": 10,
   "metadata": {},
   "outputs": [
    {
     "name": "stderr",
     "output_type": "stream",
     "text": [
      "/home/user/conda/lib/python3.11/site-packages/client_lib.py:412: DeprecationWarning: The `preflight_check` parameter is deprecated and has no effect. Soon the parameter support will stop completely, please do not use it.\n",
      "  warnings.warn(msg, DeprecationWarning)\n"
     ]
    },
    {
     "data": {
      "text/plain": [
       "'Job \"lm-mpi-job-4dd7c994-e3ec-4e65-94e3-24eb6dca711f\" created.'"
      ]
     },
     "execution_count": 10,
     "metadata": {},
     "output_type": "execute_result"
    }
   ],
   "source": [
    "N_GPUS = 8\n",
    "N_WORKERS = 2\n",
    "\n",
    "base_image = \"cr.ai.cloud.ru/6e6f5587-f3c6-4c5d-b535-0c4fce4c6027/jupyter-job-textdif:0.8\"\n",
    "EXP_NAME = f'autoencoder-{suffix}-{num_latents}'\n",
    "\n",
    "\n",
    "job = client_lib.Job(\n",
    "    job_desc=f\"#other#RnD-meshchaninov-{EXP_NAME}\",\n",
    "    base_image=base_image,\n",
    "    script=script,\n",
    "    n_workers = N_WORKERS,\n",
    "    instance_type=f\"a100.{N_GPUS}gpu\",\n",
    "    type = 'pytorch2',\n",
    "    preflight_check=True,\n",
    "    env_variables={\n",
    "        'NCCL_IB_SL': \"\",\n",
    "        'NCCL_P2P_LEVEL': \"\",\n",
    "        'NCCL_NET_GDR_LEVEL': \"\",\n",
    "        'NCCL_MAX_NRINGS': \"\",\n",
    "        'PYTHONPATH': \"\",\n",
    "        'PROJECT_ROOT': work_dir,\n",
    "    },\n",
    "    region='A100-MT',\n",
    "    flags = {},\n",
    ")\n",
    "\n",
    "job.submit()"
   ]
  },
  {
   "cell_type": "code",
   "execution_count": 6,
   "metadata": {},
   "outputs": [
    {
     "data": {
      "text/plain": [
       "'Job \"lm-mpi-job-0214961b-afb9-4626-896b-0a8f313771bd\" deleted'"
      ]
     },
     "execution_count": 6,
     "metadata": {},
     "output_type": "execute_result"
    }
   ],
   "source": [
    "job.kill()"
   ]
  },
  {
   "cell_type": "markdown",
   "metadata": {},
   "source": [
    "## OpenWebText"
   ]
  },
  {
   "cell_type": "code",
   "execution_count": 13,
   "metadata": {},
   "outputs": [
    {
     "name": "stdout",
     "output_type": "stream",
     "text": [
      "['a', 'u', 't', 'o', 'e', 'n', 'c', 'o', 'd', 'e', 'r', '-', 'n', 'u', 'm', '_', 'l', 'a', 't', 'e', 'n', 't', 's', '\\\\=', '5', '1', '2', '-', 'o', 'p', 'e', 'n', 'w', 'e', 'b', 't', 'e', 'x', 't', '-', '5', '1', '2', '-', 'v', '1', '.', '0', '-', '5', '1', '2', '/', '1', '0', '0', '0', '0', '0', '.', 'p', 't', 'h']\n",
      "autoencoder-num_latents\\=512-openwebtext-512-v1.0-512/100000.pth\n"
     ]
    }
   ],
   "source": [
    "num_latents = 512\n",
    "suffix = f\"v1.0\"\n",
    "\n",
    "checkpoint = f\"autoencoder-num_latents={num_latents}-openwebtext-512-{suffix}-512/100000.pth\"\n",
    "\n",
    "script = f\"{work_dir}/train_diffusion.py \" \\\n",
    "         f\"training=diffusion \" \\\n",
    "         f\"dataset=openwebtext-512 \" \\\n",
    "         f\"project.name='latent-diffusion-article-large-v1.0' \" \\\n",
    "         f\"encoder.latent.num_latents={num_latents} \" \\\n",
    "         f\"encoder.embedding.max_position_embeddings=512 \" \\\n",
    "         f\"decoder.latent.num_latents={num_latents} \" \\\n",
    "         f\"decoder.embedding.max_position_embeddings=512 \" \\\n",
    "         f\"autoencoder.model.load_checkpoint='{make_checkpoint(checkpoint)}' \" \\\n",
    "         f\"diffusion.dynamic.d=3 \" \\\n",
    "         f\"diffusion.model.num_workers=10 \" \\\n",
    "         f\"suffix={suffix}\""
   ]
  },
  {
   "cell_type": "code",
   "execution_count": 14,
   "metadata": {},
   "outputs": [
    {
     "name": "stderr",
     "output_type": "stream",
     "text": [
      "/home/user/conda/lib/python3.11/site-packages/client_lib.py:412: DeprecationWarning: The `preflight_check` parameter is deprecated and has no effect. Soon the parameter support will stop completely, please do not use it.\n",
      "  warnings.warn(msg, DeprecationWarning)\n"
     ]
    },
    {
     "data": {
      "text/plain": [
       "'Job \"lm-mpi-job-e4919f79-f2e1-4c1b-b7d1-35f4010d9b96\" created.'"
      ]
     },
     "execution_count": 14,
     "metadata": {},
     "output_type": "execute_result"
    }
   ],
   "source": [
    "N_GPUS = 8\n",
    "N_WORKERS = 2\n",
    "\n",
    "base_image = \"cr.ai.cloud.ru/6e6f5587-f3c6-4c5d-b535-0c4fce4c6027/jupyter-job-textdif:0.8\"\n",
    "EXP_NAME = 'autoencoder'\n",
    "\n",
    "\n",
    "job = client_lib.Job(\n",
    "    job_desc=f\"#other#RnD-meshchaninov-{EXP_NAME}\",\n",
    "    base_image=base_image,\n",
    "    script=script,\n",
    "    n_workers = N_WORKERS,\n",
    "    instance_type=f\"a100.{N_GPUS}gpu\",\n",
    "    type = 'pytorch2',\n",
    "    preflight_check=True,\n",
    "    env_variables={\n",
    "        'NCCL_IB_SL': \"\",\n",
    "        'NCCL_P2P_LEVEL': \"\",\n",
    "        'NCCL_NET_GDR_LEVEL': \"\",\n",
    "        'NCCL_MAX_NRINGS': \"\",\n",
    "        'PYTHONPATH': \"\",\n",
    "        'PROJECT_ROOT': work_dir,\n",
    "    },\n",
    "    region='A100-MT',\n",
    "    flags = {},\n",
    ")\n",
    "\n",
    "job.submit()"
   ]
  },
  {
   "cell_type": "code",
   "execution_count": 10,
   "metadata": {},
   "outputs": [
    {
     "data": {
      "text/plain": [
       "'Job \"lm-mpi-job-89e9a499-df99-428e-8f3c-e20b1125e994\" deleted'"
      ]
     },
     "execution_count": 10,
     "metadata": {},
     "output_type": "execute_result"
    }
   ],
   "source": [
    "job.kill()"
   ]
  },
  {
   "cell_type": "markdown",
   "metadata": {},
   "source": [
    "# Decoder finetuning"
   ]
  },
  {
   "cell_type": "code",
   "execution_count": 3,
   "metadata": {},
   "outputs": [],
   "source": [
    "def make_checkpoint(name):\n",
    "    list_ = []\n",
    "    for s in list(name):\n",
    "        if s in ['[', ']', '(', ')', '=', ',']:\n",
    "            list_.append(f\"\\\\{s}\")\n",
    "            \n",
    "        else:\n",
    "            list_.append(s)\n",
    "    t = \"\".join(list_)\n",
    "    print(list_)\n",
    "    print(t)\n",
    "    return t"
   ]
  },
  {
   "cell_type": "code",
   "execution_count": 4,
   "metadata": {},
   "outputs": [
    {
     "name": "stdout",
     "output_type": "stream",
     "text": [
      "['a', 'u', 't', 'o', 'e', 'n', 'c', 'o', 'd', 'e', 'r', '-', 'n', 'u', 'm', '_', 'l', 'a', 't', 'e', 'n', 't', 's', '\\\\=', '1', '6', '-', 'w', 'i', 'k', 'i', 'p', 'e', 'd', 'i', 'a', '-', 'v', '2', '.', '3', '.', '4', '-', '1', '2', '8', '/', '1', '0', '0', '0', '0', '0', '.', 'p', 't', 'h']\n",
      "autoencoder-num_latents\\=16-wikipedia-v2.3.4-128/100000.pth\n"
     ]
    }
   ],
   "source": [
    "num_latents = 16\n",
    "suffix = \"v2.5.6.7\"\n",
    "\n",
    "checkpoint = \"autoencoder-num_latents=16-wikipedia-v2.3.4-128/100000.pth\"\n",
    "\n",
    "script = f\"{work_dir}/finetune_decoder.py \" \\\n",
    "         f\"dataset=wikipedia \" \\\n",
    "         f\"autoencoder.model.load_checkpoint='{make_checkpoint(checkpoint)}' \" \\\n",
    "         f\"decoder.finetuning.alpha=0.7 \" \\\n",
    "         f\"decoder.finetuning.is_alpha=true \" \\\n",
    "         f\"decoder.finetuning.bert_output_masking=true \" \\\n",
    "         f\"decoder.finetuning.latent_masking=true \" \\\n",
    "         f\"suffix={suffix} \""
   ]
  },
  {
   "cell_type": "code",
   "execution_count": 5,
   "metadata": {},
   "outputs": [
    {
     "name": "stderr",
     "output_type": "stream",
     "text": [
      "/home/user/conda/lib/python3.11/site-packages/client_lib.py:412: DeprecationWarning: The `preflight_check` parameter is deprecated and has no effect. Soon the parameter support will stop completely, please do not use it.\n",
      "  warnings.warn(msg, DeprecationWarning)\n"
     ]
    },
    {
     "data": {
      "text/plain": [
       "'Job \"lm-mpi-job-2afe4cf3-3c0a-4991-8d0c-341b4f01a8f1\" created.'"
      ]
     },
     "execution_count": 5,
     "metadata": {},
     "output_type": "execute_result"
    }
   ],
   "source": [
    "N_GPUS = 8\n",
    "N_WORKERS = 1\n",
    "\n",
    "base_image = \"cr.ai.cloud.ru/6e6f5587-f3c6-4c5d-b535-0c4fce4c6027/jupyter-job-textdif:0.8\"\n",
    "EXP_NAME = 'autoencoder'\n",
    "\n",
    "\n",
    "job = client_lib.Job(\n",
    "    job_desc=f\"#other#RnD-meshchaninov-{EXP_NAME}\",\n",
    "    base_image=base_image,\n",
    "    script=script,\n",
    "    n_workers = N_WORKERS,\n",
    "    instance_type=f\"a100.{N_GPUS}gpu\",\n",
    "    type = 'pytorch2',\n",
    "    preflight_check=True,\n",
    "    env_variables={\n",
    "        'NCCL_IB_SL': \"\",\n",
    "        'NCCL_P2P_LEVEL': \"\",\n",
    "        'NCCL_NET_GDR_LEVEL': \"\",\n",
    "        'NCCL_MAX_NRINGS': \"\",\n",
    "        'PYTHONPATH': \"\",\n",
    "        'PROJECT_ROOT': work_dir,\n",
    "    },\n",
    "    region='A100-MT',\n",
    "    flags = {},\n",
    ")\n",
    "\n",
    "job.submit()"
   ]
  },
  {
   "cell_type": "code",
   "execution_count": 4,
   "metadata": {},
   "outputs": [
    {
     "name": "stdout",
     "output_type": "stream",
     "text": [
      "['a', 'u', 't', 'o', 'e', 'n', 'c', 'o', 'd', 'e', 'r', '-', 'n', 'u', 'm', '_', 'l', 'a', 't', 'e', 'n', 't', 's', '\\\\=', '1', '6', '-', 'w', 'i', 'k', 'i', 'p', 'e', 'd', 'i', 'a', '-', 'v', '2', '.', '3', '.', '4', '-', '1', '2', '8', '/', '1', '0', '0', '0', '0', '0', '.', 'p', 't', 'h']\n",
      "autoencoder-num_latents\\=16-wikipedia-v2.3.4-128/100000.pth\n"
     ]
    },
    {
     "name": "stderr",
     "output_type": "stream",
     "text": [
      "/home/user/conda/lib/python3.11/site-packages/client_lib.py:412: DeprecationWarning: The `preflight_check` parameter is deprecated and has no effect. Soon the parameter support will stop completely, please do not use it.\n",
      "  warnings.warn(msg, DeprecationWarning)\n"
     ]
    },
    {
     "name": "stdout",
     "output_type": "stream",
     "text": [
      "['a', 'u', 't', 'o', 'e', 'n', 'c', 'o', 'd', 'e', 'r', '-', 'n', 'u', 'm', '_', 'l', 'a', 't', 'e', 'n', 't', 's', '\\\\=', '1', '6', '-', 'w', 'i', 'k', 'i', 'p', 'e', 'd', 'i', 'a', '-', 'v', '2', '.', '3', '.', '4', '-', '1', '2', '8', '/', '1', '0', '0', '0', '0', '0', '.', 'p', 't', 'h']\n",
      "autoencoder-num_latents\\=16-wikipedia-v2.3.4-128/100000.pth\n"
     ]
    },
    {
     "name": "stderr",
     "output_type": "stream",
     "text": [
      "/home/user/conda/lib/python3.11/site-packages/client_lib.py:412: DeprecationWarning: The `preflight_check` parameter is deprecated and has no effect. Soon the parameter support will stop completely, please do not use it.\n",
      "  warnings.warn(msg, DeprecationWarning)\n"
     ]
    },
    {
     "name": "stdout",
     "output_type": "stream",
     "text": [
      "['a', 'u', 't', 'o', 'e', 'n', 'c', 'o', 'd', 'e', 'r', '-', 'n', 'u', 'm', '_', 'l', 'a', 't', 'e', 'n', 't', 's', '\\\\=', '1', '6', '-', 'w', 'i', 'k', 'i', 'p', 'e', 'd', 'i', 'a', '-', 'v', '2', '.', '3', '.', '4', '-', '1', '2', '8', '/', '1', '0', '0', '0', '0', '0', '.', 'p', 't', 'h']\n",
      "autoencoder-num_latents\\=16-wikipedia-v2.3.4-128/100000.pth\n"
     ]
    },
    {
     "name": "stderr",
     "output_type": "stream",
     "text": [
      "/home/user/conda/lib/python3.11/site-packages/client_lib.py:412: DeprecationWarning: The `preflight_check` parameter is deprecated and has no effect. Soon the parameter support will stop completely, please do not use it.\n",
      "  warnings.warn(msg, DeprecationWarning)\n"
     ]
    },
    {
     "name": "stdout",
     "output_type": "stream",
     "text": [
      "['a', 'u', 't', 'o', 'e', 'n', 'c', 'o', 'd', 'e', 'r', '-', 'n', 'u', 'm', '_', 'l', 'a', 't', 'e', 'n', 't', 's', '\\\\=', '1', '6', '-', 'w', 'i', 'k', 'i', 'p', 'e', 'd', 'i', 'a', '-', 'v', '2', '.', '3', '.', '4', '-', '1', '2', '8', '/', '1', '0', '0', '0', '0', '0', '.', 'p', 't', 'h']\n",
      "autoencoder-num_latents\\=16-wikipedia-v2.3.4-128/100000.pth\n"
     ]
    },
    {
     "name": "stderr",
     "output_type": "stream",
     "text": [
      "/home/user/conda/lib/python3.11/site-packages/client_lib.py:412: DeprecationWarning: The `preflight_check` parameter is deprecated and has no effect. Soon the parameter support will stop completely, please do not use it.\n",
      "  warnings.warn(msg, DeprecationWarning)\n"
     ]
    },
    {
     "name": "stdout",
     "output_type": "stream",
     "text": [
      "['a', 'u', 't', 'o', 'e', 'n', 'c', 'o', 'd', 'e', 'r', '-', 'n', 'u', 'm', '_', 'l', 'a', 't', 'e', 'n', 't', 's', '\\\\=', '1', '6', '-', 'w', 'i', 'k', 'i', 'p', 'e', 'd', 'i', 'a', '-', 'v', '2', '.', '3', '.', '4', '-', '1', '2', '8', '/', '1', '0', '0', '0', '0', '0', '.', 'p', 't', 'h']\n",
      "autoencoder-num_latents\\=16-wikipedia-v2.3.4-128/100000.pth\n"
     ]
    },
    {
     "name": "stderr",
     "output_type": "stream",
     "text": [
      "/home/user/conda/lib/python3.11/site-packages/client_lib.py:412: DeprecationWarning: The `preflight_check` parameter is deprecated and has no effect. Soon the parameter support will stop completely, please do not use it.\n",
      "  warnings.warn(msg, DeprecationWarning)\n"
     ]
    },
    {
     "name": "stdout",
     "output_type": "stream",
     "text": [
      "['a', 'u', 't', 'o', 'e', 'n', 'c', 'o', 'd', 'e', 'r', '-', 'n', 'u', 'm', '_', 'l', 'a', 't', 'e', 'n', 't', 's', '\\\\=', '1', '6', '-', 'w', 'i', 'k', 'i', 'p', 'e', 'd', 'i', 'a', '-', 'v', '2', '.', '3', '.', '4', '-', '1', '2', '8', '/', '1', '0', '0', '0', '0', '0', '.', 'p', 't', 'h']\n",
      "autoencoder-num_latents\\=16-wikipedia-v2.3.4-128/100000.pth\n"
     ]
    },
    {
     "name": "stderr",
     "output_type": "stream",
     "text": [
      "/home/user/conda/lib/python3.11/site-packages/client_lib.py:412: DeprecationWarning: The `preflight_check` parameter is deprecated and has no effect. Soon the parameter support will stop completely, please do not use it.\n",
      "  warnings.warn(msg, DeprecationWarning)\n"
     ]
    }
   ],
   "source": [
    "for i in range(2, 8):\n",
    "    num_latents = 16\n",
    "    suffix = f\"v2.5.3.{i}\"\n",
    "\n",
    "    checkpoint = \"autoencoder-num_latents=16-wikipedia-v2.3.4-128/100000.pth\"\n",
    "\n",
    "    script = f\"{work_dir}/finetune_decoder.py \" \\\n",
    "            f\"dataset=wikipedia \" \\\n",
    "            f\"autoencoder.model.load_checkpoint='{make_checkpoint(checkpoint)}' \" \\\n",
    "            f\"decoder.finetuning.max_std={i / 10.} \" \\\n",
    "            f\"decoder.finetuning.is_alpha=true \" \\\n",
    "            f\"decoder.finetuning.bert_output_masking=false \" \\\n",
    "            f\"decoder.finetuning.latent_masking=false \" \\\n",
    "            f\"suffix={suffix} \"\n",
    "\n",
    "    N_GPUS = 4\n",
    "    N_WORKERS = 1\n",
    "\n",
    "    base_image = \"cr.ai.cloud.ru/6e6f5587-f3c6-4c5d-b535-0c4fce4c6027/jupyter-job-textdif:0.8\"\n",
    "    EXP_NAME = 'autoencoder'\n",
    "\n",
    "\n",
    "    job = client_lib.Job(\n",
    "        job_desc=f\"#other#RnD-meshchaninov-{EXP_NAME}\",\n",
    "        base_image=base_image,\n",
    "        script=script,\n",
    "        n_workers = N_WORKERS,\n",
    "        instance_type=f\"a100.{N_GPUS}gpu\",\n",
    "        type = 'pytorch2',\n",
    "        preflight_check=True,\n",
    "        env_variables={\n",
    "            'NCCL_IB_SL': \"\",\n",
    "            'NCCL_P2P_LEVEL': \"\",\n",
    "            'NCCL_NET_GDR_LEVEL': \"\",\n",
    "            'NCCL_MAX_NRINGS': \"\",\n",
    "            'PYTHONPATH': \"\",\n",
    "            'PROJECT_ROOT': work_dir,\n",
    "        },\n",
    "        region='A100-MT',\n",
    "        flags = {},\n",
    "    )\n",
    "\n",
    "    job.submit()"
   ]
  },
  {
   "cell_type": "code",
   "execution_count": null,
   "metadata": {},
   "outputs": [],
   "source": []
  },
  {
   "cell_type": "markdown",
   "metadata": {},
   "source": [
    "# Diffusion Generation"
   ]
  },
  {
   "cell_type": "code",
   "execution_count": 3,
   "metadata": {},
   "outputs": [],
   "source": [
    "def make_checkpoint(name):\n",
    "    list_ = []\n",
    "    for s in list(name):\n",
    "        if s in ['[', ']', '(', ')', '=', ',']:\n",
    "            list_.append(f\"\\\\{s}\")\n",
    "            \n",
    "        else:\n",
    "            list_.append(s)\n",
    "    t = \"\".join(list_)\n",
    "    print(list_)\n",
    "    print(t)\n",
    "    return t"
   ]
  },
  {
   "cell_type": "code",
   "execution_count": 4,
   "metadata": {},
   "outputs": [
    {
     "name": "stdout",
     "output_type": "stream",
     "text": [
      "['a', 'u', 't', 'o', 'e', 'n', 'c', 'o', 'd', 'e', 'r', '-', 'n', 'u', 'm', '_', 'l', 'a', 't', 'e', 'n', 't', 's', '\\\\=', '3', '2', '-', 'w', 'i', 'k', 'i', 'p', 'e', 'd', 'i', 'a', '-', 'f', 'i', 'n', 'a', 'l', '-', '1', '2', '8', '/', '1', '0', '0', '0', '0', '0', '.', 'p', 't', 'h']\n",
      "autoencoder-num_latents\\=32-wikipedia-final-128/100000.pth\n",
      "['d', 'i', 'f', 'f', 'u', 's', 'i', 'o', 'n', '-', 'r', 'o', 'c', 's', 't', 'o', 'r', 'i', 'e', 's', '-', '3', '2', '-', 'd', '\\\\=', '5', '-', 'f', 'i', 'n', 'a', 'l', '/', '1', '2', '0', '0', '0', '0', '.', 'p', 't', 'h']\n",
      "diffusion-rocstories-32-d\\=5-final/120000.pth\n"
     ]
    }
   ],
   "source": [
    "suffix = \"final\"\n",
    "num_latents = 32\n",
    "\n",
    "checkpoint = f\"autoencoder-num_latents=32-wikipedia-final-128/100000.pth\"\n",
    "diffusion_checkpoint = \"diffusion-rocstories-32-d=5-final/120000.pth\"\n",
    "\n",
    "script = f\"{work_dir}/diffusion_generation.py \" \\\n",
    "         f\"training=None \" \\\n",
    "         f\"dataset=rocstories \" \\\n",
    "         f\"encoder.latent.num_latents={num_latents} \" \\\n",
    "         f\"decoder.latent.num_latents={num_latents} \" \\\n",
    "         f\"autoencoder.model.load_checkpoint='{make_checkpoint(checkpoint)}' \" \\\n",
    "         f\"diffusion.model.load_checkpoint='{make_checkpoint(diffusion_checkpoint)}' \" \\\n",
    "         f\"suffix={suffix} \""
   ]
  },
  {
   "cell_type": "code",
   "execution_count": 5,
   "metadata": {},
   "outputs": [
    {
     "name": "stderr",
     "output_type": "stream",
     "text": [
      "/home/user/conda/lib/python3.11/site-packages/client_lib.py:412: DeprecationWarning: The `preflight_check` parameter is deprecated and has no effect. Soon the parameter support will stop completely, please do not use it.\n",
      "  warnings.warn(msg, DeprecationWarning)\n"
     ]
    },
    {
     "data": {
      "text/plain": [
       "'Job \"lm-mpi-job-bf80dcc4-88bf-4db9-8515-2dfc1d9fc3c3\" created.'"
      ]
     },
     "execution_count": 5,
     "metadata": {},
     "output_type": "execute_result"
    }
   ],
   "source": [
    "N_GPUS = 8\n",
    "N_WORKERS = 1\n",
    "\n",
    "base_image = \"cr.ai.cloud.ru/6e6f5587-f3c6-4c5d-b535-0c4fce4c6027/jupyter-job-textdif:0.8\"\n",
    "EXP_NAME = 'autoencoder'\n",
    "\n",
    "\n",
    "job = client_lib.Job(\n",
    "    job_desc=f\"#other#RnD-meshchaninov-{EXP_NAME}\",\n",
    "    base_image=base_image,\n",
    "    script=script,\n",
    "    n_workers = N_WORKERS,\n",
    "    instance_type=f\"a100.{N_GPUS}gpu\",\n",
    "    type = 'pytorch2',\n",
    "    preflight_check=True,\n",
    "    env_variables={\n",
    "        'NCCL_IB_SL': \"\",\n",
    "        'NCCL_P2P_LEVEL': \"\",\n",
    "        'NCCL_NET_GDR_LEVEL': \"\",\n",
    "        'NCCL_MAX_NRINGS': \"\",\n",
    "        'PYTHONPATH': \"\",\n",
    "        'PROJECT_ROOT': work_dir,\n",
    "    },\n",
    "    region='A100-MT',\n",
    "    flags = {},\n",
    ")\n",
    "\n",
    "job.submit()"
   ]
  },
  {
   "cell_type": "code",
   "execution_count": 29,
   "metadata": {},
   "outputs": [
    {
     "name": "stdout",
     "output_type": "stream",
     "text": [
      "['a', 'u', 't', 'o', 'e', 'n', 'c', 'o', 'd', 'e', 'r', '-', 'n', 'u', 'm', '_', 'l', 'a', 't', 'e', 'n', 't', 's', '\\\\=', '1', '6', '-', 'w', 'i', 'k', 'i', 'p', 'e', 'd', 'i', 'a', '-', 'v', '2', '.', '3', '.', '4', '-', '1', '2', '8', '-', 'f', 'i', 'n', 'e', 't', 'u', 'n', 'e', 'd', '-', 'v', '2', '.', '5', '.', '1', '.', '3', '/', '1', '0', '0', '0', '0', '.', 'p', 't', 'h']\n",
      "autoencoder-num_latents\\=16-wikipedia-v2.3.4-128-finetuned-v2.5.1.3/10000.pth\n",
      "['d', 'i', 'f', 'f', 'u', 's', 'i', 'o', 'n', '-', 'r', 'o', 'c', 's', 't', 'o', 'r', 'i', 'e', 's', '-', '1', '6', '-', 'd', '\\\\=', '5', '-', 'v', '2', '.', '3', '.', '4', '/', '1', '8', '0', '0', '0', '0', '.', 'p', 't', 'h']\n",
      "diffusion-rocstories-16-d\\=5-v2.3.4/180000.pth\n"
     ]
    },
    {
     "name": "stderr",
     "output_type": "stream",
     "text": [
      "/home/user/conda/lib/python3.11/site-packages/client_lib.py:412: DeprecationWarning: The `preflight_check` parameter is deprecated and has no effect. Soon the parameter support will stop completely, please do not use it.\n",
      "  warnings.warn(msg, DeprecationWarning)\n"
     ]
    },
    {
     "name": "stdout",
     "output_type": "stream",
     "text": [
      "['a', 'u', 't', 'o', 'e', 'n', 'c', 'o', 'd', 'e', 'r', '-', 'n', 'u', 'm', '_', 'l', 'a', 't', 'e', 'n', 't', 's', '\\\\=', '1', '6', '-', 'w', 'i', 'k', 'i', 'p', 'e', 'd', 'i', 'a', '-', 'v', '2', '.', '3', '.', '4', '-', '1', '2', '8', '-', 'f', 'i', 'n', 'e', 't', 'u', 'n', 'e', 'd', '-', 'v', '2', '.', '5', '.', '1', '.', '4', '/', '1', '0', '0', '0', '0', '.', 'p', 't', 'h']\n",
      "autoencoder-num_latents\\=16-wikipedia-v2.3.4-128-finetuned-v2.5.1.4/10000.pth\n",
      "['d', 'i', 'f', 'f', 'u', 's', 'i', 'o', 'n', '-', 'r', 'o', 'c', 's', 't', 'o', 'r', 'i', 'e', 's', '-', '1', '6', '-', 'd', '\\\\=', '5', '-', 'v', '2', '.', '3', '.', '4', '/', '1', '8', '0', '0', '0', '0', '.', 'p', 't', 'h']\n",
      "diffusion-rocstories-16-d\\=5-v2.3.4/180000.pth\n"
     ]
    },
    {
     "name": "stderr",
     "output_type": "stream",
     "text": [
      "/home/user/conda/lib/python3.11/site-packages/client_lib.py:412: DeprecationWarning: The `preflight_check` parameter is deprecated and has no effect. Soon the parameter support will stop completely, please do not use it.\n",
      "  warnings.warn(msg, DeprecationWarning)\n"
     ]
    },
    {
     "name": "stdout",
     "output_type": "stream",
     "text": [
      "['a', 'u', 't', 'o', 'e', 'n', 'c', 'o', 'd', 'e', 'r', '-', 'n', 'u', 'm', '_', 'l', 'a', 't', 'e', 'n', 't', 's', '\\\\=', '1', '6', '-', 'w', 'i', 'k', 'i', 'p', 'e', 'd', 'i', 'a', '-', 'v', '2', '.', '3', '.', '4', '-', '1', '2', '8', '-', 'f', 'i', 'n', 'e', 't', 'u', 'n', 'e', 'd', '-', 'v', '2', '.', '5', '.', '1', '.', '5', '/', '1', '0', '0', '0', '0', '.', 'p', 't', 'h']\n",
      "autoencoder-num_latents\\=16-wikipedia-v2.3.4-128-finetuned-v2.5.1.5/10000.pth\n",
      "['d', 'i', 'f', 'f', 'u', 's', 'i', 'o', 'n', '-', 'r', 'o', 'c', 's', 't', 'o', 'r', 'i', 'e', 's', '-', '1', '6', '-', 'd', '\\\\=', '5', '-', 'v', '2', '.', '3', '.', '4', '/', '1', '8', '0', '0', '0', '0', '.', 'p', 't', 'h']\n",
      "diffusion-rocstories-16-d\\=5-v2.3.4/180000.pth\n"
     ]
    },
    {
     "name": "stderr",
     "output_type": "stream",
     "text": [
      "/home/user/conda/lib/python3.11/site-packages/client_lib.py:412: DeprecationWarning: The `preflight_check` parameter is deprecated and has no effect. Soon the parameter support will stop completely, please do not use it.\n",
      "  warnings.warn(msg, DeprecationWarning)\n"
     ]
    },
    {
     "name": "stdout",
     "output_type": "stream",
     "text": [
      "['a', 'u', 't', 'o', 'e', 'n', 'c', 'o', 'd', 'e', 'r', '-', 'n', 'u', 'm', '_', 'l', 'a', 't', 'e', 'n', 't', 's', '\\\\=', '1', '6', '-', 'w', 'i', 'k', 'i', 'p', 'e', 'd', 'i', 'a', '-', 'v', '2', '.', '3', '.', '4', '-', '1', '2', '8', '-', 'f', 'i', 'n', 'e', 't', 'u', 'n', 'e', 'd', '-', 'v', '2', '.', '5', '.', '1', '.', '6', '/', '1', '0', '0', '0', '0', '.', 'p', 't', 'h']\n",
      "autoencoder-num_latents\\=16-wikipedia-v2.3.4-128-finetuned-v2.5.1.6/10000.pth\n",
      "['d', 'i', 'f', 'f', 'u', 's', 'i', 'o', 'n', '-', 'r', 'o', 'c', 's', 't', 'o', 'r', 'i', 'e', 's', '-', '1', '6', '-', 'd', '\\\\=', '5', '-', 'v', '2', '.', '3', '.', '4', '/', '1', '8', '0', '0', '0', '0', '.', 'p', 't', 'h']\n",
      "diffusion-rocstories-16-d\\=5-v2.3.4/180000.pth\n"
     ]
    },
    {
     "name": "stderr",
     "output_type": "stream",
     "text": [
      "/home/user/conda/lib/python3.11/site-packages/client_lib.py:412: DeprecationWarning: The `preflight_check` parameter is deprecated and has no effect. Soon the parameter support will stop completely, please do not use it.\n",
      "  warnings.warn(msg, DeprecationWarning)\n"
     ]
    },
    {
     "name": "stdout",
     "output_type": "stream",
     "text": [
      "['a', 'u', 't', 'o', 'e', 'n', 'c', 'o', 'd', 'e', 'r', '-', 'n', 'u', 'm', '_', 'l', 'a', 't', 'e', 'n', 't', 's', '\\\\=', '1', '6', '-', 'w', 'i', 'k', 'i', 'p', 'e', 'd', 'i', 'a', '-', 'v', '2', '.', '3', '.', '4', '-', '1', '2', '8', '-', 'f', 'i', 'n', 'e', 't', 'u', 'n', 'e', 'd', '-', 'v', '2', '.', '5', '.', '1', '.', '7', '/', '1', '0', '0', '0', '0', '.', 'p', 't', 'h']\n",
      "autoencoder-num_latents\\=16-wikipedia-v2.3.4-128-finetuned-v2.5.1.7/10000.pth\n",
      "['d', 'i', 'f', 'f', 'u', 's', 'i', 'o', 'n', '-', 'r', 'o', 'c', 's', 't', 'o', 'r', 'i', 'e', 's', '-', '1', '6', '-', 'd', '\\\\=', '5', '-', 'v', '2', '.', '3', '.', '4', '/', '1', '8', '0', '0', '0', '0', '.', 'p', 't', 'h']\n",
      "diffusion-rocstories-16-d\\=5-v2.3.4/180000.pth\n"
     ]
    },
    {
     "name": "stderr",
     "output_type": "stream",
     "text": [
      "/home/user/conda/lib/python3.11/site-packages/client_lib.py:412: DeprecationWarning: The `preflight_check` parameter is deprecated and has no effect. Soon the parameter support will stop completely, please do not use it.\n",
      "  warnings.warn(msg, DeprecationWarning)\n"
     ]
    },
    {
     "name": "stdout",
     "output_type": "stream",
     "text": [
      "['a', 'u', 't', 'o', 'e', 'n', 'c', 'o', 'd', 'e', 'r', '-', 'n', 'u', 'm', '_', 'l', 'a', 't', 'e', 'n', 't', 's', '\\\\=', '1', '6', '-', 'w', 'i', 'k', 'i', 'p', 'e', 'd', 'i', 'a', '-', 'v', '2', '.', '3', '.', '4', '-', '1', '2', '8', '-', 'f', 'i', 'n', 'e', 't', 'u', 'n', 'e', 'd', '-', 'v', '2', '.', '5', '.', '1', '.', '8', '/', '1', '0', '0', '0', '0', '.', 'p', 't', 'h']\n",
      "autoencoder-num_latents\\=16-wikipedia-v2.3.4-128-finetuned-v2.5.1.8/10000.pth\n",
      "['d', 'i', 'f', 'f', 'u', 's', 'i', 'o', 'n', '-', 'r', 'o', 'c', 's', 't', 'o', 'r', 'i', 'e', 's', '-', '1', '6', '-', 'd', '\\\\=', '5', '-', 'v', '2', '.', '3', '.', '4', '/', '1', '8', '0', '0', '0', '0', '.', 'p', 't', 'h']\n",
      "diffusion-rocstories-16-d\\=5-v2.3.4/180000.pth\n"
     ]
    },
    {
     "name": "stderr",
     "output_type": "stream",
     "text": [
      "/home/user/conda/lib/python3.11/site-packages/client_lib.py:412: DeprecationWarning: The `preflight_check` parameter is deprecated and has no effect. Soon the parameter support will stop completely, please do not use it.\n",
      "  warnings.warn(msg, DeprecationWarning)\n"
     ]
    },
    {
     "name": "stdout",
     "output_type": "stream",
     "text": [
      "['a', 'u', 't', 'o', 'e', 'n', 'c', 'o', 'd', 'e', 'r', '-', 'n', 'u', 'm', '_', 'l', 'a', 't', 'e', 'n', 't', 's', '\\\\=', '1', '6', '-', 'w', 'i', 'k', 'i', 'p', 'e', 'd', 'i', 'a', '-', 'v', '2', '.', '3', '.', '4', '-', '1', '2', '8', '-', 'f', 'i', 'n', 'e', 't', 'u', 'n', 'e', 'd', '-', 'v', '2', '.', '5', '.', '1', '.', '9', '/', '1', '0', '0', '0', '0', '.', 'p', 't', 'h']\n",
      "autoencoder-num_latents\\=16-wikipedia-v2.3.4-128-finetuned-v2.5.1.9/10000.pth\n",
      "['d', 'i', 'f', 'f', 'u', 's', 'i', 'o', 'n', '-', 'r', 'o', 'c', 's', 't', 'o', 'r', 'i', 'e', 's', '-', '1', '6', '-', 'd', '\\\\=', '5', '-', 'v', '2', '.', '3', '.', '4', '/', '1', '8', '0', '0', '0', '0', '.', 'p', 't', 'h']\n",
      "diffusion-rocstories-16-d\\=5-v2.3.4/180000.pth\n"
     ]
    },
    {
     "name": "stderr",
     "output_type": "stream",
     "text": [
      "/home/user/conda/lib/python3.11/site-packages/client_lib.py:412: DeprecationWarning: The `preflight_check` parameter is deprecated and has no effect. Soon the parameter support will stop completely, please do not use it.\n",
      "  warnings.warn(msg, DeprecationWarning)\n"
     ]
    },
    {
     "name": "stdout",
     "output_type": "stream",
     "text": [
      "['a', 'u', 't', 'o', 'e', 'n', 'c', 'o', 'd', 'e', 'r', '-', 'n', 'u', 'm', '_', 'l', 'a', 't', 'e', 'n', 't', 's', '\\\\=', '1', '6', '-', 'w', 'i', 'k', 'i', 'p', 'e', 'd', 'i', 'a', '-', 'v', '2', '.', '3', '.', '4', '-', '1', '2', '8', '-', 'f', 'i', 'n', 'e', 't', 'u', 'n', 'e', 'd', '-', 'v', '2', '.', '5', '.', '1', '.', '1', '0', '/', '1', '0', '0', '0', '0', '.', 'p', 't', 'h']\n",
      "autoencoder-num_latents\\=16-wikipedia-v2.3.4-128-finetuned-v2.5.1.10/10000.pth\n",
      "['d', 'i', 'f', 'f', 'u', 's', 'i', 'o', 'n', '-', 'r', 'o', 'c', 's', 't', 'o', 'r', 'i', 'e', 's', '-', '1', '6', '-', 'd', '\\\\=', '5', '-', 'v', '2', '.', '3', '.', '4', '/', '1', '8', '0', '0', '0', '0', '.', 'p', 't', 'h']\n",
      "diffusion-rocstories-16-d\\=5-v2.3.4/180000.pth\n"
     ]
    },
    {
     "name": "stderr",
     "output_type": "stream",
     "text": [
      "/home/user/conda/lib/python3.11/site-packages/client_lib.py:412: DeprecationWarning: The `preflight_check` parameter is deprecated and has no effect. Soon the parameter support will stop completely, please do not use it.\n",
      "  warnings.warn(msg, DeprecationWarning)\n"
     ]
    }
   ],
   "source": [
    "for i in range(3, 11):\n",
    "    suffix = f\"v2.5.1.{i}\"\n",
    "\n",
    "    checkpoint = f\"autoencoder-num_latents=16-wikipedia-v2.3.4-128-finetuned-{suffix}/10000.pth\"\n",
    "    diffusion_checkpoint = \"diffusion-rocstories-16-d=5-v2.3.4/180000.pth\"\n",
    "\n",
    "    script = f\"{work_dir}/diffusion_generation.py \" \\\n",
    "            f\"training=None \" \\\n",
    "            f\"dataset=rocstories \" \\\n",
    "            f\"autoencoder.model.load_checkpoint='{make_checkpoint(checkpoint)}' \" \\\n",
    "            f\"diffusion.model.load_checkpoint='{make_checkpoint(diffusion_checkpoint)}' \" \\\n",
    "            f\"suffix={suffix} \"\n",
    "\n",
    "\n",
    "    N_GPUS = 8\n",
    "    N_WORKERS = 2\n",
    "\n",
    "    base_image = \"cr.ai.cloud.ru/6e6f5587-f3c6-4c5d-b535-0c4fce4c6027/jupyter-job-textdif:0.8\"\n",
    "    EXP_NAME = 'autoencoder'\n",
    "\n",
    "\n",
    "    job = client_lib.Job(\n",
    "        job_desc=f\"#other#RnD-meshchaninov-{EXP_NAME}\",\n",
    "        base_image=base_image,\n",
    "        script=script,\n",
    "        n_workers = N_WORKERS,\n",
    "        instance_type=f\"a100.{N_GPUS}gpu\",\n",
    "        type = 'pytorch2',\n",
    "        preflight_check=True,\n",
    "        env_variables={\n",
    "            'NCCL_IB_SL': \"\",\n",
    "            'NCCL_P2P_LEVEL': \"\",\n",
    "            'NCCL_NET_GDR_LEVEL': \"\",\n",
    "            'NCCL_MAX_NRINGS': \"\",\n",
    "            'PYTHONPATH': \"\",\n",
    "            'PROJECT_ROOT': work_dir,\n",
    "        },\n",
    "        region='A100-MT',\n",
    "        flags = {},\n",
    "    )\n",
    "\n",
    "    job.submit()"
   ]
  },
  {
   "cell_type": "code",
   "execution_count": null,
   "metadata": {},
   "outputs": [],
   "source": []
  },
  {
   "cell_type": "code",
   "execution_count": null,
   "metadata": {},
   "outputs": [],
   "source": []
  },
  {
   "cell_type": "markdown",
   "metadata": {},
   "source": [
    "# Old"
   ]
  },
  {
   "cell_type": "code",
   "execution_count": 20,
   "metadata": {},
   "outputs": [],
   "source": [
    "script = f\"{work_dir}/train_encoder.py \" \\\n",
    "         f\"dataset=rocstories \" \\\n",
    "         f\"dataset.dataset_path=/home/jovyan/vmeshchaninov/HierarchicalDiffusion/data/rocstories \" \\\n",
    "         f\"autoencoder.latent.resolutions='[1, 1, 2, 4, 8, 16]' \" \\\n",
    "         f\"encoder.model.mlm_probability=0.3 \" \\\n",
    "         f\"encoder.model.bert_masking=true \" \\\n",
    "         f\"decoder.model.mlm_probabilities='[0.7, 0.76, 0.82, 0.88, 0.94, 1.]' \" \\\n",
    "         f\"decoder.model.bert_masking=true \" \\\n",
    "         f\"autoencoder.training.batch_size=256 \" \\\n",
    "         f\"autoencoder.training.training_iters=50000 \" \\\n",
    "         f\"autoencoder.latent.is_detach_previous_latents=true \" \\\n",
    "         f\"autoencoder/optimizer=stableadam\""
   ]
  },
  {
   "cell_type": "code",
   "execution_count": null,
   "metadata": {},
   "outputs": [],
   "source": [
    "\n",
    "script = f\"{work_dir}/train_diffusion.py \" \\\n",
    "         f\"dataset.name='rocstories' \" \\\n",
    "         f\"dataset.dataset_path='/home/jovyan/vmeshchaninov/HierarchicalDiffusion/data/rocstories' \""
   ]
  },
  {
   "cell_type": "code",
   "execution_count": 19,
   "metadata": {},
   "outputs": [
    {
     "data": {
      "text/plain": [
       "array([0.7 , 0.76, 0.82, 0.88, 0.94, 1.  ])"
      ]
     },
     "execution_count": 19,
     "metadata": {},
     "output_type": "execute_result"
    }
   ],
   "source": [
    "import numpy as np\n",
    "\n",
    "np.linspace(0.7, 1, 6)"
   ]
  },
  {
   "cell_type": "code",
   "execution_count": null,
   "metadata": {},
   "outputs": [],
   "source": [
    "script = f\"{work_dir}/train_encoder.py \" \\\n",
    "         f\"dataset=rocstories \" \\\n",
    "         f\"dataset.dataset_path=/home/jovyan/vmeshchaninov/HierarchicalDiffusion/data/rocstories \" \\\n",
    "         f\"autoencoder.latent.resolutions='[1, 1, 2, 4, 8]' \" \\\n",
    "         f\"encoder.model.mlm_probability=0. \" \\\n",
    "         f\"encoder.model.bert_masking=false \" \\\n",
    "         f\"decoder.model.mlm_probabilities='[1., 1., 1., 1., 1.]' \" \\\n",
    "         f\"decoder.model.bert_masking=false \" \\\n",
    "         f\"autoencoder.training.batch_size=256 \" \\\n",
    "         f\"autoencoder.training.training_iters=15000 \" \\\n",
    "         f\"autoencoder.latent.is_detach_previous_latents=true \" \\\n",
    "         f\"autoencoder/optimizer=stableadam\""
   ]
  },
  {
   "cell_type": "code",
   "execution_count": 3,
   "metadata": {},
   "outputs": [],
   "source": [
    "script = f\"{work_dir}/train_encoder.py \" \\\n",
    "         f\"dataset=wikipedia \" \\\n",
    "         f\"dataset.dataset_path=/home/jovyan/vmeshchaninov/HierarchicalDiffusion/data/wikipedia \" \\\n",
    "         f\"autoencoder.latent.resolutions='[16]' \" \\\n",
    "         f\"encoder.model.mlm_probability=0. \" \\\n",
    "         f\"encoder.model.bert_masking=false \" \\\n",
    "         f\"decoder.model.mlm_probabilities='[1.]' \" \\\n",
    "         f\"decoder.model.bert_masking=false \" \\\n",
    "         f\"autoencoder.training.batch_size=256 \" \\\n",
    "         f\"autoencoder.training.training_iters=50000 \" \\\n",
    "         f\"diffusion.dynamic.d=10 \" \\\n",
    "         f\"autoencoder/optimizer=stableadam\""
   ]
  },
  {
   "cell_type": "code",
   "execution_count": 13,
   "metadata": {},
   "outputs": [],
   "source": [
    "def make_checkpoint(name):\n",
    "    list_ = []\n",
    "    for s in list(name):\n",
    "        if s in ['[', ']', '(', ')', '=', ',']:\n",
    "            list_.append(f\"\\\\{s}\")\n",
    "            \n",
    "        else:\n",
    "            list_.append(s)\n",
    "    t = \"\".join(list_)\n",
    "    print(list_)\n",
    "    print(t)\n",
    "    return t"
   ]
  },
  {
   "cell_type": "code",
   "execution_count": null,
   "metadata": {},
   "outputs": [],
   "source": []
  },
  {
   "cell_type": "code",
   "execution_count": 21,
   "metadata": {},
   "outputs": [
    {
     "name": "stdout",
     "output_type": "stream",
     "text": [
      "['a', 'u', 't', 'o', 'e', 'n', 'c', 'o', 'd', 'e', 'r', '-', 'l', 'a', 't', 'e', 'n', 't', '_', 'r', 'e', 's', 'o', 'l', 'u', 't', 'i', 'o', 'n', 's', '\\\\=', '\\\\[', '1', '6', '\\\\]', '-', 'm', 'l', 'm', '_', 'p', 'r', 'o', 'b', 'a', 'b', 'i', 'l', 'i', 't', 'i', 'e', 's', '_', 'd', 'e', 'c', '\\\\=', '\\\\[', '0', '.', '7', '\\\\]', '-', 'w', 'i', 'k', 'i', 'p', 'e', 'd', 'i', 'a', '-', 'v', '2', '.', '2', '/', '2', '5', '0', '0', '0', '.', 'p', 't', 'h']\n",
      "autoencoder-latent_resolutions\\=\\[16\\]-mlm_probabilities_dec\\=\\[0.7\\]-wikipedia-v2.2/25000.pth\n"
     ]
    }
   ],
   "source": [
    "checkpoint = \"autoencoder-latent_resolutions=[16]-mlm_probabilities_dec=[0.7]-wikipedia-v2.2/25000.pth\"\n",
    "\n",
    "script = f\"{work_dir}/train_diffusion.py \" \\\n",
    "         f\"training=diffusion \" \\\n",
    "         f\"dataset=rocstories \" \\\n",
    "         f\"dataset.dataset_path=\\\"/home/jovyan/vmeshchaninov/HierarchicalDiffusion/data/rocstories\\\" \" \\\n",
    "         f\"autoencoder.latent.resolutions='[16]' \" \\\n",
    "         f\"autoencoder.model.load_checkpoint='{make_checkpoint(checkpoint)}' \" \\\n",
    "         f\"diffusion.dynamic.N=200 \" \\\n",
    "         f\"diffusion.training.training_iters=500000 \" \\\n",
    "         f\"diffusion.dynamic.d=7 \" \\\n",
    "         f\"diffusion/optimizer=adamw \""
   ]
  },
  {
   "cell_type": "code",
   "execution_count": 22,
   "metadata": {},
   "outputs": [
    {
     "data": {
      "text/plain": [
       "'Job \"lm-mpi-job-3d97f4e8-3c0c-4e17-8e9a-cb25d4051772\" created.'"
      ]
     },
     "execution_count": 22,
     "metadata": {},
     "output_type": "execute_result"
    }
   ],
   "source": [
    "N_GPUS = 2\n",
    "N_WORKERS = 2\n",
    "\n",
    "base_image = \"cr.ai.cloud.ru/6e6f5587-f3c6-4c5d-b535-0c4fce4c6027/jupyter-job-textdif:0.8\"\n",
    "EXP_NAME = 'autoencoder'\n",
    "\n",
    "\n",
    "job = client_lib.Job(\n",
    "    job_desc=f\"#other#RnD-meshchaninov-{EXP_NAME}\",\n",
    "    base_image=base_image,\n",
    "    script=script,\n",
    "    n_workers = N_WORKERS,\n",
    "    instance_type=f\"a100.{N_GPUS}gpu\",\n",
    "    type = 'pytorch2',\n",
    "    preflight_check=True,\n",
    "    env_variables={\n",
    "        'NCCL_IB_SL': \"\",\n",
    "        'NCCL_P2P_LEVEL': \"\",\n",
    "        'NCCL_NET_GDR_LEVEL': \"\",\n",
    "        'NCCL_MAX_NRINGS': \"\",\n",
    "        'PYTHONPATH': \"\",\n",
    "        'PROJECT_ROOT': work_dir,\n",
    "    },\n",
    "    region='SR004',\n",
    "    flags = {},\n",
    ")\n",
    "\n",
    "job.submit()"
   ]
  },
  {
   "cell_type": "code",
   "execution_count": 11,
   "metadata": {},
   "outputs": [
    {
     "data": {
      "text/plain": [
       "'Job status=Pending'"
      ]
     },
     "execution_count": 11,
     "metadata": {},
     "output_type": "execute_result"
    }
   ],
   "source": [
    "job.status()"
   ]
  },
  {
   "cell_type": "code",
   "execution_count": 5,
   "metadata": {},
   "outputs": [
    {
     "name": "stdout",
     "output_type": "stream",
     "text": [
      "Running\n"
     ]
    }
   ],
   "source": [
    "d = \"\"\n",
    "while d != \"Running\": \n",
    "    d = job.status().split(\"=\")[-1]\n",
    "print(d)"
   ]
  },
  {
   "cell_type": "code",
   "execution_count": 14,
   "metadata": {},
   "outputs": [
    {
     "name": "stdout",
     "output_type": "stream",
     "text": [
      "\"\"\n"
     ]
    }
   ],
   "source": [
    "job.logs(verbose=True)"
   ]
  },
  {
   "cell_type": "code",
   "execution_count": 18,
   "metadata": {},
   "outputs": [
    {
     "data": {
      "text/plain": [
       "'Job \"lm-mpi-job-5284da66-38dd-4e3f-95c3-d9a31ea456c1\" deleted'"
      ]
     },
     "execution_count": 18,
     "metadata": {},
     "output_type": "execute_result"
    }
   ],
   "source": [
    "job.kill()"
   ]
  },
  {
   "cell_type": "code",
   "execution_count": 101,
   "metadata": {},
   "outputs": [],
   "source": [
    "s = \"\"\"PROJECT_ROOT=/home/jovyan/vmeshchaninov/HierarchicalDiffusion \\\n",
    "torchrun --nproc_per_node=2 --master_port=12345 train_diffusion.py \\\n",
    "training=diffusion \\\n",
    "dataset=rocstories \\\n",
    "dataset.dataset_path=\"/home/jovyan/vmeshchaninov/HierarchicalDiffusion/data/rocstories\" \\\n",
    "autoencoder.model.load_checkpoint='\"autoencoder-latent_dim=768-latent_resolutions=[16]-bert_model=bert-base-cased-level_weights=[1.0, 1.0, 1.0, 1.0]-bert_masking_enc=False-bert_masking_dec=False-mlm_probabilities_dec=[1.0]-optimizer=lion/20000.pth\"' \\\n",
    "diffusion.dynamic.N=200 \\\n",
    "diffusion/optimizer=adamw \\\n",
    "autoencoder.latent.resolutions=\"[16]\"\n",
    "\"\"\""
   ]
  },
  {
   "cell_type": "code",
   "execution_count": 102,
   "metadata": {},
   "outputs": [
    {
     "name": "stdout",
     "output_type": "stream",
     "text": [
      "PROJECT_ROOT=/home/jovyan/vmeshchaninov/HierarchicalDiffusion torchrun --nproc_per_node=2 --master_port=12345 train_diffusion.py training=diffusion dataset=rocstories dataset.dataset_path=\"/home/jovyan/vmeshchaninov/HierarchicalDiffusion/data/rocstories\" autoencoder.model.load_checkpoint='\"autoencoder-latent_dim=768-latent_resolutions=[16]-bert_model=bert-base-cased-level_weights=[1.0, 1.0, 1.0, 1.0]-bert_masking_enc=False-bert_masking_dec=False-mlm_probabilities_dec=[1.0]-optimizer=lion/20000.pth\"' diffusion.dynamic.N=200 diffusion/optimizer=adamw autoencoder.latent.resolutions=\"[16]\"\n",
      "\n"
     ]
    }
   ],
   "source": [
    "print(s)"
   ]
  },
  {
   "cell_type": "code",
   "execution_count": 103,
   "metadata": {},
   "outputs": [
    {
     "data": {
      "text/plain": [
       "'PROJECT_ROOT=/home/jovyan/vmeshchaninov/HierarchicalDiffusion torchrun --nproc_per_node=2 --master_port=12345 train_diffusion.py training=diffusion dataset=rocstories dataset.dataset_path=\"/home/jovyan/vmeshchaninov/HierarchicalDiffusion/data/rocstories\" autoencoder.model.load_checkpoint=\\'\"autoencoder-latent_dim=768-latent_resolutions=[16]-bert_model=bert-base-cased-level_weights=[1.0, 1.0, 1.0, 1.0]-bert_masking_enc=False-bert_masking_dec=False-mlm_probabilities_dec=[1.0]-optimizer=lion/20000.pth\"\\' diffusion.dynamic.N=200 diffusion/optimizer=adamw autoencoder.latent.resolutions=\"[16]\"\\n'"
      ]
     },
     "execution_count": 103,
     "metadata": {},
     "output_type": "execute_result"
    }
   ],
   "source": [
    "str(s)"
   ]
  },
  {
   "cell_type": "code",
   "execution_count": null,
   "metadata": {},
   "outputs": [],
   "source": []
  }
 ],
 "metadata": {
  "kernelspec": {
   "display_name": "base",
   "language": "python",
   "name": "python3"
  },
  "language_info": {
   "codemirror_mode": {
    "name": "ipython",
    "version": 3
   },
   "file_extension": ".py",
   "mimetype": "text/x-python",
   "name": "python",
   "nbconvert_exporter": "python",
   "pygments_lexer": "ipython3",
   "version": "3.11.8"
  }
 },
 "nbformat": 4,
 "nbformat_minor": 2
}
