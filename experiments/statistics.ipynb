{
 "cells": [
  {
   "cell_type": "code",
   "execution_count": 1,
   "id": "331cedf5",
   "metadata": {},
   "outputs": [],
   "source": [
    "%load_ext autoreload\n",
    "%autoreload 2"
   ]
  },
  {
   "cell_type": "code",
   "execution_count": 2,
   "id": "4f488e9c",
   "metadata": {},
   "outputs": [],
   "source": [
    "import os\n",
    "import sys\n",
    "\n",
    "EXP_NAME = \"autoencoder-paraphrase\"\n",
    "PROJECT_ROOT = \"/home/jovyan/vmeshchaninov/HierarchicalDiffusion\"\n",
    "EXP_RESULT_PATH = f\"{PROJECT_ROOT}/experiments/results/{EXP_NAME}/\"\n",
    "os.makedirs(EXP_RESULT_PATH, exist_ok=True)\n",
    "sys.path.append(PROJECT_ROOT)\n",
    "os.environ[\"PROJECT_ROOT\"] = PROJECT_ROOT"
   ]
  },
  {
   "cell_type": "code",
   "execution_count": 3,
   "id": "96b3c4cc-6ecb-4f5c-b801-aece9efeeb98",
   "metadata": {},
   "outputs": [
    {
     "name": "stderr",
     "output_type": "stream",
     "text": [
      "/home/jovyan/.mlspace/envs/dif_env_v2/lib/python3.11/site-packages/tqdm/auto.py:21: TqdmWarning: IProgress not found. Please update jupyter and ipywidgets. See https://ipywidgets.readthedocs.io/en/stable/user_install.html\n",
      "  from .autonotebook import tqdm as notebook_tqdm\n"
     ]
    }
   ],
   "source": [
    "import torch\n",
    "import hydra\n",
    "from omegaconf import DictConfig, OmegaConf\n",
    "from hydra.core.global_hydra import GlobalHydra\n",
    "\n",
    "from encoder_trainer import EncoderTrainer\n",
    "\n",
    "import numpy as np\n",
    "import seaborn as sns\n",
    "import matplotlib.pyplot as plt\n",
    "from scipy.special import rel_entr  # KL divergence computation"
   ]
  },
  {
   "cell_type": "code",
   "execution_count": 4,
   "id": "2ea3c333",
   "metadata": {},
   "outputs": [
    {
     "name": "stdout",
     "output_type": "stream",
     "text": [
      "autoencoder:\n",
      "  optimizer:\n",
      "    name: stableadam\n",
      "    learning_rate: 0.0002\n",
      "    warmup_lr: 1.0e-08\n",
      "    min_lr: 0.0001\n",
      "    weight_decay: 1.0e-05\n",
      "    eps: 1.0e-06\n",
      "    betas:\n",
      "    - 0.9\n",
      "    - 0.98\n",
      "    linear_warmup: 1000\n",
      "    grad_clip_norm: 10.0\n",
      "  model:\n",
      "    checkpoints_prefix: autoencoder\n",
      "    text_encoder: bert-base-cased\n",
      "    text_encoder_freeze_params: true\n",
      "    num_workers: 30\n",
      "    load_checkpoint: null\n",
      "    enc_path: null\n",
      "  latent:\n",
      "    dim: 768\n",
      "    resolutions:\n",
      "    - 1\n",
      "    - 1\n",
      "    - 2\n",
      "    - 4\n",
      "  hidden:\n",
      "    size: 768\n",
      "  loss:\n",
      "    level_weights:\n",
      "    - 1.0\n",
      "    - 1.0\n",
      "    - 1.0\n",
      "    - 1.0\n",
      "  training:\n",
      "    training_iters: 50000\n",
      "    batch_size: 512\n",
      "    batch_size_per_gpu: 512\n",
      "  params:\n",
      "    text_encoder: 0\n",
      "    encoder: 0\n",
      "    decoder: 0\n",
      "    total: 0\n",
      "  all_params: dict()\n",
      "  logging:\n",
      "    log_freq: 10\n",
      "    eval_freq: 10000\n",
      "encoder:\n",
      "  attention:\n",
      "    head_size: 64\n",
      "    num_heads: 12\n",
      "    probs_dropout: 0.0\n",
      "    qk_norm: true\n",
      "    implementation: flash_attention_2\n",
      "  embedding:\n",
      "    dim: 768\n",
      "    max_position_embeddings: 512\n",
      "    initializer_range: 0.02\n",
      "  hidden:\n",
      "    size: 768\n",
      "    dropout: 0.1\n",
      "    num_layers: 12\n",
      "    ff_mult: 4\n",
      "  latent:\n",
      "    dim: 768\n",
      "    resolutions: null\n",
      "  normalization:\n",
      "    layer_eps: 1.0e-05\n",
      "  model:\n",
      "    text_encoder: bert-base-cased\n",
      "    text_encoder_freeze_params: true\n",
      "    mlm_probability: 0.3\n",
      "    bert_masking: true\n",
      "  tokens:\n",
      "    vocab_size: 28996\n",
      "decoder:\n",
      "  attention:\n",
      "    head_size: 64\n",
      "    num_heads: 12\n",
      "    probs_dropout: 0.0\n",
      "    qk_norm: true\n",
      "    implementation: flash_attention_2\n",
      "  embedding:\n",
      "    dim: 768\n",
      "    max_position_embeddings: 512\n",
      "    initializer_range: 0.02\n",
      "  hidden:\n",
      "    size: 768\n",
      "    dropout: 0.1\n",
      "    num_layers: 6\n",
      "    ff_mult: 4\n",
      "  latent:\n",
      "    dim: 768\n",
      "    resolutions: null\n",
      "  normalization:\n",
      "    layer_eps: 1.0e-05\n",
      "  model:\n",
      "    text_encoder: bert-base-cased\n",
      "    text_encoder_freeze_params: true\n",
      "    mlm_probabilities:\n",
      "    - 0.7\n",
      "    - 0.8\n",
      "    - 0.9\n",
      "    - 1.0\n",
      "    bert_masking: true\n",
      "  tokens:\n",
      "    vocab_size: 28996\n",
      "    mask_token_id: 103\n",
      "dataset:\n",
      "  name: wikipedia-bloom\n",
      "  dataset_path: ${project.path}/data/${.name}\n",
      "  max_sequence_len: 128\n",
      "  swap_cfg_coef: 0.0\n",
      "  metrics:\n",
      "  - mauve\n",
      "  - ppl\n",
      "  - div\n",
      "tokenizer:\n",
      "  add_special_tokens: true\n",
      "  padding: true\n",
      "  truncation: true\n",
      "  return_tensors: pt\n",
      "  return_attention_mask: true\n",
      "  return_token_type_ids: false\n",
      "diffusion:\n",
      "  optimizer:\n",
      "    name: stableadam\n",
      "    learning_rate: 0.0002\n",
      "    warmup_lr: 1.0e-08\n",
      "    min_lr: 0.0002\n",
      "    weight_decay: 1.0e-05\n",
      "    eps: 1.0e-06\n",
      "    betas:\n",
      "    - 0.9\n",
      "    - 0.98\n",
      "    linear_warmup: 1000\n",
      "    grad_clip_norm: 1.0\n",
      "  model:\n",
      "    checkpoints_prefix: diffusion\n",
      "    num_workers: 30\n",
      "    load_checkpoint: null\n",
      "  training:\n",
      "    training_iters: 100000\n",
      "    batch_size: 512\n",
      "    batch_size_per_gpu: 512\n",
      "  generation:\n",
      "    num_gen_texts: 1000\n",
      "    texts_dir_path: generated_texts\n",
      "  diffusion:\n",
      "    T: 1.0\n",
      "    eps: 1.0e-05\n",
      "    use_self_cond: true\n",
      "    t_min: 0.01\n",
      "    is_conditional: false\n",
      "  ema:\n",
      "    decay: 0.9999\n",
      "  dynamic:\n",
      "    'N': 500\n",
      "    scheduler: tanh\n",
      "    d: 10\n",
      "    solver: euler\n",
      "    ode_sampling: false\n",
      "  params:\n",
      "    score_estimator: 0\n",
      "  all_params: dict()\n",
      "  logging:\n",
      "    log_freq: 10\n",
      "    eval_freq: 20000\n",
      "  architecture:\n",
      "    unconditional_encoder:\n",
      "      hidden_size: 768\n",
      "      intermediate_size: 3072\n",
      "      num_hidden_layers: 12\n",
      "      num_attention_heads: 12\n",
      "      attention_head_size: 64\n",
      "      attention_probs_dropout_prob: 0.0\n",
      "      layer_norm_eps: 1.0e-05\n",
      "      rope_theta: 10000.0\n",
      "      max_position_embeddings: 512\n",
      "    time_embedding:\n",
      "      max_period: 10\n",
      "    conditional_encoder:\n",
      "      hidden_size: 768\n",
      "      num_hidden_layers: 12\n",
      "      num_attention_heads: 12\n",
      "      max_position_embeddings: 512\n",
      "project:\n",
      "  path: ${oc.env:PROJECT_ROOT}\n",
      "  seed: 0\n",
      "  output_dir: ${project.path}/outputs/\n",
      "  checkpoint_dir: ${project.path}/checkpoints/\n",
      "  name: hierarchical-diffusion-v1.1-reconstruction\n",
      "ddp:\n",
      "  enabled: true\n",
      "  local_rank: ${oc.env:LOCAL_RANK,0}\n",
      "  global_rank: ${oc.env:RANK,0}\n",
      "  world_size: ${oc.env:WORLD_SIZE,1}\n",
      "model:\n",
      "  text_encoder: bert-base-cased\n",
      "training: autoencoder\n",
      "\n"
     ]
    },
    {
     "name": "stderr",
     "output_type": "stream",
     "text": [
      "/home/jovyan/.mlspace/envs/dif_env_v2/lib/python3.11/site-packages/hydra/_internal/defaults_list.py:251: UserWarning: In 'config': Defaults list is missing `_self_`. See https://hydra.cc/docs/1.2/upgrades/1.0_to_1.1/default_composition_order for more information\n",
      "  warnings.warn(msg, UserWarning)\n"
     ]
    }
   ],
   "source": [
    "device = torch.device(\"cuda\" if torch.cuda.is_available() else \"cpu\")\n",
    "\n",
    "# Reset Hydra to avoid conflicts if already initialized\n",
    "GlobalHydra.instance().clear()\n",
    "\n",
    "# Initialize Hydra and load config manually\n",
    "hydra.initialize(config_path=\"../conf\", version_base=None)  # Set path to your configs\n",
    "\n",
    "# Load the configuration\n",
    "cfg = hydra.compose(config_name=\"config\")  # Replace with your main config file\n",
    "\n",
    "# Print the loaded config\n",
    "print(OmegaConf.to_yaml(cfg))"
   ]
  },
  {
   "cell_type": "code",
   "execution_count": 5,
   "id": "e2005a1d-ff1a-4cb1-98a9-6a4d0795315e",
   "metadata": {},
   "outputs": [],
   "source": [
    "\n",
    "from datasets import Dataset, load_from_disk"
   ]
  },
  {
   "cell_type": "code",
   "execution_count": 6,
   "id": "730cfde1",
   "metadata": {},
   "outputs": [],
   "source": [
    "# Setup the config\n",
    "cfg.ddp.enabled = False\n",
    "cfg.autoencoder.model.load_checkpoint = \"./autoencoderlatent_dim=768-latent_resolutions=[1, 1, 2, 4]-bert_model=bert-base-cased-text_encoder_freeze_params=True-level_weights=[1.0, 1.0, 1.0, 1.0]-bert_masking=True/40000.pth\"\n"
   ]
  },
  {
   "cell_type": "code",
   "execution_count": 8,
   "id": "7bd567bc-910c-4f6f-9432-909681fa8ea5",
   "metadata": {
    "scrolled": true
   },
   "outputs": [
    {
     "name": "stderr",
     "output_type": "stream",
     "text": [
      "/home/jovyan/.mlspace/envs/dif_env_v2/lib/python3.11/site-packages/transformers/tokenization_utils_base.py:1601: FutureWarning: `clean_up_tokenization_spaces` was not set. It will be set to `True` by default. This behavior will be depracted in transformers v4.45, and will be then set to `False` by default. For more details check this issue: https://github.com/huggingface/transformers/issues/31884\n",
      "  warnings.warn(\n",
      "/home/jovyan/vmeshchaninov/HierarchicalDiffusion/encoder_trainer.py:301: FutureWarning: You are using `torch.load` with `weights_only=False` (the current default value), which uses the default pickle module implicitly. It is possible to construct malicious pickle data which will execute arbitrary code during unpickling (See https://github.com/pytorch/pytorch/blob/main/SECURITY.md#untrusted-models for more details). In a future release, the default value for `weights_only` will be flipped to `True`. This limits the functions that could be executed during unpickling. Arbitrary objects will no longer be allowed to be loaded via this mode unless they are explicitly allowlisted by the user via `torch.serialization.add_safe_globals`. We recommend you start setting `weights_only=True` for any use case where you don't have full control of the loaded file. Please open an issue on GitHub for any issues related to this experimental feature.\n",
      "  prefix_folder = os.path.join(self.cfg.project.checkpoint_dir, self.cfg.autoencoder.model.checkpoints_prefix)\n"
     ]
    },
    {
     "name": "stdout",
     "output_type": "stream",
     "text": [
      "Checkpotint ./autoencoderlatent_dim=768-latent_resolutions=[1, 1, 2, 4]-bert_model=bert-base-cased-text_encoder_freeze_params=True-level_weights=[1.0, 1.0, 1.0, 1.0]-bert_masking=True/40000.pth loaded\n"
     ]
    },
    {
     "name": "stderr",
     "output_type": "stream",
     "text": [
      "/home/jovyan/vmeshchaninov/HierarchicalDiffusion/encoder_trainer.py:215: FutureWarning: `torch.cuda.amp.GradScaler(args...)` is deprecated. Please use `torch.amp.GradScaler('cuda', args...)` instead.\n",
      "  def _setup_train_data_generator(self) -> None:\n",
      "/home/jovyan/vmeshchaninov/HierarchicalDiffusion/encoder_trainer.py:286: FutureWarning: You are using `torch.load` with `weights_only=False` (the current default value), which uses the default pickle module implicitly. It is possible to construct malicious pickle data which will execute arbitrary code during unpickling (See https://github.com/pytorch/pytorch/blob/main/SECURITY.md#untrusted-models for more details). In a future release, the default value for `weights_only` will be flipped to `True`. This limits the functions that could be executed during unpickling. Arbitrary objects will no longer be allowed to be loaded via this mode unless they are explicitly allowlisted by the user via `torch.serialization.add_safe_globals`. We recommend you start setting `weights_only=True` for any use case where you don't have full control of the loaded file. Please open an issue on GitHub for any issues related to this experimental feature.\n",
      "  self.decoder.load_state_dict(state_dict[\"decoder\"])\n"
     ]
    },
    {
     "name": "stdout",
     "output_type": "stream",
     "text": [
      "Checkpotint ./autoencoderlatent_dim=768-latent_resolutions=[1, 1, 2, 4]-bert_model=bert-base-cased-text_encoder_freeze_params=True-level_weights=[1.0, 1.0, 1.0, 1.0]-bert_masking=True/40000.pth loaded\n"
     ]
    }
   ],
   "source": [
    "trainer = EncoderTrainer(cfg)"
   ]
  },
  {
   "cell_type": "code",
   "execution_count": 10,
   "id": "06177f95-8488-4f41-b0f6-2d35c01ec153",
   "metadata": {},
   "outputs": [],
   "source": [
    "path_to_data = f\"{PROJECT_ROOT}/data/en_wiki_paraphrase\"\n",
    "data = load_from_disk(path_to_data)"
   ]
  },
  {
   "cell_type": "code",
   "execution_count": 11,
   "id": "c61bcc79",
   "metadata": {},
   "outputs": [
    {
     "data": {
      "text/plain": [
       "['anchor',\n",
       " 'positive',\n",
       " 'positive_score',\n",
       " 'hard_negative_1',\n",
       " 'hard_negative_score_1',\n",
       " 'hard_negative_2',\n",
       " 'hard_negative_score_2']"
      ]
     },
     "execution_count": 11,
     "metadata": {},
     "output_type": "execute_result"
    }
   ],
   "source": [
    "data.column_names"
   ]
  },
  {
   "cell_type": "code",
   "execution_count": 12,
   "id": "d8f0a241",
   "metadata": {},
   "outputs": [],
   "source": [
    "def get_latent(text):\n",
    "    tokenized = trainer.tokenizer(\n",
    "        text,\n",
    "        add_special_tokens=True,\n",
    "        padding=True,\n",
    "        truncation=True,\n",
    "        max_length=trainer.cfg.dataset.max_sequence_len,\n",
    "        return_tensors=\"pt\",\n",
    "        return_attention_mask=True,\n",
    "        return_token_type_ids=False,\n",
    "    ).to(device)\n",
    "\n",
    "    with torch.autocast(device_type='cuda', dtype=torch.bfloat16), torch.no_grad():\n",
    "        latents = trainer.encoder(token_ids=tokenized[\"input_ids\"], mask_tokens=tokenized[\"attention_mask\"])\n",
    "    return latents, tokenized\n"
   ]
  },
  {
   "cell_type": "code",
   "execution_count": null,
   "id": "4504e7f9-9699-4bb8-8686-356f33182733",
   "metadata": {},
   "outputs": [
    {
     "name": "stdout",
     "output_type": "stream",
     "text": [
      "torch.Size([10000, 8, 768])\n"
     ]
    },
    {
     "name": "stderr",
     "output_type": "stream",
     "text": [
      "/home/jovyan/.mlspace/envs/dif_env_v2/lib/python3.11/contextlib.py:105: FutureWarning: `torch.backends.cuda.sdp_kernel()` is deprecated. In the future, this context manager will be removed. Please see `torch.nn.attention.sdpa_kernel()` for the new context manager, with updated signature.\n",
      "  self.gen = func(*args, **kwds)\n"
     ]
    }
   ],
   "source": [
    "latent, tokenized = get_latent(data[\"anchor\"])\n",
    "\n",
    "print(latent.shape)"
   ]
  },
  {
   "cell_type": "code",
   "execution_count": 19,
   "id": "6e0721f6",
   "metadata": {},
   "outputs": [
    {
     "data": {
      "text/plain": [
       "tensor([[ 0.1920,  0.6462, -0.1106,  ..., -0.1756, -0.3116,  0.3221],\n",
       "        [-0.2595,  0.0559,  0.2472,  ..., -0.2992,  0.1662,  0.2706],\n",
       "        [-0.5680,  0.2027, -0.6451,  ..., -0.9619,  0.3796,  1.2550],\n",
       "        ...,\n",
       "        [-0.1474, -0.0019,  0.6934,  ...,  0.3008, -0.4152, -0.6913],\n",
       "        [ 0.0434,  0.6120, -0.1385,  ..., -0.3313,  0.0220,  0.7733],\n",
       "        [ 0.1704,  0.2951,  1.2670,  ...,  0.4809, -0.5355, -0.8067]],\n",
       "       device='cuda:0')"
      ]
     },
     "execution_count": 19,
     "metadata": {},
     "output_type": "execute_result"
    }
   ],
   "source": [
    "latent.mean(dim=0)"
   ]
  },
  {
   "cell_type": "code",
   "execution_count": 14,
   "id": "597b4c8e",
   "metadata": {},
   "outputs": [
    {
     "data": {
      "text/plain": [
       "tensor([[0.8373, 0.8472, 0.8223,  ..., 0.8419, 0.8337, 0.8340],\n",
       "        [0.8762, 0.9001, 0.8438,  ..., 0.9373, 0.9543, 0.8898],\n",
       "        [0.5329, 0.5515, 0.5541,  ..., 0.6027, 0.6011, 0.5707],\n",
       "        ...,\n",
       "        [0.7466, 0.6993, 0.7375,  ..., 0.8250, 0.8074, 0.7529],\n",
       "        [0.7634, 0.7105, 0.7634,  ..., 0.7968, 0.8157, 0.7769],\n",
       "        [0.6632, 0.5925, 0.6480,  ..., 0.7261, 0.7003, 0.6203]],\n",
       "       device='cuda:0')"
      ]
     },
     "execution_count": 14,
     "metadata": {},
     "output_type": "execute_result"
    }
   ],
   "source": [
    "latent.std(dim=0)"
   ]
  },
  {
   "cell_type": "code",
   "execution_count": 15,
   "id": "754e881e",
   "metadata": {},
   "outputs": [
    {
     "data": {
      "text/plain": [
       "tensor(0.7442, device='cuda:0')"
      ]
     },
     "execution_count": 15,
     "metadata": {},
     "output_type": "execute_result"
    }
   ],
   "source": [
    "latent.std(dim=0).mean()"
   ]
  },
  {
   "cell_type": "code",
   "execution_count": 16,
   "id": "6918bd51",
   "metadata": {},
   "outputs": [
    {
     "data": {
      "text/plain": [
       "tensor(0.5079, device='cuda:0')"
      ]
     },
     "execution_count": 16,
     "metadata": {},
     "output_type": "execute_result"
    }
   ],
   "source": [
    "latent.std(dim=0).min()"
   ]
  },
  {
   "cell_type": "code",
   "execution_count": 17,
   "id": "dc833af2",
   "metadata": {},
   "outputs": [
    {
     "data": {
      "text/plain": [
       "tensor(1.3270, device='cuda:0')"
      ]
     },
     "execution_count": 17,
     "metadata": {},
     "output_type": "execute_result"
    }
   ],
   "source": [
    "latent.std(dim=0).max()"
   ]
  },
  {
   "cell_type": "code",
   "execution_count": 18,
   "id": "f859369b",
   "metadata": {},
   "outputs": [
    {
     "data": {
      "text/plain": [
       "tensor(0.7551, device='cuda:0')"
      ]
     },
     "execution_count": 18,
     "metadata": {},
     "output_type": "execute_result"
    }
   ],
   "source": [
    "latent.std(dim=0).median()"
   ]
  },
  {
   "cell_type": "code",
   "execution_count": null,
   "id": "68955d38",
   "metadata": {},
   "outputs": [],
   "source": []
  },
  {
   "cell_type": "code",
   "execution_count": null,
   "id": "4e5946ac",
   "metadata": {},
   "outputs": [],
   "source": []
  },
  {
   "cell_type": "code",
   "execution_count": 169,
   "id": "bd56475e",
   "metadata": {},
   "outputs": [],
   "source": [
    "positive_texts = data[\"positive\"]\n",
    "negative_texts = []\n",
    "for i in range(len(positive_texts)):\n",
    "    random_index = i\n",
    "    while i == random_index:\n",
    "        random_index = np.random.randint(0, len(positive_texts))\n",
    "\n",
    "    negative_texts.append(positive_texts[random_index])\n",
    "\n",
    "negative_latent, negative_tokenized = get_latent(negative_texts)"
   ]
  },
  {
   "cell_type": "code",
   "execution_count": 170,
   "id": "1a10b213-3724-4d3c-9dbf-78b72b6de0c7",
   "metadata": {},
   "outputs": [],
   "source": [
    "def cosine(a, b):\n",
    "    a = a / torch.norm(a, dim=1, p=2)[:, None]\n",
    "    b = b / torch.norm(b, dim=1, p=2)[:, None]\n",
    "    return torch.sum(a * b, dim=1)"
   ]
  },
  {
   "cell_type": "code",
   "execution_count": 171,
   "id": "778cdd61",
   "metadata": {},
   "outputs": [],
   "source": [
    "num_samples = anchor_latent.shape[0]\n",
    "\n",
    "with torch.autocast(device_type='cuda', dtype=torch.bfloat16), torch.no_grad():\n",
    "    positive_scores = (cosine(anchor_latent.reshape(num_samples, -1), positive_latent.reshape(num_samples, -1)) * 100.).detach().cpu()\n",
    "    hard_negative_scores = (cosine(anchor_latent.reshape(num_samples, -1), hard_negative_latent.reshape(num_samples, -1)) * 100.).detach().cpu()\n",
    "    negative_scores = (cosine(anchor_latent.reshape(num_samples, -1), negative_latent.reshape(num_samples, -1)) * 100.).detach().cpu()"
   ]
  },
  {
   "cell_type": "code",
   "execution_count": 172,
   "id": "19fb8e1c",
   "metadata": {},
   "outputs": [],
   "source": [
    "def KL_divergence(positive_scores, negative_scores, bins):\n",
    "    # Compute histograms\n",
    "    positive_hist, _ = np.histogram(positive_scores, bins=bins, density=True)\n",
    "    negative_hist, _ = np.histogram(negative_scores, bins=bins, density=True)\n",
    "\n",
    "    # Avoid zero probabilities by adding a small constant (epsilon)\n",
    "    epsilon = 1e-10\n",
    "    positive_hist += epsilon\n",
    "    negative_hist += epsilon\n",
    "\n",
    "    # Compute KL divergence (P || Q)\n",
    "    kl_div = np.sum(rel_entr(positive_hist, negative_hist))\n",
    "\n",
    "    return kl_div"
   ]
  },
  {
   "cell_type": "code",
   "execution_count": 173,
   "id": "1603dbf4",
   "metadata": {},
   "outputs": [
    {
     "data": {
      "image/png": "[encoded data removed]",
      "text/plain": [
       "<Figure size 1500x600 with 1 Axes>"
      ]
     },
     "metadata": {},
     "output_type": "display_data"
    }
   ],
   "source": [
    "# Set the style for an awesome look\n",
    "sns.set_style(\"whitegrid\")\n",
    "plt.figure(figsize=(15, 6))\n",
    "\n",
    "font_size = 20\n",
    "num_bins = 50\n",
    "bins = np.linspace(0, 100, num_bins + 1)\n",
    "\n",
    "# Plot histograms\n",
    "sns.histplot(positive_scores, bins=bins, kde=True, color=\"green\", label=\"Positive\", alpha=0.7, edgecolor=\"black\")\n",
    "sns.histplot(hard_negative_scores, bins=bins, kde=True, color=\"#FF7F00\", label=\"Hard Negative\", alpha=0.7, edgecolor=\"black\")\n",
    "sns.histplot(negative_scores, bins=bins, kde=True, color=\"#FFCC00\", label=\"Negative\", alpha=0.7, edgecolor=\"black\")\n",
    "\n",
    "# Add title and labels with a creative touch\n",
    "# Title with colored text\n",
    "# plt.title(\"Positivity vs Negativity: A Histogram of Contrasts\", fontsize=font_size + 10, fontweight=\"bold\", pad=15)\n",
    "\n",
    "plt.xlabel(\"Similarity Score\", fontsize=font_size + 5)\n",
    "plt.ylabel(\"Frequency\", fontsize=font_size + 5)\n",
    "\n",
    "# Adjust tick sizes\n",
    "plt.xticks(fontsize=font_size - 5)\n",
    "plt.yticks(fontsize=font_size - 5)\n",
    "\n",
    "# Add legend\n",
    "legend = plt.legend(frameon=True, loc=\"upper right\", prop={'weight': 'bold', 'size': font_size}, edgecolor=\"black\")  # Positioned at the upper right with bold text\n",
    "\n",
    "# Get legend position\n",
    "legend_bbox = legend.get_window_extent().transformed(plt.gcf().dpi_scale_trans.inverted())\n",
    "\n",
    "# Add KL Divergence text below the legend\n",
    "kl_hard = KL_divergence(positive_scores, hard_negative_scores, bins)\n",
    "kl = KL_divergence(positive_scores, negative_scores, bins)\n",
    "\n",
    "plt.gcf().text(\n",
    "    (plt.gcf().dpi_scale_trans.get_matrix()[0, 0] - legend_bbox.x0 - 22) / plt.gcf().dpi_scale_trans.get_matrix()[0, 0],\n",
    "    (plt.gcf().dpi_scale_trans.get_matrix()[1, 1] - legend_bbox.y0 - 45) / plt.gcf().dpi_scale_trans.get_matrix()[1, 1],  # Match legend x position\n",
    "    f\"KL hard: {kl_hard:.2f}\\n\" + f\"KL: {kl:.2f}\",\n",
    "    fontsize=font_size, fontweight=\"bold\", \n",
    "    bbox=dict(facecolor=\"white\", alpha=1.0, edgecolor=\"black\", boxstyle=\"round\")\n",
    ")\n",
    "\n",
    "\n",
    "# Save as PDF\n",
    "plt.savefig(f\"{PROJECT_ROOT}/experiments/results/{EXP_NAME}/histogram.pdf\", format=\"pdf\", bbox_inches=\"tight\")\n",
    "\n",
    "# Show the plot\n",
    "plt.show()"
   ]
  },
  {
   "cell_type": "code",
   "execution_count": 174,
   "id": "827deb28",
   "metadata": {},
   "outputs": [],
   "source": [
    "import json\n",
    "\n",
    "result = {\n",
    "    \"positive_scores\": positive_scores.tolist(),\n",
    "    \"hard_negative_scores\": hard_negative_scores.tolist(),\n",
    "    \"negative_scores\": negative_scores.tolist(),\n",
    "    \"kl_hard\": kl_hard,\n",
    "    \"kl\": kl,\n",
    "}\n",
    "json.dump(result, open(f\"{PROJECT_ROOT}/experiments/results/{EXP_NAME}/result.json\", \"w\"), indent=4)"
   ]
  },
  {
   "cell_type": "code",
   "execution_count": null,
   "id": "8f3e0519",
   "metadata": {},
   "outputs": [],
   "source": []
  },
  {
   "cell_type": "code",
   "execution_count": null,
   "id": "c8888f69",
   "metadata": {},
   "outputs": [],
   "source": []
  }
 ],
 "metadata": {
  "kernelspec": {
   "display_name": "dif_env_v2",
   "language": "python",
   "name": "python3"
  },
  "language_info": {
   "codemirror_mode": {
    "name": "ipython",
    "version": 3
   },
   "file_extension": ".py",
   "mimetype": "text/x-python",
   "name": "python",
   "nbconvert_exporter": "python",
   "pygments_lexer": "ipython3",
   "version": "3.11.11"
  }
 },
 "nbformat": 4,
 "nbformat_minor": 5
}
