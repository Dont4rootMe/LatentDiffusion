{
 "cells": [
  {
   "cell_type": "code",
   "execution_count": 2,
   "metadata": {},
   "outputs": [],
   "source": [
    "import torch\n",
    "import torch.nn.functional as F\n",
    "from transformers import AutoTokenizer, AutoModel\n",
    "from torch.utils.data import DataLoader\n",
    "from tqdm import tqdm\n",
    "import pandas as pd\n",
    "import numpy as np\n",
    "import matplotlib.pyplot as plt\n",
    "import seaborn as sns\n",
    "from evaluate import load\n",
    "import ast\n",
    "import json\n",
    "\n"
   ]
  },
  {
   "cell_type": "code",
   "execution_count": 3,
   "metadata": {},
   "outputs": [],
   "source": [
    "data_v10_interpolation = pd.read_csv(\"./interpolation-diffusion-rocstories-16-d=5-v1.0-t=0.1.csv\")\n",
    "data_v11_interpolation = pd.read_csv(\"./interpolation-diffusion-rocstories-16-d=5-v1.1-t=0.1.csv\")"
   ]
  },
  {
   "cell_type": "code",
   "execution_count": 13,
   "metadata": {},
   "outputs": [
    {
     "name": "stdout",
     "output_type": "stream",
     "text": [
      "Kay was drying clothes when she heard the washer stop. She assumed the load finished and went to change it to the washer. She was confused to see water in the washer. She tried to turn it on but the washer wouldn't turn back on. Kay had to wring her clothes out by hand to finish her laundry.\n",
      "Kay was drying clothes when she heard the washer stop. She assumed the load finished and went to change it to the washer. She was surprised to see water in the washer. She tried to turn it on but the washer wouldn't come back on. Kay had to war her clothes out by hand to finish her laundry.\n",
      "Ana was sleeping things sleep when reached her washer'door. She woke was in and went the dream. had to had to a dryer scared she saw her mom in it. But Ana didn to turn it to or her washer dcuray it on on. Ana kept to wrow her sleep back asleep. to finish her laundry.\n",
      "Ana was at a sleepover at her friend's house. She woke in the middle of the night. She'd had a bad dream and she wished her mom was there! But Ana didn't want to wake her friend and debarrass her. Instead, she kept lay quietly until she fell back asleep.\n",
      "Ana was at a sleepover at her friend's house. She woke in the middle of the night. She'd had a bad dream and she wished her mom was there! But Ana didn't want to wake her friend and embarrass her. Instead, she sat quiet quietly until she fell back asleep.\n"
     ]
    }
   ],
   "source": [
    "for ind in [0, 25, 50, 75, 99]:\n",
    "    texts = data_v11_interpolation.iloc[ind][\"pred_text\"]\n",
    "    texts = ast.literal_eval(texts)\n",
    "    print(texts[2])"
   ]
  },
  {
   "cell_type": "code",
   "execution_count": 14,
   "metadata": {},
   "outputs": [],
   "source": [
    "model_id = 'gpt2-large'\n",
    "perplexity = load(\"perplexity\", module_type=\"metric\", model_id=model_id)\n"
   ]
  },
  {
   "cell_type": "code",
   "execution_count": 15,
   "metadata": {},
   "outputs": [
    {
     "data": {
      "application/vnd.jupyter.widget-view+json": {
       "model_id": "7fceb893dde749d4b93c96344c282ea8",
       "version_major": 2,
       "version_minor": 0
      },
      "text/plain": [
       "  0%|          | 0/7 [00:00<?, ?it/s]"
      ]
     },
     "metadata": {},
     "output_type": "display_data"
    }
   ],
   "source": [
    "texts = data_v11_interpolation.iloc[50][\"pred_text\"]\n",
    "texts = ast.literal_eval(texts)\n",
    "\n",
    "ppl = perplexity.compute(\n",
    "    predictions=texts, \n",
    "    model_id=model_id, \n",
    "    device='cuda', \n",
    "    add_start_token=True,\n",
    ")[\"perplexities\"]"
   ]
  },
  {
   "cell_type": "code",
   "execution_count": 17,
   "metadata": {},
   "outputs": [
    {
     "data": {
      "text/plain": [
       "280.6277895736694"
      ]
     },
     "execution_count": 17,
     "metadata": {},
     "output_type": "execute_result"
    }
   ],
   "source": [
    "np.mean(ppl)"
   ]
  },
  {
   "cell_type": "code",
   "execution_count": 19,
   "metadata": {},
   "outputs": [
    {
     "data": {
      "text/plain": [
       "array([49,  4, 30, 75, 53, 10, 92, 69, 14, 27, 86, 21, 48, 38, 78, 52, 68,\n",
       "       88, 85, 93, 67,  3, 25, 36, 41, 83, 18, 29, 73, 80, 99, 13, 70, 19,\n",
       "       31,  9, 63, 46, 26, 97,  2, 47, 79, 56, 40, 64, 72,  7, 33, 91,  0,\n",
       "       57, 23, 84, 43, 15, 71, 74, 11, 90, 61, 32, 62,  1, 51, 45, 76, 77,\n",
       "       60, 58, 35, 12, 16, 44, 95, 87, 96, 24,  6,  8, 59, 81, 22, 98, 54,\n",
       "       39, 37, 89, 94, 82, 28,  5, 50, 20, 17, 66, 55, 65, 34, 42])"
      ]
     },
     "execution_count": 19,
     "metadata": {},
     "output_type": "execute_result"
    }
   ],
   "source": [
    "np.argsort(ppl)"
   ]
  },
  {
   "cell_type": "code",
   "execution_count": 29,
   "metadata": {},
   "outputs": [
    {
     "name": "stdout",
     "output_type": "stream",
     "text": [
      "Stewart invited me to his birthday party. I wasn't that good of friends with him so I couldn't find a gift. I texteded his girlfriend but she wasn't replying! Eventually I purchased a $ 25 gift card. He loved the gift so much and said it was the best one ever.\n",
      "Stewart invited my back her birthday party! I wasn't that good of a with her so I couldn't find a gift. I emailed her, but she wasn't replying! Eventually I purchased a $ 25 gift card. He loved the gift so much and said it was the best one ever.\n",
      "Kelly invited me got her birthday party for her birthday. Kelly thought it was a sweet one. I quickly put no put it on. When she tried it, she was disgusted. It was horrible!\n",
      "Kelly's boyfriend got her perfume for her birthday. Kelly thought it was a sweet gift. She immediately put some of it on. When she tried it, she was disgusted. It was horrible.\n",
      "Kelly's boyfriend got her perfume for her birthday. Kelly thought it was a sweet gesture. She immediately put some of it on. When she tried it, she was disgusted. It was horrible.\n"
     ]
    }
   ],
   "source": [
    "text_ind = 49\n",
    "for ind in [0, 40, 50, 60, 99]:\n",
    "    texts = data_v11_interpolation.iloc[ind][\"pred_text\"]\n",
    "    texts = ast.literal_eval(texts)\n",
    "    print(texts[text_ind])"
   ]
  },
  {
   "cell_type": "code",
   "execution_count": 4,
   "metadata": {},
   "outputs": [],
   "source": [
    "data = json.load(open(\"interpolation-all_times-diffusion-rocstories-16-d=5-v2.3.4.json\", \"r\"))"
   ]
  },
  {
   "cell_type": "code",
   "execution_count": 5,
   "metadata": {},
   "outputs": [
    {
     "data": {
      "text/plain": [
       "dict_keys(['0.0', '0.1', '0.2', '0.3', '0.4', '0.5', '0.6', '0.7', '0.8', '0.9', '1.0'])"
      ]
     },
     "execution_count": 5,
     "metadata": {},
     "output_type": "execute_result"
    }
   ],
   "source": [
    "data.keys()"
   ]
  },
  {
   "cell_type": "code",
   "execution_count": 6,
   "metadata": {},
   "outputs": [
    {
     "data": {
      "text/plain": [
       "dict_keys(['alpha', 'pred_text', 'x_t_texts'])"
      ]
     },
     "execution_count": 6,
     "metadata": {},
     "output_type": "execute_result"
    }
   ],
   "source": [
    "data[\"0.0\"].keys()"
   ]
  },
  {
   "cell_type": "code",
   "execution_count": 7,
   "metadata": {},
   "outputs": [
    {
     "data": {
      "text/plain": [
       "100"
      ]
     },
     "execution_count": 7,
     "metadata": {},
     "output_type": "execute_result"
    }
   ],
   "source": [
    "len(data[\"0.0\"][\"pred_text\"])"
   ]
  },
  {
   "cell_type": "code",
   "execution_count": 8,
   "metadata": {},
   "outputs": [],
   "source": [
    "t = 50"
   ]
  },
  {
   "cell_type": "code",
   "execution_count": 9,
   "metadata": {},
   "outputs": [
    {
     "data": {
      "text/plain": [
       "1024"
      ]
     },
     "execution_count": 9,
     "metadata": {},
     "output_type": "execute_result"
    }
   ],
   "source": [
    "len(data[\"0.0\"][\"pred_text\"][t])"
   ]
  },
  {
   "cell_type": "code",
   "execution_count": 12,
   "metadata": {},
   "outputs": [],
   "source": [
    "ppl_data = json.load(open(\"interpolation-all_times-diffusion-rocstories-16-d=5-v2.3.4-ppl.json\", \"r\"))"
   ]
  },
  {
   "cell_type": "code",
   "execution_count": 19,
   "metadata": {},
   "outputs": [
    {
     "data": {
      "text/plain": [
       "array([376, 727,   8,  94, 382,  26, 231, 489, 659, 777])"
      ]
     },
     "execution_count": 19,
     "metadata": {},
     "output_type": "execute_result"
    }
   ],
   "source": [
    "np.argsort(ppl_data[\"0.0\"][t])[::-1][:10]\n"
   ]
  },
  {
   "cell_type": "code",
   "execution_count": null,
   "metadata": {},
   "outputs": [],
   "source": [
    "\n"
   ]
  },
  {
   "cell_type": "code",
   "execution_count": 23,
   "metadata": {},
   "outputs": [
    {
     "name": "stdout",
     "output_type": "stream",
     "text": [
      "text_1: Kurt graduated from law school ten years ago. His school held a ten - year class reunion. At the reunion, Kurt bragged about how many Twitter followers he had. The other attorneys at the reunion laughed behind his back. Kurt did not realize how shallow and stupid he looked at the reunion.\n",
      "text_m: Kurt graduated up law school ten school ago. needed to hold on ten eye year class reunion. At kind of sore Kurt bragged about many times Twitter't had on the other makeup. Instead reunion decided to go back school without it. realize ended shallow loving stupid he adopted it as the permanent look.\n",
      "text_2: Tammy woke up one morning before school. She needed to put on her eye makeup but she had some type of sore. She tried several times but couldn't put on her eye makeup. Instead she decided to go to school without it. She ended up loving it and adopted it as her permanent look.\n"
     ]
    }
   ],
   "source": [
    "ind = 94\n",
    "text_1 = data[\"0.0\"][\"pred_text\"][0][ind]\n",
    "text_m = data[\"0.0\"][\"pred_text\"][t][ind]\n",
    "text_2 = data[\"0.0\"][\"pred_text\"][-1][ind]\n",
    "\n",
    "print(f\"text_1: {text_1}\")\n",
    "print(f\"text_m: {text_m}\")\n",
    "print(f\"text_2: {text_2}\")\n"
   ]
  },
  {
   "cell_type": "code",
   "execution_count": null,
   "metadata": {},
   "outputs": [],
   "source": [
    "ppl_"
   ]
  }
 ],
 "metadata": {
  "language_info": {
   "name": "python"
  }
 },
 "nbformat": 4,
 "nbformat_minor": 2
}
